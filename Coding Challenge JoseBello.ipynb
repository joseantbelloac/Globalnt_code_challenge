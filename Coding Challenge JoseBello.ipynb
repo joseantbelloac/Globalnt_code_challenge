{
 "cells": [
  {
   "cell_type": "markdown",
   "metadata": {
    "application/vnd.databricks.v1+cell": {
     "cellMetadata": {},
     "inputWidgets": {},
     "nuid": "22c5658c-80ba-47bb-be56-adb5ad3dd7ae",
     "showTitle": false,
     "tableResultSettingsMap": {},
     "title": ""
    }
   },
   "source": [
    "#**Section 2: SQL**"
   ]
  },
  {
   "cell_type": "markdown",
   "metadata": {
    "application/vnd.databricks.v1+cell": {
     "cellMetadata": {},
     "inputWidgets": {},
     "nuid": "114c3001-57f9-4e04-ba48-be78405bdcb7",
     "showTitle": false,
     "tableResultSettingsMap": {},
     "title": ""
    }
   },
   "source": [
    "###Importing required libraries"
   ]
  },
  {
   "cell_type": "code",
   "execution_count": 0,
   "metadata": {
    "application/vnd.databricks.v1+cell": {
     "cellMetadata": {
      "byteLimit": 2048000,
      "rowLimit": 10000
     },
     "inputWidgets": {},
     "nuid": "07ac2ad6-76f5-45de-bb84-aabbf02c7163",
     "showTitle": false,
     "tableResultSettingsMap": {},
     "title": ""
    }
   },
   "outputs": [],
   "source": [
    "from pyspark.sql import SparkSession, functions\n",
    "from pyspark.sql.types import *\n",
    "spark = SparkSession.builder.getOrCreate()\n",
    "\n",
    " "
   ]
  },
  {
   "cell_type": "markdown",
   "metadata": {
    "application/vnd.databricks.v1+cell": {
     "cellMetadata": {},
     "inputWidgets": {},
     "nuid": "95b27c64-4323-475a-9b63-849dd4c4bbdf",
     "showTitle": false,
     "tableResultSettingsMap": {},
     "title": ""
    }
   },
   "source": [
    "##Defining files schemas \n"
   ]
  },
  {
   "cell_type": "code",
   "execution_count": 0,
   "metadata": {
    "application/vnd.databricks.v1+cell": {
     "cellMetadata": {
      "byteLimit": 2048000,
      "rowLimit": 10000
     },
     "inputWidgets": {},
     "nuid": "7040b327-4203-40c6-b719-a49cf7511748",
     "showTitle": false,
     "tableResultSettingsMap": {},
     "title": ""
    }
   },
   "outputs": [],
   "source": [
    "#departments schema\n",
    "departments_schema= StructType([\\\n",
    "    StructField(\"id\",IntegerType(), False),\\\n",
    "    StructField(\"department\",StringType(),True) ])\n",
    "\n",
    "#jobs schema \n",
    "jobs_schema = StructType([\\\n",
    "    StructField(\"id\",IntegerType(), False),\\\n",
    "    StructField(\"job\",StringType(),True) ])\n",
    "\n",
    "#hired_employees schema \n",
    "hired_employees_schema = StructType([\\\n",
    "    StructField(\"id\",IntegerType(), False),\\\n",
    "    StructField(\"name\",StringType(),True),\\\n",
    "    StructField(\"datetime\",StringType(),True),\\\n",
    "    StructField(\"department_id\",StringType(),True),\\\n",
    "    StructField(\"job_id\",StringType(),True) ])\n",
    "    \n"
   ]
  },
  {
   "cell_type": "markdown",
   "metadata": {
    "application/vnd.databricks.v1+cell": {
     "cellMetadata": {},
     "inputWidgets": {},
     "nuid": "e02cece2-e2a0-410e-b940-368730195176",
     "showTitle": false,
     "tableResultSettingsMap": {},
     "title": ""
    }
   },
   "source": [
    "##Loading files"
   ]
  },
  {
   "cell_type": "code",
   "execution_count": 0,
   "metadata": {
    "application/vnd.databricks.v1+cell": {
     "cellMetadata": {
      "byteLimit": 2048000,
      "rowLimit": 10000
     },
     "inputWidgets": {},
     "nuid": "d489a006-80e4-4b44-9772-34c45c891fb0",
     "showTitle": false,
     "tableResultSettingsMap": {},
     "title": ""
    }
   },
   "outputs": [],
   "source": [
    "#departments file loading\n",
    "departments = spark.read.format(\"csv\")\\\n",
    "    .option(\"header\", \"false\")\\\n",
    "    .schema(departments_schema)\\\n",
    "    .load(\"dbfs:/FileStore/globant_files/departments.csv\")\n",
    "\n",
    "jobs = spark.read.format(\"csv\")\\\n",
    "    .option(\"header\", \"false\")\\\n",
    "    .schema(jobs_schema)\\\n",
    "    .load(\"dbfs:/FileStore/globant_files/jobs.csv\")\n",
    "\n",
    "hired_employees = spark.read.format(\"csv\")\\\n",
    "    .option(\"header\", \"false\")\\\n",
    "    .schema(hired_employees_schema)\\\n",
    "    .load(\"dbfs:/FileStore/globant_files/hired_employees.csv\")"
   ]
  },
  {
   "cell_type": "markdown",
   "metadata": {
    "application/vnd.databricks.v1+cell": {
     "cellMetadata": {},
     "inputWidgets": {},
     "nuid": "6dc12a19-1833-4b0b-9a2e-d7b80f67528a",
     "showTitle": false,
     "tableResultSettingsMap": {},
     "title": ""
    }
   },
   "source": [
    "##Creating temporal views"
   ]
  },
  {
   "cell_type": "code",
   "execution_count": 0,
   "metadata": {
    "application/vnd.databricks.v1+cell": {
     "cellMetadata": {
      "byteLimit": 2048000,
      "rowLimit": 10000
     },
     "inputWidgets": {},
     "nuid": "e89e9268-a84a-4b1b-bb9a-4fa8dc9ab32b",
     "showTitle": false,
     "tableResultSettingsMap": {},
     "title": ""
    }
   },
   "outputs": [],
   "source": [
    "#creating temp views to work with SQL\n",
    "departments.createOrReplaceTempView(\"departments\")\n",
    "jobs.createOrReplaceTempView(\"jobs\")\n",
    "hired_employees.createOrReplaceTempView(\"hired_employees\")"
   ]
  },
  {
   "cell_type": "markdown",
   "metadata": {
    "application/vnd.databricks.v1+cell": {
     "cellMetadata": {},
     "inputWidgets": {},
     "nuid": "93b64404-c343-42e2-a427-96e2055e7773",
     "showTitle": false,
     "tableResultSettingsMap": {},
     "title": ""
    }
   },
   "source": [
    "##Defining queries parameters"
   ]
  },
  {
   "cell_type": "code",
   "execution_count": 0,
   "metadata": {
    "application/vnd.databricks.v1+cell": {
     "cellMetadata": {
      "byteLimit": 2048000,
      "rowLimit": 10000
     },
     "inputWidgets": {},
     "nuid": "05a40c1e-8199-4d4e-a636-e4e172211ba0",
     "showTitle": false,
     "tableResultSettingsMap": {},
     "title": ""
    }
   },
   "outputs": [],
   "source": [
    "year_to_analize=2021\n",
    "exclude_all_nulls=False\n",
    "exclude_name_nulls=False\n",
    "exclude_datetime_nulls=False\n",
    "exclude_department_nulls=False\n",
    "exclude_job_nulls=False"
   ]
  },
  {
   "cell_type": "code",
   "execution_count": 0,
   "metadata": {
    "application/vnd.databricks.v1+cell": {
     "cellMetadata": {
      "byteLimit": 2048000,
      "rowLimit": 10000
     },
     "inputWidgets": {},
     "nuid": "0dceac38-48ad-434a-9777-dabf10d0d26b",
     "showTitle": false,
     "tableResultSettingsMap": {},
     "title": ""
    }
   },
   "outputs": [],
   "source": [
    "def additional_filters(exclude_all_nulls,exclude_name_nulls,exclude_datetime_nulls,exclude_department_nulls,exclude_job_nulls):\n",
    "    #exclude any null-valued fields rows\n",
    "    if exclude_all_nulls:\n",
    "        additional_all_filters=\"\"\"\n",
    "            AND h.name IS NOT NULL\n",
    "            AND h.datetime IS NOT NULL\n",
    "            AND h.department_id IS NOT NULL\n",
    "            AND h.job_id IS NOT NULL\n",
    "            \"\"\"\n",
    "    else:\n",
    "        additional_all_filters=\" \"\n",
    "    \n",
    "    if exclude_name_nulls:\n",
    "        additional_name_filters=\"\"\" AND h.name IS NOT NULL \"\"\"\n",
    "    else:\n",
    "        additional_name_filters=\" \"\n",
    "    \n",
    "    if exclude_datetime_nulls:\n",
    "        additional_datetime_filters=\"\"\" AND h.datetime IS NOT NULL \"\"\"\n",
    "    else:\n",
    "        additional_datetime_filters=\" \"\n",
    "    \n",
    "    if exclude_department_nulls:\n",
    "        additional_department_filters=\"\"\" AND h.department IS NOT NULL \"\"\"\n",
    "    else:\n",
    "        additional_department_filters=\" \"\n",
    "    \n",
    "    if exclude_job_nulls:\n",
    "        additional_job_filters=\"\"\" AND h.job IS NOT NULL \"\"\"\n",
    "    else:\n",
    "        additional_job_filters=\" \"\n",
    "\n",
    "    return additional_all_filters+additional_name_filters+additional_datetime_filters+additional_department_filters+additional_job_filters\n",
    "    "
   ]
  },
  {
   "cell_type": "markdown",
   "metadata": {
    "application/vnd.databricks.v1+cell": {
     "cellMetadata": {},
     "inputWidgets": {},
     "nuid": "0456afe3-aa4f-4064-bcb4-cc65d7cd440c",
     "showTitle": false,
     "tableResultSettingsMap": {},
     "title": ""
    }
   },
   "source": [
    "##Solving first requirement"
   ]
  },
  {
   "cell_type": "code",
   "execution_count": 0,
   "metadata": {
    "application/vnd.databricks.v1+cell": {
     "cellMetadata": {
      "byteLimit": 2048000,
      "rowLimit": 10000
     },
     "inputWidgets": {},
     "nuid": "053ce226-5132-48d3-8eb0-52f214a56453",
     "showTitle": false,
     "tableResultSettingsMap": {},
     "title": ""
    }
   },
   "outputs": [
    {
     "output_type": "display_data",
     "data": {
      "text/html": [
       "<style scoped>\n",
       "  .table-result-container {\n",
       "    max-height: 300px;\n",
       "    overflow: auto;\n",
       "  }\n",
       "  table, th, td {\n",
       "    border: 1px solid black;\n",
       "    border-collapse: collapse;\n",
       "  }\n",
       "  th, td {\n",
       "    padding: 5px;\n",
       "  }\n",
       "  th {\n",
       "    text-align: left;\n",
       "  }\n",
       "</style><div class='table-result-container'><table class='table-result'><thead style='background-color: white'><tr><th>department</th><th>job</th><th>Q1</th><th>Q2</th><th>Q3</th><th>Q4</th></tr></thead><tbody><tr><td>null</td><td>Administrative Assistant I</td><td>0</td><td>0</td><td>1</td><td>0</td></tr><tr><td>null</td><td>Analog Circuit Design manager</td><td>0</td><td>0</td><td>0</td><td>1</td></tr><tr><td>null</td><td>Assistant Media Planner</td><td>0</td><td>0</td><td>0</td><td>1</td></tr><tr><td>null</td><td>Database Administrator III</td><td>0</td><td>0</td><td>0</td><td>1</td></tr><tr><td>null</td><td>Dental Hygienist</td><td>0</td><td>1</td><td>0</td><td>0</td></tr><tr><td>null</td><td>Junior Executive</td><td>0</td><td>1</td><td>0</td><td>0</td></tr><tr><td>null</td><td>Nurse</td><td>0</td><td>0</td><td>1</td><td>0</td></tr><tr><td>null</td><td>Occupational Therapist</td><td>1</td><td>0</td><td>0</td><td>0</td></tr><tr><td>null</td><td>Project Manager</td><td>0</td><td>0</td><td>1</td><td>0</td></tr><tr><td>null</td><td>Research Assistant II</td><td>0</td><td>1</td><td>0</td><td>0</td></tr><tr><td>null</td><td>Senior Editor</td><td>0</td><td>1</td><td>0</td><td>1</td></tr><tr><td>null</td><td>Senior Financial Analyst</td><td>0</td><td>0</td><td>0</td><td>1</td></tr><tr><td>null</td><td>Software Engineer I</td><td>0</td><td>0</td><td>0</td><td>1</td></tr><tr><td>null</td><td>Web Developer I</td><td>0</td><td>0</td><td>0</td><td>1</td></tr><tr><td>Accounting</td><td>Account Representative IV</td><td>1</td><td>0</td><td>0</td><td>0</td></tr><tr><td>Accounting</td><td>Actuary</td><td>0</td><td>1</td><td>0</td><td>0</td></tr><tr><td>Accounting</td><td>Analyst Programmer</td><td>0</td><td>0</td><td>1</td><td>0</td></tr><tr><td>Accounting</td><td>Budget/Accounting Analyst III</td><td>0</td><td>1</td><td>0</td><td>0</td></tr><tr><td>Accounting</td><td>Cost Accountant</td><td>0</td><td>1</td><td>0</td><td>0</td></tr><tr><td>Accounting</td><td>Database Administrator III</td><td>0</td><td>0</td><td>0</td><td>1</td></tr><tr><td>Accounting</td><td>Desktop Support Technician</td><td>0</td><td>0</td><td>1</td><td>0</td></tr><tr><td>Accounting</td><td>Food Chemist</td><td>1</td><td>0</td><td>0</td><td>0</td></tr><tr><td>Accounting</td><td>Graphic Designer</td><td>0</td><td>1</td><td>0</td><td>0</td></tr><tr><td>Accounting</td><td>Health Coach III</td><td>0</td><td>0</td><td>0</td><td>1</td></tr><tr><td>Accounting</td><td>Health Coach IV</td><td>0</td><td>0</td><td>1</td><td>0</td></tr><tr><td>Accounting</td><td>Help Desk Technician</td><td>0</td><td>0</td><td>1</td><td>0</td></tr><tr><td>Accounting</td><td>Junior Executive</td><td>0</td><td>0</td><td>1</td><td>0</td></tr><tr><td>Accounting</td><td>Legal Assistant</td><td>0</td><td>0</td><td>1</td><td>1</td></tr><tr><td>Accounting</td><td>Media Manager III</td><td>0</td><td>1</td><td>0</td><td>0</td></tr><tr><td>Accounting</td><td>Programmer Analyst IV</td><td>0</td><td>1</td><td>1</td><td>1</td></tr><tr><td>Accounting</td><td>Programmer III</td><td>0</td><td>0</td><td>1</td><td>0</td></tr><tr><td>Accounting</td><td>Research Assistant IV</td><td>0</td><td>0</td><td>1</td><td>0</td></tr><tr><td>Accounting</td><td>Sales Representative</td><td>1</td><td>0</td><td>1</td><td>0</td></tr><tr><td>Accounting</td><td>Senior Cost Accountant</td><td>0</td><td>0</td><td>0</td><td>1</td></tr><tr><td>Accounting</td><td>Senior Developer</td><td>0</td><td>0</td><td>0</td><td>1</td></tr><tr><td>Accounting</td><td>Software Test Engineer IV</td><td>0</td><td>0</td><td>1</td><td>0</td></tr><tr><td>Accounting</td><td>Statistician I</td><td>0</td><td>0</td><td>0</td><td>1</td></tr><tr><td>Accounting</td><td>Statistician II</td><td>0</td><td>0</td><td>0</td><td>2</td></tr><tr><td>Accounting</td><td>Structural Analysis Engineer</td><td>0</td><td>1</td><td>2</td><td>0</td></tr><tr><td>Accounting</td><td>VP Accounting</td><td>0</td><td>0</td><td>1</td><td>0</td></tr><tr><td>Accounting</td><td>Web Designer I</td><td>0</td><td>0</td><td>0</td><td>1</td></tr><tr><td>Accounting</td><td>Web Designer III</td><td>0</td><td>0</td><td>0</td><td>1</td></tr><tr><td>Accounting</td><td>Web Developer I</td><td>0</td><td>1</td><td>0</td><td>0</td></tr><tr><td>Accounting</td><td>Web Developer III</td><td>0</td><td>0</td><td>0</td><td>2</td></tr><tr><td>Business Development</td><td>Account Executive</td><td>0</td><td>2</td><td>0</td><td>1</td></tr><tr><td>Business Development</td><td>Account Representative III</td><td>0</td><td>1</td><td>0</td><td>0</td></tr><tr><td>Business Development</td><td>Account Representative IV</td><td>0</td><td>1</td><td>0</td><td>1</td></tr><tr><td>Business Development</td><td>Accountant I</td><td>0</td><td>0</td><td>1</td><td>0</td></tr><tr><td>Business Development</td><td>Accountant IV</td><td>0</td><td>2</td><td>1</td><td>0</td></tr><tr><td>Business Development</td><td>Accounting Assistant I</td><td>0</td><td>0</td><td>1</td><td>0</td></tr><tr><td>Business Development</td><td>Actuary</td><td>1</td><td>0</td><td>1</td><td>1</td></tr><tr><td>Business Development</td><td>Administrative Assistant I</td><td>1</td><td>0</td><td>0</td><td>0</td></tr><tr><td>Business Development</td><td>Administrative Assistant III</td><td>1</td><td>0</td><td>0</td><td>0</td></tr><tr><td>Business Development</td><td>Administrative Officer</td><td>0</td><td>1</td><td>0</td><td>0</td></tr><tr><td>Business Development</td><td>Analog Circuit Design manager</td><td>1</td><td>2</td><td>1</td><td>0</td></tr><tr><td>Business Development</td><td>Analyst Programmer</td><td>0</td><td>1</td><td>0</td><td>0</td></tr><tr><td>Business Development</td><td>Assistant Manager</td><td>0</td><td>0</td><td>0</td><td>1</td></tr><tr><td>Business Development</td><td>Associate Professor</td><td>0</td><td>0</td><td>1</td><td>0</td></tr><tr><td>Business Development</td><td>Automation Specialist I</td><td>0</td><td>0</td><td>0</td><td>2</td></tr><tr><td>Business Development</td><td>Automation Specialist IV</td><td>0</td><td>1</td><td>0</td><td>0</td></tr><tr><td>Business Development</td><td>Biostatistician II</td><td>0</td><td>0</td><td>0</td><td>1</td></tr><tr><td>Business Development</td><td>Biostatistician III</td><td>0</td><td>0</td><td>0</td><td>2</td></tr><tr><td>Business Development</td><td>Budget/Accounting Analyst I</td><td>1</td><td>0</td><td>0</td><td>0</td></tr><tr><td>Business Development</td><td>Budget/Accounting Analyst III</td><td>0</td><td>1</td><td>0</td><td>0</td></tr><tr><td>Business Development</td><td>Budget/Accounting Analyst IV</td><td>0</td><td>1</td><td>1</td><td>2</td></tr><tr><td>Business Development</td><td>Civil Engineer</td><td>0</td><td>2</td><td>0</td><td>1</td></tr><tr><td>Business Development</td><td>Clinical Specialist</td><td>1</td><td>1</td><td>0</td><td>2</td></tr><tr><td>Business Development</td><td>Community Outreach Specialist</td><td>0</td><td>0</td><td>0</td><td>1</td></tr><tr><td>Business Development</td><td>Computer Systems Analyst III</td><td>0</td><td>0</td><td>0</td><td>1</td></tr><tr><td>Business Development</td><td>Computer Systems Analyst IV</td><td>0</td><td>1</td><td>0</td><td>0</td></tr><tr><td>Business Development</td><td>Database Administrator II</td><td>0</td><td>1</td><td>0</td><td>0</td></tr><tr><td>Business Development</td><td>Database Administrator III</td><td>1</td><td>0</td><td>0</td><td>1</td></tr><tr><td>Business Development</td><td>Database Administrator IV</td><td>0</td><td>0</td><td>0</td><td>1</td></tr><tr><td>Business Development</td><td>Dental Hygienist</td><td>0</td><td>0</td><td>3</td><td>0</td></tr><tr><td>Business Development</td><td>Developer II</td><td>0</td><td>1</td><td>1</td><td>0</td></tr><tr><td>Business Development</td><td>Director of Sales</td><td>0</td><td>0</td><td>1</td><td>0</td></tr><tr><td>Business Development</td><td>Environmental Tech</td><td>0</td><td>1</td><td>0</td><td>0</td></tr><tr><td>Business Development</td><td>Executive Secretary</td><td>0</td><td>2</td><td>1</td><td>0</td></tr><tr><td>Business Development</td><td>Food Chemist</td><td>0</td><td>0</td><td>0</td><td>2</td></tr><tr><td>Business Development</td><td>GIS Technical Architect</td><td>0</td><td>1</td><td>0</td><td>0</td></tr><tr><td>Business Development</td><td>General Manager</td><td>1</td><td>1</td><td>2</td><td>0</td></tr><tr><td>Business Development</td><td>Geological Engineer</td><td>0</td><td>0</td><td>1</td><td>1</td></tr><tr><td>Business Development</td><td>Geologist II</td><td>0</td><td>1</td><td>1</td><td>1</td></tr><tr><td>Business Development</td><td>Geologist IV</td><td>1</td><td>0</td><td>0</td><td>1</td></tr><tr><td>Business Development</td><td>Graphic Designer</td><td>0</td><td>0</td><td>1</td><td>1</td></tr><tr><td>Business Development</td><td>Health Coach IV</td><td>1</td><td>1</td><td>0</td><td>2</td></tr><tr><td>Business Development</td><td>Human Resources Assistant III</td><td>0</td><td>1</td><td>0</td><td>0</td></tr><tr><td>Business Development</td><td>Human Resources Assistant IV</td><td>1</td><td>0</td><td>1</td><td>1</td></tr><tr><td>Business Development</td><td>Information Systems Manager</td><td>0</td><td>1</td><td>0</td><td>0</td></tr><tr><td>Business Development</td><td>Internal Auditor</td><td>0</td><td>2</td><td>0</td><td>0</td></tr><tr><td>Business Development</td><td>Junior Executive</td><td>1</td><td>0</td><td>2</td><td>2</td></tr><tr><td>Business Development</td><td>Legal Assistant</td><td>0</td><td>0</td><td>1</td><td>1</td></tr><tr><td>Business Development</td><td>Marketing Manager</td><td>0</td><td>1</td><td>0</td><td>0</td></tr><tr><td>Business Development</td><td>Mechanical Systems Engineer</td><td>0</td><td>0</td><td>1</td><td>1</td></tr><tr><td>Business Development</td><td>Media Manager III</td><td>0</td><td>0</td><td>0</td><td>1</td></tr><tr><td>Business Development</td><td>Occupational Therapist</td><td>0</td><td>3</td><td>0</td><td>0</td></tr><tr><td>Business Development</td><td>Office Assistant IV</td><td>0</td><td>0</td><td>1</td><td>0</td></tr><tr><td>Business Development</td><td>Pharmacist</td><td>1</td><td>0</td><td>1</td><td>0</td></tr><tr><td>Business Development</td><td>Product Engineer</td><td>0</td><td>1</td><td>1</td><td>1</td></tr><tr><td>Business Development</td><td>Programmer Analyst II</td><td>0</td><td>0</td><td>1</td><td>0</td></tr><tr><td>Business Development</td><td>Programmer I</td><td>0</td><td>0</td><td>1</td><td>0</td></tr><tr><td>Business Development</td><td>Programmer III</td><td>1</td><td>1</td><td>1</td><td>1</td></tr><tr><td>Business Development</td><td>Programmer IV</td><td>0</td><td>1</td><td>1</td><td>1</td></tr><tr><td>Business Development</td><td>Quality Control Specialist</td><td>1</td><td>0</td><td>1</td><td>2</td></tr><tr><td>Business Development</td><td>Quality Engineer</td><td>0</td><td>1</td><td>0</td><td>1</td></tr><tr><td>Business Development</td><td>Recruiter</td><td>0</td><td>2</td><td>0</td><td>0</td></tr><tr><td>Business Development</td><td>Recruiting Manager</td><td>0</td><td>0</td><td>1</td><td>0</td></tr><tr><td>Business Development</td><td>Registered Nurse</td><td>1</td><td>0</td><td>0</td><td>0</td></tr><tr><td>Business Development</td><td>Research Assistant II</td><td>0</td><td>0</td><td>0</td><td>1</td></tr><tr><td>Business Development</td><td>Research Assistant III</td><td>0</td><td>1</td><td>0</td><td>0</td></tr><tr><td>Business Development</td><td>Research Assistant IV</td><td>0</td><td>1</td><td>0</td><td>0</td></tr><tr><td>Business Development</td><td>Research Nurse</td><td>0</td><td>0</td><td>0</td><td>2</td></tr><tr><td>Business Development</td><td>Safety Technician IV</td><td>0</td><td>0</td><td>1</td><td>0</td></tr><tr><td>Business Development</td><td>Sales Representative</td><td>0</td><td>1</td><td>0</td><td>1</td></tr><tr><td>Business Development</td><td>Senior Cost Accountant</td><td>1</td><td>0</td><td>2</td><td>1</td></tr><tr><td>Business Development</td><td>Senior Developer</td><td>0</td><td>0</td><td>1</td><td>0</td></tr><tr><td>Business Development</td><td>Senior Editor</td><td>1</td><td>1</td><td>1</td><td>0</td></tr><tr><td>Business Development</td><td>Senior Financial Analyst</td><td>0</td><td>0</td><td>0</td><td>1</td></tr><tr><td>Business Development</td><td>Senior Quality Engineer</td><td>0</td><td>0</td><td>0</td><td>1</td></tr><tr><td>Business Development</td><td>Senior Sales Associate</td><td>1</td><td>0</td><td>0</td><td>0</td></tr><tr><td>Business Development</td><td>Software Test Engineer IV</td><td>2</td><td>0</td><td>2</td><td>0</td></tr><tr><td>Business Development</td><td>Staff Accountant I</td><td>0</td><td>1</td><td>0</td><td>0</td></tr><tr><td>Business Development</td><td>Staff Accountant III</td><td>0</td><td>1</td><td>0</td><td>0</td></tr><tr><td>Business Development</td><td>Staff Accountant IV</td><td>0</td><td>0</td><td>0</td><td>1</td></tr><tr><td>Business Development</td><td>Staff Scientist</td><td>1</td><td>1</td><td>0</td><td>0</td></tr><tr><td>Business Development</td><td>Statistician II</td><td>0</td><td>1</td><td>0</td><td>0</td></tr><tr><td>Business Development</td><td>Statistician III</td><td>0</td><td>1</td><td>1</td><td>0</td></tr><tr><td>Business Development</td><td>Structural Analysis Engineer</td><td>0</td><td>2</td><td>2</td><td>1</td></tr><tr><td>Business Development</td><td>Structural Engineer</td><td>0</td><td>1</td><td>0</td><td>0</td></tr><tr><td>Business Development</td><td>Systems Administrator IV</td><td>1</td><td>1</td><td>1</td><td>1</td></tr><tr><td>Business Development</td><td>Teacher</td><td>1</td><td>1</td><td>1</td><td>0</td></tr><tr><td>Business Development</td><td>Technical Writer</td><td>1</td><td>1</td><td>0</td><td>0</td></tr><tr><td>Business Development</td><td>VP Accounting</td><td>0</td><td>0</td><td>0</td><td>1</td></tr><tr><td>Business Development</td><td>VP Marketing</td><td>0</td><td>0</td><td>1</td><td>0</td></tr><tr><td>Business Development</td><td>VP Product Management</td><td>1</td><td>0</td><td>0</td><td>0</td></tr><tr><td>Business Development</td><td>Web Designer I</td><td>0</td><td>2</td><td>0</td><td>1</td></tr><tr><td>Business Development</td><td>Web Designer II</td><td>0</td><td>0</td><td>1</td><td>0</td></tr><tr><td>Business Development</td><td>Web Designer III</td><td>0</td><td>0</td><td>1</td><td>0</td></tr><tr><td>Business Development</td><td>Web Designer IV</td><td>0</td><td>0</td><td>1</td><td>1</td></tr><tr><td>Business Development</td><td>Web Developer I</td><td>1</td><td>1</td><td>1</td><td>1</td></tr><tr><td>Business Development</td><td>Web Developer II</td><td>0</td><td>0</td><td>0</td><td>1</td></tr><tr><td>Engineering</td><td>null</td><td>0</td><td>1</td><td>0</td><td>0</td></tr><tr><td>Engineering</td><td>Account Coordinator</td><td>0</td><td>1</td><td>1</td><td>0</td></tr><tr><td>Engineering</td><td>Account Executive</td><td>0</td><td>0</td><td>0</td><td>1</td></tr><tr><td>Engineering</td><td>Account Representative IV</td><td>0</td><td>0</td><td>0</td><td>1</td></tr><tr><td>Engineering</td><td>Accountant I</td><td>1</td><td>0</td><td>1</td><td>0</td></tr><tr><td>Engineering</td><td>Accounting Assistant IV</td><td>0</td><td>0</td><td>1</td><td>1</td></tr><tr><td>Engineering</td><td>Actuary</td><td>1</td><td>0</td><td>0</td><td>1</td></tr><tr><td>Engineering</td><td>Administrative Assistant I</td><td>0</td><td>0</td><td>0</td><td>1</td></tr><tr><td>Engineering</td><td>Analog Circuit Design manager</td><td>0</td><td>0</td><td>0</td><td>1</td></tr><tr><td>Engineering</td><td>Analyst Programmer</td><td>0</td><td>0</td><td>0</td><td>1</td></tr><tr><td>Engineering</td><td>Assistant Manager</td><td>1</td><td>1</td><td>1</td><td>0</td></tr><tr><td>Engineering</td><td>Assistant Media Planner</td><td>0</td><td>1</td><td>0</td><td>0</td></tr><tr><td>Engineering</td><td>Assistant Professor</td><td>0</td><td>0</td><td>0</td><td>1</td></tr><tr><td>Engineering</td><td>Associate Professor</td><td>0</td><td>1</td><td>2</td><td>0</td></tr><tr><td>Engineering</td><td>Automation Specialist I</td><td>0</td><td>0</td><td>1</td><td>0</td></tr><tr><td>Engineering</td><td>Biostatistician III</td><td>0</td><td>1</td><td>1</td><td>0</td></tr><tr><td>Engineering</td><td>Budget/Accounting Analyst I</td><td>0</td><td>1</td><td>0</td><td>2</td></tr><tr><td>Engineering</td><td>Budget/Accounting Analyst II</td><td>0</td><td>1</td><td>1</td><td>0</td></tr><tr><td>Engineering</td><td>Budget/Accounting Analyst III</td><td>0</td><td>1</td><td>0</td><td>0</td></tr><tr><td>Engineering</td><td>Budget/Accounting Analyst IV</td><td>0</td><td>0</td><td>0</td><td>1</td></tr><tr><td>Engineering</td><td>Chemical Engineer</td><td>0</td><td>0</td><td>0</td><td>1</td></tr><tr><td>Engineering</td><td>Civil Engineer</td><td>1</td><td>0</td><td>1</td><td>2</td></tr><tr><td>Engineering</td><td>Clinical Specialist</td><td>0</td><td>1</td><td>1</td><td>2</td></tr><tr><td>Engineering</td><td>Community Outreach Specialist</td><td>0</td><td>1</td><td>0</td><td>0</td></tr><tr><td>Engineering</td><td>Computer Systems Analyst III</td><td>0</td><td>0</td><td>1</td><td>1</td></tr><tr><td>Engineering</td><td>Computer Systems Analyst IV</td><td>0</td><td>1</td><td>0</td><td>0</td></tr><tr><td>Engineering</td><td>Cost Accountant</td><td>0</td><td>0</td><td>1</td><td>0</td></tr><tr><td>Engineering</td><td>Database Administrator I</td><td>0</td><td>0</td><td>1</td><td>0</td></tr><tr><td>Engineering</td><td>Database Administrator II</td><td>0</td><td>0</td><td>1</td><td>1</td></tr><tr><td>Engineering</td><td>Database Administrator III</td><td>0</td><td>0</td><td>0</td><td>1</td></tr><tr><td>Engineering</td><td>Dental Hygienist</td><td>0</td><td>0</td><td>2</td><td>1</td></tr><tr><td>Engineering</td><td>Engineer III</td><td>1</td><td>0</td><td>0</td><td>1</td></tr><tr><td>Engineering</td><td>Engineer IV</td><td>0</td><td>1</td><td>1</td><td>0</td></tr><tr><td>Engineering</td><td>Environmental Tech</td><td>0</td><td>0</td><td>1</td><td>0</td></tr><tr><td>Engineering</td><td>Executive Secretary</td><td>1</td><td>0</td><td>0</td><td>0</td></tr><tr><td>Engineering</td><td>Financial Analyst</td><td>0</td><td>1</td><td>1</td><td>0</td></tr><tr><td>Engineering</td><td>Food Chemist</td><td>0</td><td>2</td><td>2</td><td>1</td></tr><tr><td>Engineering</td><td>GIS Technical Architect</td><td>0</td><td>1</td><td>0</td><td>1</td></tr><tr><td>Engineering</td><td>General Manager</td><td>0</td><td>0</td><td>0</td><td>2</td></tr><tr><td>Engineering</td><td>Geological Engineer</td><td>1</td><td>1</td><td>1</td><td>0</td></tr><tr><td>Engineering</td><td>Geologist I</td><td>0</td><td>0</td><td>1</td><td>0</td></tr><tr><td>Engineering</td><td>Geologist II</td><td>0</td><td>3</td><td>1</td><td>0</td></tr><tr><td>Engineering</td><td>Graphic Designer</td><td>2</td><td>0</td><td>0</td><td>0</td></tr><tr><td>Engineering</td><td>Health Coach I</td><td>0</td><td>0</td><td>0</td><td>1</td></tr><tr><td>Engineering</td><td>Health Coach III</td><td>0</td><td>0</td><td>0</td><td>1</td></tr><tr><td>Engineering</td><td>Health Coach IV</td><td>0</td><td>1</td><td>0</td><td>3</td></tr><tr><td>Engineering</td><td>Help Desk Operator</td><td>0</td><td>1</td><td>0</td><td>0</td></tr><tr><td>Engineering</td><td>Help Desk Technician</td><td>0</td><td>0</td><td>1</td><td>0</td></tr><tr><td>Engineering</td><td>Human Resources Assistant III</td><td>1</td><td>0</td><td>0</td><td>1</td></tr><tr><td>Engineering</td><td>Human Resources Assistant IV</td><td>0</td><td>0</td><td>0</td><td>1</td></tr><tr><td>Engineering</td><td>Internal Auditor</td><td>0</td><td>0</td><td>0</td><td>1</td></tr><tr><td>Engineering</td><td>Junior Executive</td><td>0</td><td>0</td><td>1</td><td>1</td></tr><tr><td>Engineering</td><td>Legal Assistant</td><td>0</td><td>1</td><td>0</td><td>0</td></tr><tr><td>Engineering</td><td>Marketing Manager</td><td>0</td><td>0</td><td>1</td><td>0</td></tr><tr><td>Engineering</td><td>Mechanical Systems Engineer</td><td>0</td><td>0</td><td>1</td><td>0</td></tr><tr><td>Engineering</td><td>Media Manager IV</td><td>0</td><td>0</td><td>1</td><td>0</td></tr><tr><td>Engineering</td><td>Nuclear Power Engineer</td><td>0</td><td>0</td><td>0</td><td>1</td></tr><tr><td>Engineering</td><td>Nurse</td><td>1</td><td>1</td><td>0</td><td>0</td></tr><tr><td>Engineering</td><td>Occupational Therapist</td><td>0</td><td>0</td><td>0</td><td>1</td></tr><tr><td>Engineering</td><td>Office Assistant II</td><td>2</td><td>0</td><td>0</td><td>0</td></tr><tr><td>Engineering</td><td>Payment Adjustment Coordinator</td><td>1</td><td>0</td><td>0</td><td>0</td></tr><tr><td>Engineering</td><td>Pharmacist</td><td>0</td><td>0</td><td>0</td><td>1</td></tr><tr><td>Engineering</td><td>Physical Therapy Assistant</td><td>1</td><td>0</td><td>0</td><td>1</td></tr><tr><td>Engineering</td><td>Product Engineer</td><td>1</td><td>0</td><td>1</td><td>0</td></tr><tr><td>Engineering</td><td>Professor</td><td>0</td><td>0</td><td>1</td><td>0</td></tr><tr><td>Engineering</td><td>Programmer I</td><td>0</td><td>1</td><td>1</td><td>0</td></tr><tr><td>Engineering</td><td>Programmer III</td><td>1</td><td>1</td><td>0</td><td>1</td></tr><tr><td>Engineering</td><td>Programmer IV</td><td>1</td><td>1</td><td>1</td><td>2</td></tr><tr><td>Engineering</td><td>Project Manager</td><td>0</td><td>2</td><td>1</td><td>0</td></tr><tr><td>Engineering</td><td>Quality Control Specialist</td><td>0</td><td>0</td><td>1</td><td>1</td></tr><tr><td>Engineering</td><td>Quality Engineer</td><td>0</td><td>1</td><td>5</td><td>0</td></tr><tr><td>Engineering</td><td>Recruiter</td><td>0</td><td>0</td><td>3</td><td>1</td></tr><tr><td>Engineering</td><td>Recruiting Manager</td><td>0</td><td>0</td><td>1</td><td>0</td></tr><tr><td>Engineering</td><td>Research Assistant II</td><td>0</td><td>1</td><td>0</td><td>0</td></tr><tr><td>Engineering</td><td>Research Nurse</td><td>0</td><td>0</td><td>1</td><td>1</td></tr><tr><td>Engineering</td><td>Safety Technician IV</td><td>1</td><td>0</td><td>0</td><td>1</td></tr><tr><td>Engineering</td><td>Sales Associate</td><td>0</td><td>0</td><td>1</td><td>1</td></tr><tr><td>Engineering</td><td>Sales Representative</td><td>0</td><td>0</td><td>2</td><td>2</td></tr><tr><td>Engineering</td><td>Senior Cost Accountant</td><td>0</td><td>1</td><td>0</td><td>1</td></tr><tr><td>Engineering</td><td>Senior Developer</td><td>1</td><td>0</td><td>1</td><td>1</td></tr><tr><td>Engineering</td><td>Senior Editor</td><td>0</td><td>1</td><td>0</td><td>1</td></tr><tr><td>Engineering</td><td>Senior Quality Engineer</td><td>0</td><td>0</td><td>0</td><td>2</td></tr><tr><td>Engineering</td><td>Social Worker</td><td>0</td><td>0</td><td>1</td><td>0</td></tr><tr><td>Engineering</td><td>Software Engineer I</td><td>1</td><td>0</td><td>1</td><td>1</td></tr><tr><td>Engineering</td><td>Software Engineer III</td><td>0</td><td>0</td><td>0</td><td>2</td></tr><tr><td>Engineering</td><td>Software Test Engineer I</td><td>1</td><td>0</td><td>0</td><td>1</td></tr><tr><td>Engineering</td><td>Software Test Engineer IV</td><td>0</td><td>1</td><td>0</td><td>1</td></tr><tr><td>Engineering</td><td>Staff Accountant IV</td><td>2</td><td>0</td><td>1</td><td>2</td></tr><tr><td>Engineering</td><td>Statistician II</td><td>0</td><td>1</td><td>1</td><td>1</td></tr><tr><td>Engineering</td><td>Statistician III</td><td>1</td><td>1</td><td>0</td><td>0</td></tr><tr><td>Engineering</td><td>Structural Analysis Engineer</td><td>0</td><td>0</td><td>1</td><td>0</td></tr><tr><td>Engineering</td><td>Structural Engineer</td><td>0</td><td>2</td><td>0</td><td>0</td></tr><tr><td>Engineering</td><td>Systems Administrator II</td><td>0</td><td>2</td><td>0</td><td>2</td></tr><tr><td>Engineering</td><td>Tax Accountant</td><td>0</td><td>1</td><td>0</td><td>1</td></tr><tr><td>Engineering</td><td>Teacher</td><td>1</td><td>0</td><td>3</td><td>1</td></tr><tr><td>Engineering</td><td>Technical Writer</td><td>0</td><td>1</td><td>1</td><td>0</td></tr><tr><td>Engineering</td><td>VP Accounting</td><td>1</td><td>0</td><td>0</td><td>0</td></tr><tr><td>Engineering</td><td>VP Product Management</td><td>0</td><td>0</td><td>1</td><td>1</td></tr><tr><td>Engineering</td><td>Web Designer I</td><td>0</td><td>1</td><td>0</td><td>5</td></tr><tr><td>Engineering</td><td>Web Designer II</td><td>0</td><td>1</td><td>0</td><td>0</td></tr><tr><td>Engineering</td><td>Web Designer III</td><td>0</td><td>0</td><td>0</td><td>1</td></tr><tr><td>Engineering</td><td>Web Designer IV</td><td>0</td><td>0</td><td>1</td><td>0</td></tr><tr><td>Engineering</td><td>Web Developer I</td><td>0</td><td>1</td><td>0</td><td>1</td></tr><tr><td>Engineering</td><td>Web Developer II</td><td>0</td><td>1</td><td>0</td><td>0</td></tr><tr><td>Human Resources</td><td>Account Coordinator</td><td>1</td><td>2</td><td>0</td><td>0</td></tr><tr><td>Human Resources</td><td>Account Executive</td><td>1</td><td>0</td><td>0</td><td>1</td></tr><tr><td>Human Resources</td><td>Account Representative IV</td><td>0</td><td>1</td><td>0</td><td>1</td></tr><tr><td>Human Resources</td><td>Accountant I</td><td>0</td><td>0</td><td>1</td><td>1</td></tr><tr><td>Human Resources</td><td>Accounting Assistant II</td><td>0</td><td>0</td><td>0</td><td>1</td></tr><tr><td>Human Resources</td><td>Accounting Assistant IV</td><td>0</td><td>1</td><td>0</td><td>1</td></tr><tr><td>Human Resources</td><td>Actuary</td><td>0</td><td>1</td><td>1</td><td>1</td></tr><tr><td>Human Resources</td><td>Analog Circuit Design manager</td><td>0</td><td>0</td><td>0</td><td>1</td></tr><tr><td>Human Resources</td><td>Analyst Programmer</td><td>0</td><td>1</td><td>0</td><td>1</td></tr><tr><td>Human Resources</td><td>Assistant Manager</td><td>1</td><td>2</td><td>0</td><td>0</td></tr><tr><td>Human Resources</td><td>Assistant Media Planner</td><td>0</td><td>0</td><td>0</td><td>2</td></tr><tr><td>Human Resources</td><td>Assistant Professor</td><td>0</td><td>2</td><td>0</td><td>0</td></tr><tr><td>Human Resources</td><td>Associate Professor</td><td>2</td><td>0</td><td>0</td><td>2</td></tr><tr><td>Human Resources</td><td>Automation Specialist I</td><td>1</td><td>0</td><td>0</td><td>0</td></tr><tr><td>Human Resources</td><td>Automation Specialist IV</td><td>1</td><td>0</td><td>0</td><td>0</td></tr><tr><td>Human Resources</td><td>Biostatistician III</td><td>0</td><td>0</td><td>1</td><td>0</td></tr><tr><td>Human Resources</td><td>Budget/Accounting Analyst I</td><td>1</td><td>0</td><td>0</td><td>1</td></tr><tr><td>Human Resources</td><td>Budget/Accounting Analyst III</td><td>0</td><td>0</td><td>0</td><td>3</td></tr><tr><td>Human Resources</td><td>Budget/Accounting Analyst IV</td><td>0</td><td>0</td><td>1</td><td>0</td></tr><tr><td>Human Resources</td><td>Chemical Engineer</td><td>1</td><td>0</td><td>0</td><td>0</td></tr><tr><td>Human Resources</td><td>Civil Engineer</td><td>0</td><td>1</td><td>0</td><td>0</td></tr><tr><td>Human Resources</td><td>Clinical Specialist</td><td>0</td><td>0</td><td>0</td><td>3</td></tr><tr><td>Human Resources</td><td>Community Outreach Specialist</td><td>1</td><td>0</td><td>0</td><td>0</td></tr><tr><td>Human Resources</td><td>Cost Accountant</td><td>0</td><td>1</td><td>1</td><td>1</td></tr><tr><td>Human Resources</td><td>Data Coordiator</td><td>0</td><td>0</td><td>0</td><td>1</td></tr><tr><td>Human Resources</td><td>Database Administrator I</td><td>0</td><td>0</td><td>0</td><td>2</td></tr><tr><td>Human Resources</td><td>Database Administrator III</td><td>0</td><td>0</td><td>1</td><td>0</td></tr><tr><td>Human Resources</td><td>Database Administrator IV</td><td>1</td><td>0</td><td>0</td><td>0</td></tr><tr><td>Human Resources</td><td>Design Engineer</td><td>1</td><td>0</td><td>0</td><td>0</td></tr><tr><td>Human Resources</td><td>Developer III</td><td>0</td><td>0</td><td>0</td><td>2</td></tr><tr><td>Human Resources</td><td>Developer IV</td><td>0</td><td>0</td><td>0</td><td>1</td></tr><tr><td>Human Resources</td><td>Director of Sales</td><td>1</td><td>0</td><td>2</td><td>0</td></tr><tr><td>Human Resources</td><td>Editor</td><td>0</td><td>1</td><td>1</td><td>0</td></tr><tr><td>Human Resources</td><td>Electrical Engineer</td><td>0</td><td>1</td><td>0</td><td>0</td></tr><tr><td>Human Resources</td><td>Engineer III</td><td>2</td><td>0</td><td>1</td><td>0</td></tr><tr><td>Human Resources</td><td>Engineer IV</td><td>0</td><td>1</td><td>0</td><td>0</td></tr><tr><td>Human Resources</td><td>Environmental Tech</td><td>0</td><td>1</td><td>0</td><td>0</td></tr><tr><td>Human Resources</td><td>Executive Secretary</td><td>0</td><td>1</td><td>1</td><td>1</td></tr><tr><td>Human Resources</td><td>Financial Advisor</td><td>0</td><td>0</td><td>0</td><td>1</td></tr><tr><td>Human Resources</td><td>Food Chemist</td><td>0</td><td>0</td><td>0</td><td>1</td></tr><tr><td>Human Resources</td><td>GIS Technical Architect</td><td>1</td><td>0</td><td>0</td><td>0</td></tr><tr><td>Human Resources</td><td>Geological Engineer</td><td>0</td><td>2</td><td>0</td><td>0</td></tr><tr><td>Human Resources</td><td>Geologist II</td><td>0</td><td>1</td><td>1</td><td>1</td></tr><tr><td>Human Resources</td><td>Geologist IV</td><td>0</td><td>0</td><td>0</td><td>1</td></tr><tr><td>Human Resources</td><td>Graphic Designer</td><td>0</td><td>2</td><td>0</td><td>0</td></tr><tr><td>Human Resources</td><td>Health Coach I</td><td>0</td><td>1</td><td>0</td><td>1</td></tr><tr><td>Human Resources</td><td>Health Coach III</td><td>0</td><td>0</td><td>0</td><td>1</td></tr><tr><td>Human Resources</td><td>Health Coach IV</td><td>0</td><td>0</td><td>2</td><td>0</td></tr><tr><td>Human Resources</td><td>Human Resources Assistant II</td><td>0</td><td>0</td><td>0</td><td>1</td></tr><tr><td>Human Resources</td><td>Human Resources Assistant III</td><td>0</td><td>0</td><td>1</td><td>0</td></tr><tr><td>Human Resources</td><td>Human Resources Assistant IV</td><td>0</td><td>0</td><td>1</td><td>0</td></tr><tr><td>Human Resources</td><td>Human Resources Manager</td><td>0</td><td>1</td><td>0</td><td>0</td></tr><tr><td>Human Resources</td><td>Junior Executive</td><td>1</td><td>1</td><td>1</td><td>0</td></tr><tr><td>Human Resources</td><td>Marketing Assistant</td><td>0</td><td>1</td><td>0</td><td>0</td></tr><tr><td>Human Resources</td><td>Marketing Manager</td><td>0</td><td>2</td><td>0</td><td>0</td></tr><tr><td>Human Resources</td><td>Media Manager III</td><td>0</td><td>1</td><td>1</td><td>1</td></tr><tr><td>Human Resources</td><td>Nurse</td><td>0</td><td>0</td><td>1</td><td>0</td></tr><tr><td>Human Resources</td><td>Occupational Therapist</td><td>1</td><td>0</td><td>0</td><td>1</td></tr><tr><td>Human Resources</td><td>Office Assistant II</td><td>1</td><td>1</td><td>0</td><td>0</td></tr><tr><td>Human Resources</td><td>Operator</td><td>0</td><td>1</td><td>0</td><td>0</td></tr><tr><td>Human Resources</td><td>Paralegal</td><td>0</td><td>0</td><td>1</td><td>0</td></tr><tr><td>Human Resources</td><td>Payment Adjustment Coordinator</td><td>1</td><td>0</td><td>0</td><td>1</td></tr><tr><td>Human Resources</td><td>Pharmacist</td><td>0</td><td>1</td><td>0</td><td>1</td></tr><tr><td>Human Resources</td><td>Physical Therapy Assistant</td><td>0</td><td>0</td><td>0</td><td>1</td></tr><tr><td>Human Resources</td><td>Product Engineer</td><td>0</td><td>2</td><td>1</td><td>2</td></tr><tr><td>Human Resources</td><td>Professor</td><td>0</td><td>0</td><td>1</td><td>1</td></tr><tr><td>Human Resources</td><td>Programmer Analyst IV</td><td>1</td><td>0</td><td>0</td><td>0</td></tr><tr><td>Human Resources</td><td>Programmer III</td><td>0</td><td>2</td><td>1</td><td>0</td></tr><tr><td>Human Resources</td><td>Programmer IV</td><td>0</td><td>1</td><td>2</td><td>0</td></tr><tr><td>Human Resources</td><td>Quality Control Specialist</td><td>0</td><td>2</td><td>1</td><td>0</td></tr><tr><td>Human Resources</td><td>Quality Engineer</td><td>0</td><td>0</td><td>0</td><td>2</td></tr><tr><td>Human Resources</td><td>Recruiter</td><td>0</td><td>0</td><td>1</td><td>1</td></tr><tr><td>Human Resources</td><td>Recruiting Manager</td><td>1</td><td>0</td><td>1</td><td>2</td></tr><tr><td>Human Resources</td><td>Registered Nurse</td><td>0</td><td>1</td><td>0</td><td>0</td></tr><tr><td>Human Resources</td><td>Research Assistant I</td><td>0</td><td>0</td><td>1</td><td>0</td></tr><tr><td>Human Resources</td><td>Research Assistant II</td><td>0</td><td>1</td><td>0</td><td>1</td></tr><tr><td>Human Resources</td><td>Research Assistant IV</td><td>0</td><td>0</td><td>0</td><td>1</td></tr><tr><td>Human Resources</td><td>Research Associate</td><td>0</td><td>1</td><td>1</td><td>0</td></tr><tr><td>Human Resources</td><td>Safety Technician II</td><td>0</td><td>1</td><td>0</td><td>1</td></tr><tr><td>Human Resources</td><td>Safety Technician III</td><td>0</td><td>1</td><td>0</td><td>0</td></tr><tr><td>Human Resources</td><td>Sales Representative</td><td>0</td><td>0</td><td>1</td><td>0</td></tr><tr><td>Human Resources</td><td>Senior Cost Accountant</td><td>0</td><td>0</td><td>1</td><td>3</td></tr><tr><td>Human Resources</td><td>Senior Developer</td><td>1</td><td>0</td><td>0</td><td>0</td></tr><tr><td>Human Resources</td><td>Senior Editor</td><td>0</td><td>0</td><td>1</td><td>2</td></tr><tr><td>Human Resources</td><td>Senior Financial Analyst</td><td>0</td><td>0</td><td>2</td><td>0</td></tr><tr><td>Human Resources</td><td>Senior Quality Engineer</td><td>0</td><td>0</td><td>0</td><td>1</td></tr><tr><td>Human Resources</td><td>Social Worker</td><td>0</td><td>0</td><td>0</td><td>3</td></tr><tr><td>Human Resources</td><td>Software Engineer I</td><td>0</td><td>1</td><td>0</td><td>2</td></tr><tr><td>Human Resources</td><td>Software Engineer III</td><td>0</td><td>3</td><td>0</td><td>0</td></tr><tr><td>Human Resources</td><td>Software Engineer IV</td><td>0</td><td>0</td><td>1</td><td>0</td></tr><tr><td>Human Resources</td><td>Software Test Engineer IV</td><td>1</td><td>0</td><td>0</td><td>1</td></tr><tr><td>Human Resources</td><td>Staff Accountant II</td><td>0</td><td>1</td><td>0</td><td>0</td></tr><tr><td>Human Resources</td><td>Staff Accountant IV</td><td>0</td><td>1</td><td>1</td><td>0</td></tr><tr><td>Human Resources</td><td>Staff Scientist</td><td>0</td><td>0</td><td>1</td><td>1</td></tr><tr><td>Human Resources</td><td>Statistician II</td><td>0</td><td>1</td><td>1</td><td>0</td></tr><tr><td>Human Resources</td><td>Structural Analysis Engineer</td><td>0</td><td>0</td><td>1</td><td>0</td></tr><tr><td>Human Resources</td><td>Systems Administrator II</td><td>1</td><td>0</td><td>0</td><td>1</td></tr><tr><td>Human Resources</td><td>Systems Administrator IV</td><td>0</td><td>0</td><td>1</td><td>0</td></tr><tr><td>Human Resources</td><td>Tax Accountant</td><td>0</td><td>0</td><td>0</td><td>2</td></tr><tr><td>Human Resources</td><td>Teacher</td><td>0</td><td>1</td><td>0</td><td>0</td></tr><tr><td>Human Resources</td><td>Technical Writer</td><td>1</td><td>0</td><td>2</td><td>0</td></tr><tr><td>Human Resources</td><td>VP Accounting</td><td>1</td><td>0</td><td>2</td><td>2</td></tr><tr><td>Human Resources</td><td>VP Marketing</td><td>0</td><td>1</td><td>0</td><td>0</td></tr><tr><td>Human Resources</td><td>VP Quality Control</td><td>0</td><td>1</td><td>0</td><td>0</td></tr><tr><td>Human Resources</td><td>Web Designer I</td><td>0</td><td>1</td><td>0</td><td>0</td></tr><tr><td>Human Resources</td><td>Web Designer II</td><td>0</td><td>1</td><td>1</td><td>1</td></tr><tr><td>Human Resources</td><td>Web Developer I</td><td>1</td><td>0</td><td>0</td><td>0</td></tr><tr><td>Human Resources</td><td>Web Developer II</td><td>1</td><td>0</td><td>2</td><td>2</td></tr><tr><td>Legal</td><td>null</td><td>0</td><td>0</td><td>0</td><td>1</td></tr><tr><td>Legal</td><td>Account Coordinator</td><td>0</td><td>1</td><td>0</td><td>0</td></tr><tr><td>Legal</td><td>Account Executive</td><td>0</td><td>0</td><td>0</td><td>1</td></tr><tr><td>Legal</td><td>Account Representative IV</td><td>0</td><td>0</td><td>0</td><td>1</td></tr><tr><td>Legal</td><td>Accountant I</td><td>0</td><td>0</td><td>1</td><td>0</td></tr><tr><td>Legal</td><td>Accountant IV</td><td>0</td><td>0</td><td>1</td><td>0</td></tr><tr><td>Legal</td><td>Associate Professor</td><td>0</td><td>0</td><td>1</td><td>1</td></tr><tr><td>Legal</td><td>Biostatistician II</td><td>0</td><td>0</td><td>1</td><td>0</td></tr><tr><td>Legal</td><td>Budget/Accounting Analyst III</td><td>0</td><td>0</td><td>1</td><td>2</td></tr><tr><td>Legal</td><td>Chief Design Engineer</td><td>0</td><td>1</td><td>0</td><td>1</td></tr><tr><td>Legal</td><td>Computer Systems Analyst IV</td><td>1</td><td>0</td><td>0</td><td>0</td></tr><tr><td>Legal</td><td>Database Administrator II</td><td>0</td><td>0</td><td>1</td><td>0</td></tr><tr><td>Legal</td><td>Database Administrator III</td><td>0</td><td>0</td><td>0</td><td>1</td></tr><tr><td>Legal</td><td>Dental Hygienist</td><td>0</td><td>0</td><td>0</td><td>1</td></tr><tr><td>Legal</td><td>Engineer III</td><td>0</td><td>0</td><td>0</td><td>1</td></tr><tr><td>Legal</td><td>Engineer IV</td><td>1</td><td>0</td><td>0</td><td>0</td></tr><tr><td>Legal</td><td>Financial Advisor</td><td>0</td><td>1</td><td>0</td><td>1</td></tr><tr><td>Legal</td><td>Geologist I</td><td>0</td><td>0</td><td>1</td><td>0</td></tr><tr><td>Legal</td><td>Geologist II</td><td>0</td><td>0</td><td>0</td><td>1</td></tr><tr><td>Legal</td><td>Health Coach IV</td><td>0</td><td>0</td><td>0</td><td>1</td></tr><tr><td>Legal</td><td>Human Resources Assistant IV</td><td>0</td><td>1</td><td>0</td><td>0</td></tr><tr><td>Legal</td><td>Internal Auditor</td><td>0</td><td>1</td><td>0</td><td>0</td></tr><tr><td>Legal</td><td>Marketing Manager</td><td>1</td><td>0</td><td>0</td><td>0</td></tr><tr><td>Legal</td><td>Media Manager III</td><td>0</td><td>0</td><td>0</td><td>1</td></tr><tr><td>Legal</td><td>Occupational Therapist</td><td>0</td><td>1</td><td>1</td><td>0</td></tr><tr><td>Legal</td><td>Office Assistant IV</td><td>1</td><td>0</td><td>0</td><td>0</td></tr><tr><td>Legal</td><td>Programmer Analyst II</td><td>0</td><td>1</td><td>0</td><td>0</td></tr><tr><td>Legal</td><td>Programmer III</td><td>0</td><td>0</td><td>0</td><td>1</td></tr><tr><td>Legal</td><td>Quality Engineer</td><td>0</td><td>0</td><td>1</td><td>0</td></tr><tr><td>Legal</td><td>Recruiter</td><td>0</td><td>0</td><td>1</td><td>0</td></tr><tr><td>Legal</td><td>Senior Editor</td><td>0</td><td>1</td><td>0</td><td>0</td></tr><tr><td>Legal</td><td>Senior Financial Analyst</td><td>0</td><td>0</td><td>1</td><td>0</td></tr><tr><td>Legal</td><td>Senior Quality Engineer</td><td>0</td><td>0</td><td>0</td><td>1</td></tr><tr><td>Legal</td><td>Software Engineer I</td><td>0</td><td>0</td><td>0</td><td>1</td></tr><tr><td>Legal</td><td>Software Test Engineer I</td><td>0</td><td>0</td><td>0</td><td>1</td></tr><tr><td>Legal</td><td>Software Test Engineer IV</td><td>0</td><td>0</td><td>1</td><td>1</td></tr><tr><td>Legal</td><td>Staff Scientist</td><td>0</td><td>0</td><td>0</td><td>1</td></tr><tr><td>Legal</td><td>Statistician I</td><td>0</td><td>0</td><td>1</td><td>0</td></tr><tr><td>Legal</td><td>Statistician II</td><td>1</td><td>0</td><td>1</td><td>0</td></tr><tr><td>Legal</td><td>Structural Engineer</td><td>0</td><td>1</td><td>1</td><td>0</td></tr><tr><td>Legal</td><td>Systems Administrator II</td><td>0</td><td>0</td><td>1</td><td>0</td></tr><tr><td>Legal</td><td>Tax Accountant</td><td>0</td><td>0</td><td>0</td><td>1</td></tr><tr><td>Legal</td><td>Teacher</td><td>1</td><td>0</td><td>0</td><td>1</td></tr><tr><td>Legal</td><td>Web Developer I</td><td>0</td><td>1</td><td>2</td><td>0</td></tr><tr><td>Legal</td><td>Web Developer III</td><td>0</td><td>0</td><td>0</td><td>1</td></tr><tr><td>Marketing</td><td>null</td><td>0</td><td>0</td><td>1</td><td>0</td></tr><tr><td>Marketing</td><td>Account Executive</td><td>1</td><td>0</td><td>0</td><td>0</td></tr><tr><td>Marketing</td><td>Accountant I</td><td>1</td><td>0</td><td>1</td><td>0</td></tr><tr><td>Marketing</td><td>Accountant IV</td><td>1</td><td>0</td><td>1</td><td>0</td></tr><tr><td>Marketing</td><td>Accounting Assistant IV</td><td>0</td><td>3</td><td>0</td><td>0</td></tr><tr><td>Marketing</td><td>Administrative Assistant I</td><td>1</td><td>0</td><td>0</td><td>0</td></tr><tr><td>Marketing</td><td>Analyst Programmer</td><td>1</td><td>1</td><td>1</td><td>0</td></tr><tr><td>Marketing</td><td>Assistant Manager</td><td>0</td><td>0</td><td>0</td><td>2</td></tr><tr><td>Marketing</td><td>Assistant Professor</td><td>1</td><td>1</td><td>1</td><td>0</td></tr><tr><td>Marketing</td><td>Associate Professor</td><td>1</td><td>0</td><td>0</td><td>0</td></tr><tr><td>Marketing</td><td>Biostatistician II</td><td>0</td><td>1</td><td>0</td><td>2</td></tr><tr><td>Marketing</td><td>Biostatistician III</td><td>0</td><td>0</td><td>2</td><td>1</td></tr><tr><td>Marketing</td><td>Budget/Accounting Analyst II</td><td>1</td><td>0</td><td>0</td><td>2</td></tr><tr><td>Marketing</td><td>Budget/Accounting Analyst IV</td><td>1</td><td>1</td><td>0</td><td>0</td></tr><tr><td>Marketing</td><td>Chemical Engineer</td><td>0</td><td>0</td><td>0</td><td>1</td></tr><tr><td>Marketing</td><td>Civil Engineer</td><td>0</td><td>1</td><td>1</td><td>0</td></tr><tr><td>Marketing</td><td>Clinical Specialist</td><td>0</td><td>0</td><td>0</td><td>1</td></tr><tr><td>Marketing</td><td>Computer Systems Analyst II</td><td>0</td><td>1</td><td>0</td><td>0</td></tr><tr><td>Marketing</td><td>Computer Systems Analyst III</td><td>0</td><td>1</td><td>1</td><td>0</td></tr><tr><td>Marketing</td><td>Computer Systems Analyst IV</td><td>0</td><td>1</td><td>3</td><td>0</td></tr><tr><td>Marketing</td><td>Cost Accountant</td><td>2</td><td>0</td><td>0</td><td>1</td></tr><tr><td>Marketing</td><td>Data Coordiator</td><td>1</td><td>1</td><td>0</td><td>0</td></tr><tr><td>Marketing</td><td>Database Administrator III</td><td>0</td><td>0</td><td>0</td><td>1</td></tr><tr><td>Marketing</td><td>Database Administrator IV</td><td>0</td><td>1</td><td>0</td><td>0</td></tr><tr><td>Marketing</td><td>Dental Hygienist</td><td>0</td><td>1</td><td>0</td><td>2</td></tr><tr><td>Marketing</td><td>Desktop Support Technician</td><td>1</td><td>0</td><td>0</td><td>0</td></tr><tr><td>Marketing</td><td>Developer IV</td><td>0</td><td>0</td><td>0</td><td>1</td></tr><tr><td>Marketing</td><td>Electrical Engineer</td><td>0</td><td>1</td><td>1</td><td>0</td></tr><tr><td>Marketing</td><td>Engineer IV</td><td>1</td><td>0</td><td>0</td><td>0</td></tr><tr><td>Marketing</td><td>Environmental Tech</td><td>0</td><td>0</td><td>0</td><td>1</td></tr><tr><td>Marketing</td><td>Executive Secretary</td><td>1</td><td>0</td><td>0</td><td>0</td></tr><tr><td>Marketing</td><td>Financial Analyst</td><td>0</td><td>0</td><td>1</td><td>0</td></tr><tr><td>Marketing</td><td>Food Chemist</td><td>1</td><td>2</td><td>0</td><td>0</td></tr><tr><td>Marketing</td><td>GIS Technical Architect</td><td>0</td><td>0</td><td>0</td><td>1</td></tr><tr><td>Marketing</td><td>General Manager</td><td>0</td><td>0</td><td>1</td><td>0</td></tr><tr><td>Marketing</td><td>Geologist II</td><td>0</td><td>0</td><td>0</td><td>1</td></tr><tr><td>Marketing</td><td>Graphic Designer</td><td>1</td><td>1</td><td>0</td><td>0</td></tr><tr><td>Marketing</td><td>Health Coach I</td><td>1</td><td>0</td><td>0</td><td>0</td></tr><tr><td>Marketing</td><td>Health Coach III</td><td>0</td><td>1</td><td>1</td><td>0</td></tr><tr><td>Marketing</td><td>Health Coach IV</td><td>1</td><td>1</td><td>0</td><td>1</td></tr><tr><td>Marketing</td><td>Human Resources Assistant III</td><td>1</td><td>0</td><td>0</td><td>0</td></tr><tr><td>Marketing</td><td>Human Resources Manager</td><td>0</td><td>1</td><td>0</td><td>0</td></tr><tr><td>Marketing</td><td>Internal Auditor</td><td>0</td><td>0</td><td>1</td><td>0</td></tr><tr><td>Marketing</td><td>Mechanical Systems Engineer</td><td>2</td><td>0</td><td>0</td><td>0</td></tr><tr><td>Marketing</td><td>Media Manager IV</td><td>0</td><td>1</td><td>0</td><td>0</td></tr><tr><td>Marketing</td><td>Nuclear Power Engineer</td><td>1</td><td>0</td><td>0</td><td>1</td></tr><tr><td>Marketing</td><td>Nurse</td><td>0</td><td>1</td><td>0</td><td>0</td></tr><tr><td>Marketing</td><td>Nurse Practicioner</td><td>0</td><td>0</td><td>1</td><td>0</td></tr><tr><td>Marketing</td><td>Occupational Therapist</td><td>0</td><td>0</td><td>0</td><td>1</td></tr><tr><td>Marketing</td><td>Office Assistant III</td><td>0</td><td>1</td><td>0</td><td>0</td></tr><tr><td>Marketing</td><td>Pharmacist</td><td>0</td><td>0</td><td>2</td><td>0</td></tr><tr><td>Marketing</td><td>Physical Therapy Assistant</td><td>0</td><td>0</td><td>2</td><td>0</td></tr><tr><td>Marketing</td><td>Product Engineer</td><td>0</td><td>2</td><td>0</td><td>0</td></tr><tr><td>Marketing</td><td>Professor</td><td>0</td><td>0</td><td>1</td><td>0</td></tr><tr><td>Marketing</td><td>Programmer IV</td><td>0</td><td>0</td><td>1</td><td>0</td></tr><tr><td>Marketing</td><td>Quality Control Specialist</td><td>0</td><td>0</td><td>0</td><td>1</td></tr><tr><td>Marketing</td><td>Quality Engineer</td><td>0</td><td>0</td><td>1</td><td>0</td></tr><tr><td>Marketing</td><td>Recruiter</td><td>0</td><td>0</td><td>1</td><td>0</td></tr><tr><td>Marketing</td><td>Recruiting Manager</td><td>0</td><td>0</td><td>0</td><td>1</td></tr><tr><td>Marketing</td><td>Registered Nurse</td><td>0</td><td>0</td><td>0</td><td>1</td></tr><tr><td>Marketing</td><td>Research Assistant IV</td><td>0</td><td>1</td><td>0</td><td>0</td></tr><tr><td>Marketing</td><td>Safety Technician I</td><td>0</td><td>1</td><td>0</td><td>0</td></tr><tr><td>Marketing</td><td>Safety Technician II</td><td>1</td><td>0</td><td>0</td><td>1</td></tr><tr><td>Marketing</td><td>Safety Technician IV</td><td>0</td><td>0</td><td>1</td><td>0</td></tr><tr><td>Marketing</td><td>Sales Representative</td><td>0</td><td>2</td><td>0</td><td>1</td></tr><tr><td>Marketing</td><td>Senior Cost Accountant</td><td>0</td><td>0</td><td>1</td><td>0</td></tr><tr><td>Marketing</td><td>Senior Developer</td><td>0</td><td>0</td><td>0</td><td>1</td></tr><tr><td>Marketing</td><td>Senior Editor</td><td>1</td><td>0</td><td>0</td><td>0</td></tr><tr><td>Marketing</td><td>Senior Financial Analyst</td><td>0</td><td>1</td><td>0</td><td>0</td></tr><tr><td>Marketing</td><td>Software Engineer IV</td><td>0</td><td>0</td><td>0</td><td>1</td></tr><tr><td>Marketing</td><td>Software Test Engineer I</td><td>0</td><td>0</td><td>0</td><td>1</td></tr><tr><td>Marketing</td><td>Software Test Engineer IV</td><td>0</td><td>0</td><td>1</td><td>0</td></tr><tr><td>Marketing</td><td>Staff Accountant II</td><td>1</td><td>0</td><td>1</td><td>0</td></tr><tr><td>Marketing</td><td>Staff Accountant III</td><td>1</td><td>0</td><td>0</td><td>0</td></tr><tr><td>Marketing</td><td>Staff Scientist</td><td>0</td><td>1</td><td>0</td><td>0</td></tr><tr><td>Marketing</td><td>Statistician I</td><td>0</td><td>0</td><td>0</td><td>1</td></tr><tr><td>Marketing</td><td>Statistician II</td><td>1</td><td>3</td><td>2</td><td>0</td></tr><tr><td>Marketing</td><td>Structural Engineer</td><td>1</td><td>0</td><td>0</td><td>0</td></tr><tr><td>Marketing</td><td>Systems Administrator IV</td><td>0</td><td>1</td><td>0</td><td>0</td></tr><tr><td>Marketing</td><td>Tax Accountant</td><td>0</td><td>1</td><td>0</td><td>1</td></tr><tr><td>Marketing</td><td>Teacher</td><td>2</td><td>0</td><td>1</td><td>1</td></tr><tr><td>Marketing</td><td>Technical Writer</td><td>1</td><td>0</td><td>0</td><td>0</td></tr><tr><td>Marketing</td><td>VP Accounting</td><td>0</td><td>1</td><td>2</td><td>0</td></tr><tr><td>Marketing</td><td>VP Marketing</td><td>0</td><td>0</td><td>1</td><td>0</td></tr><tr><td>Marketing</td><td>VP Product Management</td><td>0</td><td>0</td><td>2</td><td>0</td></tr><tr><td>Marketing</td><td>VP Quality Control</td><td>0</td><td>0</td><td>0</td><td>1</td></tr><tr><td>Marketing</td><td>Web Designer I</td><td>0</td><td>0</td><td>1</td><td>0</td></tr><tr><td>Marketing</td><td>Web Developer I</td><td>0</td><td>0</td><td>1</td><td>0</td></tr><tr><td>Marketing</td><td>Web Developer III</td><td>0</td><td>0</td><td>1</td><td>0</td></tr><tr><td>Product Management</td><td>Account Representative III</td><td>1</td><td>0</td><td>0</td><td>0</td></tr><tr><td>Product Management</td><td>Accountant I</td><td>0</td><td>1</td><td>0</td><td>0</td></tr><tr><td>Product Management</td><td>Accounting Assistant IV</td><td>0</td><td>0</td><td>1</td><td>0</td></tr><tr><td>Product Management</td><td>Analyst Programmer</td><td>0</td><td>0</td><td>2</td><td>0</td></tr><tr><td>Product Management</td><td>Assistant Manager</td><td>1</td><td>0</td><td>0</td><td>0</td></tr><tr><td>Product Management</td><td>Automation Specialist I</td><td>1</td><td>0</td><td>0</td><td>0</td></tr><tr><td>Product Management</td><td>Budget/Accounting Analyst I</td><td>0</td><td>0</td><td>0</td><td>1</td></tr><tr><td>Product Management</td><td>Budget/Accounting Analyst IV</td><td>1</td><td>1</td><td>0</td><td>0</td></tr><tr><td>Product Management</td><td>Cost Accountant</td><td>1</td><td>0</td><td>0</td><td>0</td></tr><tr><td>Product Management</td><td>Database Administrator I</td><td>0</td><td>0</td><td>0</td><td>1</td></tr><tr><td>Product Management</td><td>Electrical Engineer</td><td>0</td><td>0</td><td>0</td><td>1</td></tr><tr><td>Product Management</td><td>Engineer IV</td><td>0</td><td>1</td><td>1</td><td>0</td></tr><tr><td>Product Management</td><td>Geological Engineer</td><td>0</td><td>1</td><td>0</td><td>0</td></tr><tr><td>Product Management</td><td>Graphic Designer</td><td>0</td><td>3</td><td>0</td><td>0</td></tr><tr><td>Product Management</td><td>Help Desk Operator</td><td>1</td><td>0</td><td>0</td><td>1</td></tr><tr><td>Product Management</td><td>Help Desk Technician</td><td>0</td><td>1</td><td>0</td><td>0</td></tr><tr><td>Product Management</td><td>Junior Executive</td><td>0</td><td>0</td><td>0</td><td>1</td></tr><tr><td>Product Management</td><td>Legal Assistant</td><td>0</td><td>1</td><td>0</td><td>0</td></tr><tr><td>Product Management</td><td>Librarian</td><td>0</td><td>1</td><td>0</td><td>0</td></tr><tr><td>Product Management</td><td>Marketing Manager</td><td>0</td><td>0</td><td>0</td><td>1</td></tr><tr><td>Product Management</td><td>Nurse Practicioner</td><td>0</td><td>1</td><td>0</td><td>0</td></tr><tr><td>Product Management</td><td>Office Assistant IV</td><td>0</td><td>0</td><td>1</td><td>0</td></tr><tr><td>Product Management</td><td>Payment Adjustment Coordinator</td><td>1</td><td>1</td><td>0</td><td>0</td></tr><tr><td>Product Management</td><td>Pharmacist</td><td>0</td><td>0</td><td>1</td><td>0</td></tr><tr><td>Product Management</td><td>Physical Therapy Assistant</td><td>0</td><td>0</td><td>0</td><td>1</td></tr><tr><td>Product Management</td><td>Programmer IV</td><td>0</td><td>1</td><td>0</td><td>0</td></tr><tr><td>Product Management</td><td>Quality Control Specialist</td><td>0</td><td>0</td><td>1</td><td>0</td></tr><tr><td>Product Management</td><td>Research Assistant II</td><td>0</td><td>2</td><td>0</td><td>0</td></tr><tr><td>Product Management</td><td>Sales Associate</td><td>0</td><td>1</td><td>0</td><td>0</td></tr><tr><td>Product Management</td><td>Senior Editor</td><td>1</td><td>0</td><td>0</td><td>0</td></tr><tr><td>Product Management</td><td>Software Consultant</td><td>1</td><td>0</td><td>1</td><td>0</td></tr><tr><td>Product Management</td><td>Software Test Engineer I</td><td>0</td><td>1</td><td>0</td><td>0</td></tr><tr><td>Product Management</td><td>Software Test Engineer IV</td><td>0</td><td>1</td><td>0</td><td>0</td></tr><tr><td>Product Management</td><td>Staff Accountant IV</td><td>0</td><td>1</td><td>0</td><td>0</td></tr><tr><td>Product Management</td><td>Staff Scientist</td><td>1</td><td>0</td><td>0</td><td>0</td></tr><tr><td>Product Management</td><td>Systems Administrator IV</td><td>0</td><td>0</td><td>0</td><td>1</td></tr><tr><td>Product Management</td><td>Technical Writer</td><td>0</td><td>0</td><td>2</td><td>0</td></tr><tr><td>Product Management</td><td>Web Developer I</td><td>0</td><td>0</td><td>1</td><td>1</td></tr><tr><td>Research and Development</td><td>null</td><td>1</td><td>0</td><td>0</td><td>1</td></tr><tr><td>Research and Development</td><td>Account Executive</td><td>0</td><td>0</td><td>1</td><td>1</td></tr><tr><td>Research and Development</td><td>Account Representative III</td><td>1</td><td>0</td><td>0</td><td>0</td></tr><tr><td>Research and Development</td><td>Account Representative IV</td><td>1</td><td>0</td><td>0</td><td>0</td></tr><tr><td>Research and Development</td><td>Accounting Assistant IV</td><td>0</td><td>0</td><td>0</td><td>1</td></tr><tr><td>Research and Development</td><td>Actuary</td><td>1</td><td>0</td><td>0</td><td>0</td></tr><tr><td>Research and Development</td><td>Administrative Officer</td><td>0</td><td>1</td><td>1</td><td>0</td></tr><tr><td>Research and Development</td><td>Analog Circuit Design manager</td><td>0</td><td>0</td><td>1</td><td>0</td></tr><tr><td>Research and Development</td><td>Assistant Professor</td><td>0</td><td>0</td><td>1</td><td>2</td></tr><tr><td>Research and Development</td><td>Associate Professor</td><td>0</td><td>1</td><td>1</td><td>0</td></tr><tr><td>Research and Development</td><td>Automation Specialist I</td><td>0</td><td>0</td><td>0</td><td>1</td></tr><tr><td>Research and Development</td><td>Biostatistician II</td><td>1</td><td>0</td><td>0</td><td>0</td></tr><tr><td>Research and Development</td><td>Biostatistician III</td><td>0</td><td>0</td><td>0</td><td>2</td></tr><tr><td>Research and Development</td><td>Budget/Accounting Analyst III</td><td>0</td><td>1</td><td>0</td><td>1</td></tr><tr><td>Research and Development</td><td>Budget/Accounting Analyst IV</td><td>0</td><td>1</td><td>1</td><td>0</td></tr><tr><td>Research and Development</td><td>Chemical Engineer</td><td>0</td><td>0</td><td>2</td><td>0</td></tr><tr><td>Research and Development</td><td>Chief Design Engineer</td><td>0</td><td>2</td><td>0</td><td>0</td></tr><tr><td>Research and Development</td><td>Civil Engineer</td><td>1</td><td>0</td><td>0</td><td>0</td></tr><tr><td>Research and Development</td><td>Clinical Specialist</td><td>1</td><td>1</td><td>0</td><td>1</td></tr><tr><td>Research and Development</td><td>Compensation Analyst</td><td>0</td><td>0</td><td>1</td><td>0</td></tr><tr><td>Research and Development</td><td>Computer Systems Analyst III</td><td>0</td><td>0</td><td>1</td><td>0</td></tr><tr><td>Research and Development</td><td>Cost Accountant</td><td>1</td><td>0</td><td>1</td><td>0</td></tr><tr><td>Research and Development</td><td>Data Coordiator</td><td>0</td><td>0</td><td>0</td><td>1</td></tr><tr><td>Research and Development</td><td>Database Administrator II</td><td>0</td><td>0</td><td>1</td><td>0</td></tr><tr><td>Research and Development</td><td>Database Administrator III</td><td>1</td><td>0</td><td>0</td><td>0</td></tr><tr><td>Research and Development</td><td>Dental Hygienist</td><td>0</td><td>0</td><td>1</td><td>0</td></tr><tr><td>Research and Development</td><td>Director of Sales</td><td>0</td><td>0</td><td>1</td><td>0</td></tr><tr><td>Research and Development</td><td>Electrical Engineer</td><td>0</td><td>0</td><td>1</td><td>0</td></tr><tr><td>Research and Development</td><td>Engineer IV</td><td>0</td><td>0</td><td>1</td><td>0</td></tr><tr><td>Research and Development</td><td>Environmental Tech</td><td>0</td><td>0</td><td>1</td><td>0</td></tr><tr><td>Research and Development</td><td>Executive Secretary</td><td>0</td><td>1</td><td>0</td><td>1</td></tr><tr><td>Research and Development</td><td>Food Chemist</td><td>0</td><td>0</td><td>0</td><td>1</td></tr><tr><td>Research and Development</td><td>General Manager</td><td>1</td><td>0</td><td>0</td><td>0</td></tr><tr><td>Research and Development</td><td>Geologist II</td><td>1</td><td>2</td><td>0</td><td>0</td></tr><tr><td>Research and Development</td><td>Geologist IV</td><td>0</td><td>0</td><td>1</td><td>0</td></tr><tr><td>Research and Development</td><td>Graphic Designer</td><td>0</td><td>1</td><td>0</td><td>2</td></tr><tr><td>Research and Development</td><td>Health Coach I</td><td>1</td><td>0</td><td>0</td><td>0</td></tr><tr><td>Research and Development</td><td>Health Coach III</td><td>0</td><td>0</td><td>1</td><td>0</td></tr><tr><td>Research and Development</td><td>Health Coach IV</td><td>1</td><td>0</td><td>0</td><td>3</td></tr><tr><td>Research and Development</td><td>Information Systems Manager</td><td>0</td><td>0</td><td>1</td><td>0</td></tr><tr><td>Research and Development</td><td>Internal Auditor</td><td>0</td><td>0</td><td>1</td><td>1</td></tr><tr><td>Research and Development</td><td>Junior Executive</td><td>0</td><td>0</td><td>1</td><td>0</td></tr><tr><td>Research and Development</td><td>Legal Assistant</td><td>0</td><td>0</td><td>1</td><td>0</td></tr><tr><td>Research and Development</td><td>Librarian</td><td>0</td><td>0</td><td>1</td><td>0</td></tr><tr><td>Research and Development</td><td>Marketing Manager</td><td>0</td><td>2</td><td>0</td><td>0</td></tr><tr><td>Research and Development</td><td>Media Manager III</td><td>0</td><td>1</td><td>1</td><td>1</td></tr><tr><td>Research and Development</td><td>Nuclear Power Engineer</td><td>0</td><td>0</td><td>2</td><td>0</td></tr><tr><td>Research and Development</td><td>Operator</td><td>0</td><td>0</td><td>0</td><td>2</td></tr><tr><td>Research and Development</td><td>Paralegal</td><td>0</td><td>2</td><td>0</td><td>0</td></tr><tr><td>Research and Development</td><td>Payment Adjustment Coordinator</td><td>0</td><td>1</td><td>0</td><td>0</td></tr><tr><td>Research and Development</td><td>Pharmacist</td><td>1</td><td>0</td><td>2</td><td>0</td></tr><tr><td>Research and Development</td><td>Programmer Analyst II</td><td>0</td><td>0</td><td>0</td><td>1</td></tr><tr><td>Research and Development</td><td>Programmer Analyst IV</td><td>0</td><td>0</td><td>1</td><td>0</td></tr><tr><td>Research and Development</td><td>Programmer I</td><td>0</td><td>1</td><td>0</td><td>2</td></tr><tr><td>Research and Development</td><td>Programmer III</td><td>0</td><td>0</td><td>0</td><td>1</td></tr><tr><td>Research and Development</td><td>Programmer IV</td><td>0</td><td>0</td><td>0</td><td>1</td></tr><tr><td>Research and Development</td><td>Project Manager</td><td>0</td><td>0</td><td>0</td><td>1</td></tr><tr><td>Research and Development</td><td>Quality Control Specialist</td><td>0</td><td>1</td><td>1</td><td>0</td></tr><tr><td>Research and Development</td><td>Recruiter</td><td>1</td><td>1</td><td>2</td><td>2</td></tr><tr><td>Research and Development</td><td>Recruiting Manager</td><td>4</td><td>0</td><td>0</td><td>1</td></tr><tr><td>Research and Development</td><td>Registered Nurse</td><td>1</td><td>0</td><td>0</td><td>1</td></tr><tr><td>Research and Development</td><td>Research Assistant II</td><td>0</td><td>1</td><td>1</td><td>0</td></tr><tr><td>Research and Development</td><td>Research Associate</td><td>0</td><td>2</td><td>0</td><td>0</td></tr><tr><td>Research and Development</td><td>Sales Associate</td><td>0</td><td>0</td><td>0</td><td>1</td></tr><tr><td>Research and Development</td><td>Sales Representative</td><td>0</td><td>1</td><td>0</td><td>1</td></tr><tr><td>Research and Development</td><td>Senior Cost Accountant</td><td>0</td><td>0</td><td>1</td><td>0</td></tr><tr><td>Research and Development</td><td>Senior Developer</td><td>0</td><td>1</td><td>0</td><td>0</td></tr><tr><td>Research and Development</td><td>Senior Editor</td><td>1</td><td>0</td><td>0</td><td>1</td></tr><tr><td>Research and Development</td><td>Senior Financial Analyst</td><td>0</td><td>0</td><td>1</td><td>1</td></tr><tr><td>Research and Development</td><td>Senior Quality Engineer</td><td>0</td><td>0</td><td>1</td><td>0</td></tr><tr><td>Research and Development</td><td>Social Worker</td><td>1</td><td>0</td><td>1</td><td>0</td></tr><tr><td>Research and Development</td><td>Software Engineer I</td><td>0</td><td>1</td><td>0</td><td>0</td></tr><tr><td>Research and Development</td><td>Software Test Engineer I</td><td>1</td><td>0</td><td>0</td><td>0</td></tr><tr><td>Research and Development</td><td>Software Test Engineer IV</td><td>0</td><td>0</td><td>0</td><td>1</td></tr><tr><td>Research and Development</td><td>Speech Pathologist</td><td>0</td><td>0</td><td>1</td><td>0</td></tr><tr><td>Research and Development</td><td>Staff Accountant IV</td><td>1</td><td>0</td><td>1</td><td>1</td></tr><tr><td>Research and Development</td><td>Staff Scientist</td><td>0</td><td>0</td><td>1</td><td>0</td></tr><tr><td>Research and Development</td><td>Statistician I</td><td>0</td><td>0</td><td>0</td><td>2</td></tr><tr><td>Research and Development</td><td>Statistician II</td><td>1</td><td>0</td><td>0</td><td>1</td></tr><tr><td>Research and Development</td><td>Structural Engineer</td><td>1</td><td>1</td><td>1</td><td>0</td></tr><tr><td>Research and Development</td><td>Systems Administrator II</td><td>0</td><td>1</td><td>0</td><td>0</td></tr><tr><td>Research and Development</td><td>Systems Administrator IV</td><td>0</td><td>1</td><td>0</td><td>0</td></tr><tr><td>Research and Development</td><td>Tax Accountant</td><td>0</td><td>1</td><td>1</td><td>0</td></tr><tr><td>Research and Development</td><td>Teacher</td><td>0</td><td>1</td><td>2</td><td>1</td></tr><tr><td>Research and Development</td><td>Technical Writer</td><td>0</td><td>0</td><td>1</td><td>1</td></tr><tr><td>Research and Development</td><td>VP Accounting</td><td>0</td><td>0</td><td>0</td><td>1</td></tr><tr><td>Research and Development</td><td>Web Designer I</td><td>1</td><td>0</td><td>0</td><td>0</td></tr><tr><td>Research and Development</td><td>Web Designer II</td><td>0</td><td>0</td><td>0</td><td>1</td></tr><tr><td>Research and Development</td><td>Web Developer III</td><td>0</td><td>1</td><td>0</td><td>1</td></tr><tr><td>Sales</td><td>Account Executive</td><td>0</td><td>1</td><td>0</td><td>0</td></tr><tr><td>Sales</td><td>Accounting Assistant II</td><td>0</td><td>1</td><td>0</td><td>0</td></tr><tr><td>Sales</td><td>Accounting Assistant IV</td><td>1</td><td>0</td><td>0</td><td>0</td></tr><tr><td>Sales</td><td>Actuary</td><td>0</td><td>1</td><td>0</td><td>0</td></tr><tr><td>Sales</td><td>Administrative Assistant I</td><td>0</td><td>1</td><td>0</td><td>0</td></tr><tr><td>Sales</td><td>Administrative Officer</td><td>1</td><td>0</td><td>0</td><td>0</td></tr><tr><td>Sales</td><td>Analyst Programmer</td><td>0</td><td>1</td><td>0</td><td>0</td></tr><tr><td>Sales</td><td>Assistant Manager</td><td>0</td><td>1</td><td>1</td><td>0</td></tr><tr><td>Sales</td><td>Assistant Professor</td><td>0</td><td>0</td><td>2</td><td>0</td></tr><tr><td>Sales</td><td>Associate Professor</td><td>0</td><td>2</td><td>0</td><td>0</td></tr><tr><td>Sales</td><td>Biostatistician II</td><td>0</td><td>1</td><td>0</td><td>0</td></tr><tr><td>Sales</td><td>Biostatistician III</td><td>0</td><td>2</td><td>0</td><td>1</td></tr><tr><td>Sales</td><td>Budget/Accounting Analyst III</td><td>1</td><td>0</td><td>0</td><td>0</td></tr><tr><td>Sales</td><td>Budget/Accounting Analyst IV</td><td>0</td><td>0</td><td>2</td><td>1</td></tr><tr><td>Sales</td><td>Business Systems Development Analyst</td><td>0</td><td>0</td><td>0</td><td>1</td></tr><tr><td>Sales</td><td>Chief Design Engineer</td><td>0</td><td>1</td><td>0</td><td>0</td></tr><tr><td>Sales</td><td>Civil Engineer</td><td>1</td><td>0</td><td>1</td><td>0</td></tr><tr><td>Sales</td><td>Clinical Specialist</td><td>0</td><td>1</td><td>0</td><td>0</td></tr><tr><td>Sales</td><td>Computer Systems Analyst I</td><td>0</td><td>0</td><td>1</td><td>0</td></tr><tr><td>Sales</td><td>Computer Systems Analyst IV</td><td>0</td><td>0</td><td>0</td><td>1</td></tr><tr><td>Sales</td><td>Cost Accountant</td><td>1</td><td>1</td><td>1</td><td>0</td></tr><tr><td>Sales</td><td>Database Administrator III</td><td>0</td><td>0</td><td>1</td><td>0</td></tr><tr><td>Sales</td><td>Design Engineer</td><td>1</td><td>0</td><td>0</td><td>0</td></tr><tr><td>Sales</td><td>Director of Sales</td><td>0</td><td>1</td><td>0</td><td>2</td></tr><tr><td>Sales</td><td>Engineer III</td><td>1</td><td>0</td><td>0</td><td>0</td></tr><tr><td>Sales</td><td>Engineer IV</td><td>0</td><td>1</td><td>0</td><td>0</td></tr><tr><td>Sales</td><td>Financial Analyst</td><td>0</td><td>0</td><td>0</td><td>1</td></tr><tr><td>Sales</td><td>Geologist II</td><td>0</td><td>2</td><td>0</td><td>2</td></tr><tr><td>Sales</td><td>Geologist IV</td><td>0</td><td>0</td><td>1</td><td>1</td></tr><tr><td>Sales</td><td>Graphic Designer</td><td>1</td><td>0</td><td>0</td><td>0</td></tr><tr><td>Sales</td><td>Health Coach I</td><td>1</td><td>0</td><td>0</td><td>0</td></tr><tr><td>Sales</td><td>Health Coach III</td><td>0</td><td>0</td><td>2</td><td>2</td></tr><tr><td>Sales</td><td>Human Resources Manager</td><td>0</td><td>1</td><td>0</td><td>0</td></tr><tr><td>Sales</td><td>Librarian</td><td>0</td><td>1</td><td>0</td><td>0</td></tr><tr><td>Sales</td><td>Mechanical Systems Engineer</td><td>0</td><td>1</td><td>1</td><td>0</td></tr><tr><td>Sales</td><td>Media Manager II</td><td>0</td><td>0</td><td>0</td><td>1</td></tr><tr><td>Sales</td><td>Nurse</td><td>0</td><td>0</td><td>1</td><td>0</td></tr><tr><td>Sales</td><td>Nurse Practicioner</td><td>1</td><td>0</td><td>0</td><td>0</td></tr><tr><td>Sales</td><td>Pharmacist</td><td>0</td><td>0</td><td>0</td><td>1</td></tr><tr><td>Sales</td><td>Programmer IV</td><td>0</td><td>1</td><td>0</td><td>2</td></tr><tr><td>Sales</td><td>Quality Control Specialist</td><td>0</td><td>0</td><td>0</td><td>1</td></tr><tr><td>Sales</td><td>Recruiter</td><td>0</td><td>2</td><td>0</td><td>0</td></tr><tr><td>Sales</td><td>Recruiting Manager</td><td>0</td><td>1</td><td>2</td><td>0</td></tr><tr><td>Sales</td><td>Research Assistant II</td><td>1</td><td>1</td><td>0</td><td>0</td></tr><tr><td>Sales</td><td>Research Assistant IV</td><td>0</td><td>1</td><td>0</td><td>0</td></tr><tr><td>Sales</td><td>Senior Financial Analyst</td><td>1</td><td>2</td><td>0</td><td>0</td></tr><tr><td>Sales</td><td>Senior Quality Engineer</td><td>0</td><td>0</td><td>1</td><td>0</td></tr><tr><td>Sales</td><td>Social Worker</td><td>0</td><td>0</td><td>0</td><td>1</td></tr><tr><td>Sales</td><td>Software Test Engineer IV</td><td>0</td><td>1</td><td>0</td><td>0</td></tr><tr><td>Sales</td><td>Staff Accountant I</td><td>0</td><td>1</td><td>0</td><td>0</td></tr><tr><td>Sales</td><td>Staff Accountant III</td><td>0</td><td>1</td><td>0</td><td>0</td></tr><tr><td>Sales</td><td>Staff Accountant IV</td><td>0</td><td>0</td><td>1</td><td>0</td></tr><tr><td>Sales</td><td>Staff Scientist</td><td>0</td><td>0</td><td>0</td><td>1</td></tr><tr><td>Sales</td><td>Statistician II</td><td>1</td><td>1</td><td>0</td><td>0</td></tr><tr><td>Sales</td><td>Systems Administrator IV</td><td>1</td><td>0</td><td>1</td><td>0</td></tr><tr><td>Sales</td><td>Teacher</td><td>0</td><td>0</td><td>1</td><td>1</td></tr><tr><td>Sales</td><td>VP Accounting</td><td>0</td><td>0</td><td>1</td><td>3</td></tr><tr><td>Sales</td><td>Web Designer I</td><td>1</td><td>0</td><td>0</td><td>0</td></tr><tr><td>Sales</td><td>Web Developer III</td><td>1</td><td>0</td><td>0</td><td>1</td></tr><tr><td>Services</td><td>null</td><td>1</td><td>1</td><td>0</td><td>0</td></tr><tr><td>Services</td><td>Account Coordinator</td><td>0</td><td>0</td><td>0</td><td>1</td></tr><tr><td>Services</td><td>Account Executive</td><td>0</td><td>0</td><td>2</td><td>0</td></tr><tr><td>Services</td><td>Accountant I</td><td>0</td><td>0</td><td>0</td><td>1</td></tr><tr><td>Services</td><td>Accountant III</td><td>0</td><td>0</td><td>1</td><td>0</td></tr><tr><td>Services</td><td>Accounting Assistant I</td><td>0</td><td>1</td><td>0</td><td>0</td></tr><tr><td>Services</td><td>Accounting Assistant IV</td><td>0</td><td>1</td><td>0</td><td>0</td></tr><tr><td>Services</td><td>Administrative Assistant I</td><td>1</td><td>0</td><td>0</td><td>0</td></tr><tr><td>Services</td><td>Analog Circuit Design manager</td><td>0</td><td>0</td><td>0</td><td>1</td></tr><tr><td>Services</td><td>Analyst Programmer</td><td>0</td><td>1</td><td>1</td><td>1</td></tr><tr><td>Services</td><td>Assistant Professor</td><td>0</td><td>0</td><td>0</td><td>1</td></tr><tr><td>Services</td><td>Associate Professor</td><td>0</td><td>1</td><td>2</td><td>0</td></tr><tr><td>Services</td><td>Biostatistician II</td><td>0</td><td>1</td><td>0</td><td>0</td></tr><tr><td>Services</td><td>Biostatistician III</td><td>0</td><td>1</td><td>1</td><td>1</td></tr><tr><td>Services</td><td>Biostatistician IV</td><td>0</td><td>1</td><td>1</td><td>0</td></tr><tr><td>Services</td><td>Budget/Accounting Analyst II</td><td>0</td><td>0</td><td>1</td><td>0</td></tr><tr><td>Services</td><td>Budget/Accounting Analyst III</td><td>0</td><td>2</td><td>0</td><td>0</td></tr><tr><td>Services</td><td>Budget/Accounting Analyst IV</td><td>0</td><td>3</td><td>1</td><td>0</td></tr><tr><td>Services</td><td>Chemical Engineer</td><td>0</td><td>1</td><td>0</td><td>0</td></tr><tr><td>Services</td><td>Chief Design Engineer</td><td>0</td><td>0</td><td>0</td><td>1</td></tr><tr><td>Services</td><td>Civil Engineer</td><td>0</td><td>0</td><td>1</td><td>1</td></tr><tr><td>Services</td><td>Clinical Specialist</td><td>1</td><td>1</td><td>2</td><td>1</td></tr><tr><td>Services</td><td>Community Outreach Specialist</td><td>1</td><td>1</td><td>2</td><td>0</td></tr><tr><td>Services</td><td>Computer Systems Analyst IV</td><td>0</td><td>0</td><td>1</td><td>0</td></tr><tr><td>Services</td><td>Cost Accountant</td><td>1</td><td>0</td><td>0</td><td>0</td></tr><tr><td>Services</td><td>Data Coordiator</td><td>0</td><td>1</td><td>0</td><td>1</td></tr><tr><td>Services</td><td>Database Administrator I</td><td>0</td><td>0</td><td>2</td><td>0</td></tr><tr><td>Services</td><td>Database Administrator IV</td><td>0</td><td>1</td><td>0</td><td>0</td></tr><tr><td>Services</td><td>Dental Hygienist</td><td>0</td><td>2</td><td>0</td><td>0</td></tr><tr><td>Services</td><td>Design Engineer</td><td>0</td><td>0</td><td>1</td><td>0</td></tr><tr><td>Services</td><td>Developer I</td><td>0</td><td>1</td><td>2</td><td>0</td></tr><tr><td>Services</td><td>Developer II</td><td>0</td><td>1</td><td>0</td><td>0</td></tr><tr><td>Services</td><td>Developer III</td><td>0</td><td>0</td><td>1</td><td>0</td></tr><tr><td>Services</td><td>Director of Sales</td><td>0</td><td>0</td><td>0</td><td>1</td></tr><tr><td>Services</td><td>Engineer I</td><td>0</td><td>1</td><td>0</td><td>0</td></tr><tr><td>Services</td><td>Engineer III</td><td>0</td><td>0</td><td>3</td><td>0</td></tr><tr><td>Services</td><td>Engineer IV</td><td>0</td><td>1</td><td>0</td><td>0</td></tr><tr><td>Services</td><td>Environmental Tech</td><td>0</td><td>1</td><td>0</td><td>0</td></tr><tr><td>Services</td><td>Executive Secretary</td><td>0</td><td>0</td><td>1</td><td>1</td></tr><tr><td>Services</td><td>Food Chemist</td><td>1</td><td>1</td><td>0</td><td>2</td></tr><tr><td>Services</td><td>GIS Technical Architect</td><td>1</td><td>1</td><td>0</td><td>0</td></tr><tr><td>Services</td><td>General Manager</td><td>0</td><td>1</td><td>0</td><td>0</td></tr><tr><td>Services</td><td>Geological Engineer</td><td>0</td><td>0</td><td>0</td><td>1</td></tr><tr><td>Services</td><td>Geologist I</td><td>0</td><td>0</td><td>1</td><td>1</td></tr><tr><td>Services</td><td>Geologist II</td><td>1</td><td>1</td><td>0</td><td>0</td></tr><tr><td>Services</td><td>Geologist IV</td><td>0</td><td>0</td><td>0</td><td>3</td></tr><tr><td>Services</td><td>Graphic Designer</td><td>0</td><td>1</td><td>0</td><td>0</td></tr><tr><td>Services</td><td>Health Coach III</td><td>0</td><td>0</td><td>0</td><td>1</td></tr><tr><td>Services</td><td>Health Coach IV</td><td>0</td><td>0</td><td>1</td><td>0</td></tr><tr><td>Services</td><td>Human Resources Assistant II</td><td>0</td><td>1</td><td>1</td><td>0</td></tr><tr><td>Services</td><td>Human Resources Assistant IV</td><td>1</td><td>0</td><td>0</td><td>1</td></tr><tr><td>Services</td><td>Human Resources Manager</td><td>0</td><td>1</td><td>0</td><td>1</td></tr><tr><td>Services</td><td>Information Systems Manager</td><td>0</td><td>0</td><td>1</td><td>0</td></tr><tr><td>Services</td><td>Internal Auditor</td><td>0</td><td>3</td><td>0</td><td>0</td></tr><tr><td>Services</td><td>Junior Executive</td><td>0</td><td>1</td><td>1</td><td>0</td></tr><tr><td>Services</td><td>Legal Assistant</td><td>1</td><td>0</td><td>0</td><td>0</td></tr><tr><td>Services</td><td>Librarian</td><td>0</td><td>1</td><td>0</td><td>1</td></tr><tr><td>Services</td><td>Media Manager III</td><td>0</td><td>0</td><td>0</td><td>2</td></tr><tr><td>Services</td><td>Media Manager IV</td><td>0</td><td>0</td><td>1</td><td>0</td></tr><tr><td>Services</td><td>Nuclear Power Engineer</td><td>1</td><td>0</td><td>0</td><td>0</td></tr><tr><td>Services</td><td>Nurse Practicioner</td><td>0</td><td>1</td><td>0</td><td>0</td></tr><tr><td>Services</td><td>Occupational Therapist</td><td>0</td><td>1</td><td>1</td><td>0</td></tr><tr><td>Services</td><td>Operator</td><td>0</td><td>0</td><td>1</td><td>0</td></tr><tr><td>Services</td><td>Payment Adjustment Coordinator</td><td>0</td><td>0</td><td>0</td><td>1</td></tr><tr><td>Services</td><td>Pharmacist</td><td>0</td><td>0</td><td>0</td><td>1</td></tr><tr><td>Services</td><td>Physical Therapy Assistant</td><td>0</td><td>1</td><td>1</td><td>0</td></tr><tr><td>Services</td><td>Professor</td><td>0</td><td>0</td><td>0</td><td>2</td></tr><tr><td>Services</td><td>Programmer Analyst II</td><td>1</td><td>0</td><td>0</td><td>0</td></tr><tr><td>Services</td><td>Programmer I</td><td>1</td><td>0</td><td>2</td><td>0</td></tr><tr><td>Services</td><td>Programmer III</td><td>0</td><td>0</td><td>2</td><td>0</td></tr><tr><td>Services</td><td>Programmer IV</td><td>2</td><td>3</td><td>0</td><td>3</td></tr><tr><td>Services</td><td>Project Manager</td><td>1</td><td>0</td><td>0</td><td>0</td></tr><tr><td>Services</td><td>Quality Control Specialist</td><td>0</td><td>0</td><td>2</td><td>1</td></tr><tr><td>Services</td><td>Quality Engineer</td><td>0</td><td>1</td><td>1</td><td>1</td></tr><tr><td>Services</td><td>Recruiter</td><td>0</td><td>0</td><td>1</td><td>1</td></tr><tr><td>Services</td><td>Recruiting Manager</td><td>0</td><td>1</td><td>1</td><td>0</td></tr><tr><td>Services</td><td>Registered Nurse</td><td>0</td><td>1</td><td>0</td><td>0</td></tr><tr><td>Services</td><td>Research Assistant II</td><td>0</td><td>1</td><td>0</td><td>2</td></tr><tr><td>Services</td><td>Research Assistant III</td><td>0</td><td>0</td><td>1</td><td>0</td></tr><tr><td>Services</td><td>Research Assistant IV</td><td>0</td><td>2</td><td>1</td><td>1</td></tr><tr><td>Services</td><td>Safety Technician IV</td><td>0</td><td>0</td><td>0</td><td>1</td></tr><tr><td>Services</td><td>Sales Representative</td><td>0</td><td>1</td><td>0</td><td>1</td></tr><tr><td>Services</td><td>Senior Cost Accountant</td><td>1</td><td>2</td><td>0</td><td>0</td></tr><tr><td>Services</td><td>Senior Developer</td><td>0</td><td>0</td><td>0</td><td>1</td></tr><tr><td>Services</td><td>Senior Editor</td><td>0</td><td>1</td><td>0</td><td>0</td></tr><tr><td>Services</td><td>Senior Financial Analyst</td><td>1</td><td>1</td><td>0</td><td>0</td></tr><tr><td>Services</td><td>Software Engineer I</td><td>0</td><td>3</td><td>0</td><td>3</td></tr><tr><td>Services</td><td>Software Engineer III</td><td>1</td><td>0</td><td>0</td><td>0</td></tr><tr><td>Services</td><td>Software Test Engineer III</td><td>0</td><td>0</td><td>0</td><td>1</td></tr><tr><td>Services</td><td>Software Test Engineer IV</td><td>1</td><td>1</td><td>1</td><td>1</td></tr><tr><td>Services</td><td>Staff Accountant III</td><td>0</td><td>0</td><td>1</td><td>0</td></tr><tr><td>Services</td><td>Staff Accountant IV</td><td>1</td><td>0</td><td>0</td><td>0</td></tr><tr><td>Services</td><td>Staff Scientist</td><td>0</td><td>1</td><td>0</td><td>0</td></tr><tr><td>Services</td><td>Statistician I</td><td>1</td><td>0</td><td>0</td><td>0</td></tr><tr><td>Services</td><td>Statistician II</td><td>1</td><td>0</td><td>0</td><td>1</td></tr><tr><td>Services</td><td>Statistician III</td><td>0</td><td>0</td><td>1</td><td>0</td></tr><tr><td>Services</td><td>Structural Analysis Engineer</td><td>0</td><td>1</td><td>1</td><td>1</td></tr><tr><td>Services</td><td>Systems Administrator IV</td><td>1</td><td>0</td><td>1</td><td>0</td></tr><tr><td>Services</td><td>Teacher</td><td>3</td><td>2</td><td>0</td><td>1</td></tr><tr><td>Services</td><td>VP Accounting</td><td>0</td><td>2</td><td>0</td><td>0</td></tr><tr><td>Services</td><td>VP Product Management</td><td>0</td><td>0</td><td>2</td><td>1</td></tr><tr><td>Services</td><td>VP Quality Control</td><td>0</td><td>0</td><td>1</td><td>0</td></tr><tr><td>Services</td><td>Web Designer I</td><td>1</td><td>0</td><td>1</td><td>0</td></tr><tr><td>Services</td><td>Web Designer II</td><td>0</td><td>1</td><td>1</td><td>0</td></tr><tr><td>Services</td><td>Web Designer III</td><td>1</td><td>0</td><td>0</td><td>0</td></tr><tr><td>Services</td><td>Web Developer I</td><td>1</td><td>1</td><td>1</td><td>0</td></tr><tr><td>Services</td><td>Web Developer II</td><td>0</td><td>1</td><td>0</td><td>0</td></tr><tr><td>Support</td><td>null</td><td>1</td><td>2</td><td>1</td><td>0</td></tr><tr><td>Support</td><td>Account Coordinator</td><td>0</td><td>0</td><td>0</td><td>1</td></tr><tr><td>Support</td><td>Account Executive</td><td>0</td><td>1</td><td>2</td><td>2</td></tr><tr><td>Support</td><td>Account Representative III</td><td>0</td><td>0</td><td>0</td><td>2</td></tr><tr><td>Support</td><td>Account Representative IV</td><td>0</td><td>1</td><td>0</td><td>1</td></tr><tr><td>Support</td><td>Accountant IV</td><td>0</td><td>2</td><td>0</td><td>0</td></tr><tr><td>Support</td><td>Accounting Assistant I</td><td>1</td><td>0</td><td>1</td><td>0</td></tr><tr><td>Support</td><td>Accounting Assistant II</td><td>1</td><td>1</td><td>0</td><td>0</td></tr><tr><td>Support</td><td>Accounting Assistant III</td><td>0</td><td>0</td><td>1</td><td>0</td></tr><tr><td>Support</td><td>Accounting Assistant IV</td><td>0</td><td>2</td><td>1</td><td>0</td></tr><tr><td>Support</td><td>Actuary</td><td>0</td><td>0</td><td>0</td><td>2</td></tr><tr><td>Support</td><td>Administrative Assistant III</td><td>0</td><td>1</td><td>0</td><td>0</td></tr><tr><td>Support</td><td>Analog Circuit Design manager</td><td>1</td><td>0</td><td>0</td><td>0</td></tr><tr><td>Support</td><td>Analyst Programmer</td><td>0</td><td>0</td><td>1</td><td>1</td></tr><tr><td>Support</td><td>Assistant Manager</td><td>2</td><td>0</td><td>1</td><td>0</td></tr><tr><td>Support</td><td>Assistant Media Planner</td><td>0</td><td>0</td><td>0</td><td>2</td></tr><tr><td>Support</td><td>Assistant Professor</td><td>0</td><td>2</td><td>0</td><td>0</td></tr><tr><td>Support</td><td>Associate Professor</td><td>0</td><td>2</td><td>3</td><td>0</td></tr><tr><td>Support</td><td>Automation Specialist I</td><td>1</td><td>0</td><td>2</td><td>0</td></tr><tr><td>Support</td><td>Automation Specialist IV</td><td>0</td><td>0</td><td>0</td><td>1</td></tr><tr><td>Support</td><td>Biostatistician II</td><td>0</td><td>0</td><td>1</td><td>0</td></tr><tr><td>Support</td><td>Biostatistician III</td><td>0</td><td>0</td><td>0</td><td>3</td></tr><tr><td>Support</td><td>Budget/Accounting Analyst I</td><td>1</td><td>0</td><td>0</td><td>0</td></tr><tr><td>Support</td><td>Budget/Accounting Analyst IV</td><td>1</td><td>0</td><td>0</td><td>0</td></tr><tr><td>Support</td><td>Chemical Engineer</td><td>1</td><td>0</td><td>0</td><td>0</td></tr><tr><td>Support</td><td>Chief Design Engineer</td><td>1</td><td>3</td><td>0</td><td>1</td></tr><tr><td>Support</td><td>Civil Engineer</td><td>0</td><td>2</td><td>1</td><td>0</td></tr><tr><td>Support</td><td>Clinical Specialist</td><td>1</td><td>1</td><td>2</td><td>2</td></tr><tr><td>Support</td><td>Computer Systems Analyst IV</td><td>0</td><td>1</td><td>0</td><td>0</td></tr><tr><td>Support</td><td>Cost Accountant</td><td>1</td><td>2</td><td>0</td><td>1</td></tr><tr><td>Support</td><td>Data Coordiator</td><td>0</td><td>0</td><td>1</td><td>0</td></tr><tr><td>Support</td><td>Database Administrator I</td><td>0</td><td>0</td><td>0</td><td>1</td></tr><tr><td>Support</td><td>Database Administrator II</td><td>1</td><td>0</td><td>0</td><td>0</td></tr><tr><td>Support</td><td>Database Administrator III</td><td>0</td><td>1</td><td>1</td><td>0</td></tr><tr><td>Support</td><td>Dental Hygienist</td><td>0</td><td>0</td><td>1</td><td>0</td></tr><tr><td>Support</td><td>Developer II</td><td>0</td><td>0</td><td>0</td><td>1</td></tr><tr><td>Support</td><td>Director of Sales</td><td>1</td><td>0</td><td>0</td><td>2</td></tr><tr><td>Support</td><td>Editor</td><td>0</td><td>0</td><td>1</td><td>1</td></tr><tr><td>Support</td><td>Electrical Engineer</td><td>0</td><td>0</td><td>0</td><td>1</td></tr><tr><td>Support</td><td>Engineer III</td><td>0</td><td>0</td><td>1</td><td>2</td></tr><tr><td>Support</td><td>Engineer IV</td><td>0</td><td>1</td><td>1</td><td>0</td></tr><tr><td>Support</td><td>Environmental Tech</td><td>1</td><td>0</td><td>0</td><td>0</td></tr><tr><td>Support</td><td>Executive Secretary</td><td>1</td><td>0</td><td>0</td><td>0</td></tr><tr><td>Support</td><td>Food Chemist</td><td>1</td><td>0</td><td>0</td><td>0</td></tr><tr><td>Support</td><td>GIS Technical Architect</td><td>0</td><td>1</td><td>0</td><td>0</td></tr><tr><td>Support</td><td>General Manager</td><td>0</td><td>2</td><td>0</td><td>0</td></tr><tr><td>Support</td><td>Geological Engineer</td><td>0</td><td>0</td><td>1</td><td>0</td></tr><tr><td>Support</td><td>Geologist II</td><td>0</td><td>0</td><td>0</td><td>2</td></tr><tr><td>Support</td><td>Geologist IV</td><td>1</td><td>0</td><td>0</td><td>1</td></tr><tr><td>Support</td><td>Graphic Designer</td><td>0</td><td>0</td><td>1</td><td>0</td></tr><tr><td>Support</td><td>Health Coach III</td><td>1</td><td>1</td><td>0</td><td>1</td></tr><tr><td>Support</td><td>Health Coach IV</td><td>0</td><td>0</td><td>1</td><td>1</td></tr><tr><td>Support</td><td>Human Resources Assistant II</td><td>0</td><td>0</td><td>1</td><td>0</td></tr><tr><td>Support</td><td>Human Resources Assistant III</td><td>0</td><td>1</td><td>0</td><td>0</td></tr><tr><td>Support</td><td>Human Resources Assistant IV</td><td>0</td><td>1</td><td>0</td><td>0</td></tr><tr><td>Support</td><td>Junior Executive</td><td>1</td><td>0</td><td>0</td><td>1</td></tr><tr><td>Support</td><td>Marketing Manager</td><td>0</td><td>1</td><td>0</td><td>0</td></tr><tr><td>Support</td><td>Media Manager IV</td><td>0</td><td>0</td><td>1</td><td>0</td></tr><tr><td>Support</td><td>Nurse</td><td>1</td><td>0</td><td>0</td><td>0</td></tr><tr><td>Support</td><td>Nurse Practicioner</td><td>0</td><td>1</td><td>0</td><td>0</td></tr><tr><td>Support</td><td>Occupational Therapist</td><td>0</td><td>0</td><td>1</td><td>0</td></tr><tr><td>Support</td><td>Paralegal</td><td>0</td><td>1</td><td>0</td><td>0</td></tr><tr><td>Support</td><td>Pharmacist</td><td>0</td><td>1</td><td>0</td><td>1</td></tr><tr><td>Support</td><td>Product Engineer</td><td>0</td><td>0</td><td>0</td><td>1</td></tr><tr><td>Support</td><td>Professor</td><td>0</td><td>0</td><td>2</td><td>0</td></tr><tr><td>Support</td><td>Programmer Analyst II</td><td>1</td><td>0</td><td>1</td><td>0</td></tr><tr><td>Support</td><td>Programmer I</td><td>1</td><td>0</td><td>0</td><td>0</td></tr><tr><td>Support</td><td>Programmer III</td><td>1</td><td>1</td><td>0</td><td>1</td></tr><tr><td>Support</td><td>Programmer IV</td><td>0</td><td>0</td><td>4</td><td>2</td></tr><tr><td>Support</td><td>Project Manager</td><td>0</td><td>0</td><td>1</td><td>0</td></tr><tr><td>Support</td><td>Quality Engineer</td><td>1</td><td>0</td><td>0</td><td>0</td></tr><tr><td>Support</td><td>Recruiter</td><td>2</td><td>3</td><td>2</td><td>1</td></tr><tr><td>Support</td><td>Recruiting Manager</td><td>0</td><td>0</td><td>1</td><td>1</td></tr><tr><td>Support</td><td>Registered Nurse</td><td>0</td><td>0</td><td>1</td><td>2</td></tr><tr><td>Support</td><td>Research Assistant III</td><td>0</td><td>0</td><td>1</td><td>0</td></tr><tr><td>Support</td><td>Research Assistant IV</td><td>0</td><td>0</td><td>0</td><td>2</td></tr><tr><td>Support</td><td>Sales Representative</td><td>0</td><td>1</td><td>1</td><td>0</td></tr><tr><td>Support</td><td>Senior Cost Accountant</td><td>0</td><td>0</td><td>1</td><td>0</td></tr><tr><td>Support</td><td>Senior Developer</td><td>0</td><td>0</td><td>1</td><td>1</td></tr><tr><td>Support</td><td>Senior Editor</td><td>0</td><td>0</td><td>0</td><td>3</td></tr><tr><td>Support</td><td>Senior Financial Analyst</td><td>1</td><td>2</td><td>1</td><td>1</td></tr><tr><td>Support</td><td>Social Worker</td><td>0</td><td>0</td><td>1</td><td>0</td></tr><tr><td>Support</td><td>Software Engineer III</td><td>0</td><td>0</td><td>0</td><td>2</td></tr><tr><td>Support</td><td>Software Test Engineer I</td><td>0</td><td>0</td><td>1</td><td>0</td></tr><tr><td>Support</td><td>Software Test Engineer IV</td><td>0</td><td>2</td><td>1</td><td>1</td></tr><tr><td>Support</td><td>Speech Pathologist</td><td>0</td><td>1</td><td>0</td><td>0</td></tr><tr><td>Support</td><td>Staff Accountant III</td><td>1</td><td>0</td><td>1</td><td>0</td></tr><tr><td>Support</td><td>Staff Accountant IV</td><td>0</td><td>0</td><td>0</td><td>1</td></tr><tr><td>Support</td><td>Staff Scientist</td><td>0</td><td>0</td><td>1</td><td>1</td></tr><tr><td>Support</td><td>Statistician I</td><td>0</td><td>2</td><td>0</td><td>0</td></tr><tr><td>Support</td><td>Statistician II</td><td>0</td><td>1</td><td>0</td><td>0</td></tr><tr><td>Support</td><td>Statistician III</td><td>0</td><td>1</td><td>0</td><td>0</td></tr><tr><td>Support</td><td>Structural Analysis Engineer</td><td>0</td><td>1</td><td>0</td><td>0</td></tr><tr><td>Support</td><td>Structural Engineer</td><td>0</td><td>1</td><td>0</td><td>0</td></tr><tr><td>Support</td><td>Systems Administrator II</td><td>0</td><td>0</td><td>1</td><td>1</td></tr><tr><td>Support</td><td>Systems Administrator IV</td><td>2</td><td>4</td><td>0</td><td>2</td></tr><tr><td>Support</td><td>Teacher</td><td>0</td><td>1</td><td>1</td><td>0</td></tr><tr><td>Support</td><td>Technical Writer</td><td>0</td><td>1</td><td>1</td><td>0</td></tr><tr><td>Support</td><td>VP Accounting</td><td>0</td><td>2</td><td>0</td><td>0</td></tr><tr><td>Support</td><td>VP Marketing</td><td>0</td><td>0</td><td>0</td><td>1</td></tr><tr><td>Support</td><td>VP Product Management</td><td>0</td><td>0</td><td>1</td><td>0</td></tr><tr><td>Support</td><td>VP Quality Control</td><td>0</td><td>0</td><td>0</td><td>1</td></tr><tr><td>Support</td><td>Web Designer I</td><td>1</td><td>4</td><td>0</td><td>1</td></tr><tr><td>Support</td><td>Web Designer II</td><td>0</td><td>2</td><td>1</td><td>0</td></tr><tr><td>Support</td><td>Web Designer IV</td><td>1</td><td>0</td><td>1</td><td>1</td></tr><tr><td>Support</td><td>Web Developer I</td><td>0</td><td>0</td><td>2</td><td>0</td></tr><tr><td>Support</td><td>Web Developer II</td><td>0</td><td>0</td><td>0</td><td>1</td></tr><tr><td>Support</td><td>Web Developer III</td><td>0</td><td>1</td><td>0</td><td>0</td></tr><tr><td>Training</td><td>Account Coordinator</td><td>0</td><td>1</td><td>0</td><td>0</td></tr><tr><td>Training</td><td>Account Representative IV</td><td>1</td><td>0</td><td>0</td><td>0</td></tr><tr><td>Training</td><td>Accountant II</td><td>0</td><td>0</td><td>0</td><td>1</td></tr><tr><td>Training</td><td>Accountant IV</td><td>0</td><td>1</td><td>0</td><td>1</td></tr><tr><td>Training</td><td>Accounting Assistant I</td><td>0</td><td>0</td><td>0</td><td>1</td></tr><tr><td>Training</td><td>Accounting Assistant IV</td><td>0</td><td>0</td><td>0</td><td>1</td></tr><tr><td>Training</td><td>Actuary</td><td>0</td><td>0</td><td>1</td><td>0</td></tr><tr><td>Training</td><td>Analog Circuit Design manager</td><td>0</td><td>1</td><td>0</td><td>0</td></tr><tr><td>Training</td><td>Analyst Programmer</td><td>0</td><td>0</td><td>2</td><td>0</td></tr><tr><td>Training</td><td>Budget/Accounting Analyst III</td><td>0</td><td>0</td><td>1</td><td>1</td></tr><tr><td>Training</td><td>Budget/Accounting Analyst IV</td><td>0</td><td>0</td><td>1</td><td>1</td></tr><tr><td>Training</td><td>Clinical Specialist</td><td>0</td><td>0</td><td>0</td><td>1</td></tr><tr><td>Training</td><td>Community Outreach Specialist</td><td>1</td><td>1</td><td>0</td><td>2</td></tr><tr><td>Training</td><td>Computer Systems Analyst III</td><td>0</td><td>0</td><td>1</td><td>0</td></tr><tr><td>Training</td><td>Data Coordiator</td><td>0</td><td>1</td><td>0</td><td>0</td></tr><tr><td>Training</td><td>Database Administrator II</td><td>1</td><td>1</td><td>0</td><td>0</td></tr><tr><td>Training</td><td>Database Administrator III</td><td>0</td><td>0</td><td>0</td><td>2</td></tr><tr><td>Training</td><td>Dental Hygienist</td><td>1</td><td>0</td><td>0</td><td>1</td></tr><tr><td>Training</td><td>Design Engineer</td><td>0</td><td>1</td><td>0</td><td>0</td></tr><tr><td>Training</td><td>Editor</td><td>0</td><td>1</td><td>1</td><td>0</td></tr><tr><td>Training</td><td>Engineer III</td><td>0</td><td>0</td><td>0</td><td>1</td></tr><tr><td>Training</td><td>Financial Analyst</td><td>0</td><td>0</td><td>0</td><td>1</td></tr><tr><td>Training</td><td>Food Chemist</td><td>1</td><td>1</td><td>2</td><td>1</td></tr><tr><td>Training</td><td>Geological Engineer</td><td>0</td><td>0</td><td>0</td><td>1</td></tr><tr><td>Training</td><td>Geologist I</td><td>1</td><td>0</td><td>0</td><td>0</td></tr><tr><td>Training</td><td>Geologist II</td><td>0</td><td>1</td><td>1</td><td>1</td></tr><tr><td>Training</td><td>Geologist IV</td><td>0</td><td>1</td><td>0</td><td>0</td></tr><tr><td>Training</td><td>Graphic Designer</td><td>0</td><td>1</td><td>1</td><td>1</td></tr><tr><td>Training</td><td>Health Coach III</td><td>0</td><td>0</td><td>1</td><td>0</td></tr><tr><td>Training</td><td>Health Coach IV</td><td>0</td><td>1</td><td>0</td><td>0</td></tr><tr><td>Training</td><td>Human Resources Assistant II</td><td>0</td><td>1</td><td>0</td><td>0</td></tr><tr><td>Training</td><td>Human Resources Assistant IV</td><td>0</td><td>0</td><td>0</td><td>1</td></tr><tr><td>Training</td><td>Information Systems Manager</td><td>0</td><td>0</td><td>2</td><td>0</td></tr><tr><td>Training</td><td>Internal Auditor</td><td>0</td><td>1</td><td>1</td><td>0</td></tr><tr><td>Training</td><td>Librarian</td><td>0</td><td>0</td><td>0</td><td>1</td></tr><tr><td>Training</td><td>Mechanical Systems Engineer</td><td>1</td><td>0</td><td>0</td><td>0</td></tr><tr><td>Training</td><td>Media Manager III</td><td>0</td><td>0</td><td>0</td><td>2</td></tr><tr><td>Training</td><td>Nuclear Power Engineer</td><td>0</td><td>0</td><td>1</td><td>0</td></tr><tr><td>Training</td><td>Office Assistant II</td><td>0</td><td>0</td><td>1</td><td>0</td></tr><tr><td>Training</td><td>Operator</td><td>0</td><td>0</td><td>1</td><td>0</td></tr><tr><td>Training</td><td>Paralegal</td><td>0</td><td>0</td><td>0</td><td>1</td></tr><tr><td>Training</td><td>Pharmacist</td><td>0</td><td>2</td><td>1</td><td>0</td></tr><tr><td>Training</td><td>Programmer I</td><td>0</td><td>0</td><td>1</td><td>0</td></tr><tr><td>Training</td><td>Programmer IV</td><td>0</td><td>1</td><td>1</td><td>1</td></tr><tr><td>Training</td><td>Quality Control Specialist</td><td>0</td><td>0</td><td>1</td><td>0</td></tr><tr><td>Training</td><td>Quality Engineer</td><td>2</td><td>0</td><td>1</td><td>0</td></tr><tr><td>Training</td><td>Recruiter</td><td>0</td><td>0</td><td>0</td><td>2</td></tr><tr><td>Training</td><td>Registered Nurse</td><td>1</td><td>0</td><td>0</td><td>0</td></tr><tr><td>Training</td><td>Research Assistant IV</td><td>1</td><td>0</td><td>1</td><td>2</td></tr><tr><td>Training</td><td>Research Associate</td><td>0</td><td>0</td><td>1</td><td>0</td></tr><tr><td>Training</td><td>Sales Representative</td><td>0</td><td>1</td><td>1</td><td>2</td></tr><tr><td>Training</td><td>Senior Editor</td><td>0</td><td>1</td><td>0</td><td>2</td></tr><tr><td>Training</td><td>Senior Financial Analyst</td><td>0</td><td>0</td><td>0</td><td>1</td></tr><tr><td>Training</td><td>Software Engineer I</td><td>0</td><td>0</td><td>0</td><td>1</td></tr><tr><td>Training</td><td>Software Engineer III</td><td>0</td><td>0</td><td>1</td><td>0</td></tr><tr><td>Training</td><td>Software Test Engineer IV</td><td>1</td><td>0</td><td>0</td><td>0</td></tr><tr><td>Training</td><td>Staff Accountant III</td><td>0</td><td>0</td><td>0</td><td>1</td></tr><tr><td>Training</td><td>Staff Accountant IV</td><td>0</td><td>0</td><td>1</td><td>2</td></tr><tr><td>Training</td><td>Staff Scientist</td><td>0</td><td>1</td><td>2</td><td>0</td></tr><tr><td>Training</td><td>Statistician II</td><td>1</td><td>0</td><td>0</td><td>0</td></tr><tr><td>Training</td><td>Statistician III</td><td>0</td><td>1</td><td>0</td><td>0</td></tr><tr><td>Training</td><td>Structural Analysis Engineer</td><td>1</td><td>0</td><td>0</td><td>0</td></tr><tr><td>Training</td><td>Structural Engineer</td><td>0</td><td>1</td><td>0</td><td>0</td></tr><tr><td>Training</td><td>Systems Administrator II</td><td>0</td><td>1</td><td>0</td><td>0</td></tr><tr><td>Training</td><td>Systems Administrator IV</td><td>1</td><td>0</td><td>2</td><td>0</td></tr><tr><td>Training</td><td>Teacher</td><td>0</td><td>2</td><td>0</td><td>0</td></tr><tr><td>Training</td><td>Technical Writer</td><td>0</td><td>0</td><td>1</td><td>0</td></tr><tr><td>Training</td><td>VP Product Management</td><td>1</td><td>0</td><td>0</td><td>0</td></tr><tr><td>Training</td><td>VP Quality Control</td><td>0</td><td>1</td><td>0</td><td>0</td></tr><tr><td>Training</td><td>Web Developer III</td><td>0</td><td>1</td><td>0</td><td>0</td></tr></tbody></table></div>"
      ]
     },
     "metadata": {
      "application/vnd.databricks.v1+output": {
       "addedWidgets": {},
       "aggData": [],
       "aggError": "",
       "aggOverflow": false,
       "aggSchema": [],
       "aggSeriesLimitReached": false,
       "aggType": "",
       "arguments": {},
       "columnCustomDisplayInfos": {},
       "data": [
        [
         null,
         "Administrative Assistant I",
         0,
         0,
         1,
         0
        ],
        [
         null,
         "Analog Circuit Design manager",
         0,
         0,
         0,
         1
        ],
        [
         null,
         "Assistant Media Planner",
         0,
         0,
         0,
         1
        ],
        [
         null,
         "Database Administrator III",
         0,
         0,
         0,
         1
        ],
        [
         null,
         "Dental Hygienist",
         0,
         1,
         0,
         0
        ],
        [
         null,
         "Junior Executive",
         0,
         1,
         0,
         0
        ],
        [
         null,
         "Nurse",
         0,
         0,
         1,
         0
        ],
        [
         null,
         "Occupational Therapist",
         1,
         0,
         0,
         0
        ],
        [
         null,
         "Project Manager",
         0,
         0,
         1,
         0
        ],
        [
         null,
         "Research Assistant II",
         0,
         1,
         0,
         0
        ],
        [
         null,
         "Senior Editor",
         0,
         1,
         0,
         1
        ],
        [
         null,
         "Senior Financial Analyst",
         0,
         0,
         0,
         1
        ],
        [
         null,
         "Software Engineer I",
         0,
         0,
         0,
         1
        ],
        [
         null,
         "Web Developer I",
         0,
         0,
         0,
         1
        ],
        [
         "Accounting",
         "Account Representative IV",
         1,
         0,
         0,
         0
        ],
        [
         "Accounting",
         "Actuary",
         0,
         1,
         0,
         0
        ],
        [
         "Accounting",
         "Analyst Programmer",
         0,
         0,
         1,
         0
        ],
        [
         "Accounting",
         "Budget/Accounting Analyst III",
         0,
         1,
         0,
         0
        ],
        [
         "Accounting",
         "Cost Accountant",
         0,
         1,
         0,
         0
        ],
        [
         "Accounting",
         "Database Administrator III",
         0,
         0,
         0,
         1
        ],
        [
         "Accounting",
         "Desktop Support Technician",
         0,
         0,
         1,
         0
        ],
        [
         "Accounting",
         "Food Chemist",
         1,
         0,
         0,
         0
        ],
        [
         "Accounting",
         "Graphic Designer",
         0,
         1,
         0,
         0
        ],
        [
         "Accounting",
         "Health Coach III",
         0,
         0,
         0,
         1
        ],
        [
         "Accounting",
         "Health Coach IV",
         0,
         0,
         1,
         0
        ],
        [
         "Accounting",
         "Help Desk Technician",
         0,
         0,
         1,
         0
        ],
        [
         "Accounting",
         "Junior Executive",
         0,
         0,
         1,
         0
        ],
        [
         "Accounting",
         "Legal Assistant",
         0,
         0,
         1,
         1
        ],
        [
         "Accounting",
         "Media Manager III",
         0,
         1,
         0,
         0
        ],
        [
         "Accounting",
         "Programmer Analyst IV",
         0,
         1,
         1,
         1
        ],
        [
         "Accounting",
         "Programmer III",
         0,
         0,
         1,
         0
        ],
        [
         "Accounting",
         "Research Assistant IV",
         0,
         0,
         1,
         0
        ],
        [
         "Accounting",
         "Sales Representative",
         1,
         0,
         1,
         0
        ],
        [
         "Accounting",
         "Senior Cost Accountant",
         0,
         0,
         0,
         1
        ],
        [
         "Accounting",
         "Senior Developer",
         0,
         0,
         0,
         1
        ],
        [
         "Accounting",
         "Software Test Engineer IV",
         0,
         0,
         1,
         0
        ],
        [
         "Accounting",
         "Statistician I",
         0,
         0,
         0,
         1
        ],
        [
         "Accounting",
         "Statistician II",
         0,
         0,
         0,
         2
        ],
        [
         "Accounting",
         "Structural Analysis Engineer",
         0,
         1,
         2,
         0
        ],
        [
         "Accounting",
         "VP Accounting",
         0,
         0,
         1,
         0
        ],
        [
         "Accounting",
         "Web Designer I",
         0,
         0,
         0,
         1
        ],
        [
         "Accounting",
         "Web Designer III",
         0,
         0,
         0,
         1
        ],
        [
         "Accounting",
         "Web Developer I",
         0,
         1,
         0,
         0
        ],
        [
         "Accounting",
         "Web Developer III",
         0,
         0,
         0,
         2
        ],
        [
         "Business Development",
         "Account Executive",
         0,
         2,
         0,
         1
        ],
        [
         "Business Development",
         "Account Representative III",
         0,
         1,
         0,
         0
        ],
        [
         "Business Development",
         "Account Representative IV",
         0,
         1,
         0,
         1
        ],
        [
         "Business Development",
         "Accountant I",
         0,
         0,
         1,
         0
        ],
        [
         "Business Development",
         "Accountant IV",
         0,
         2,
         1,
         0
        ],
        [
         "Business Development",
         "Accounting Assistant I",
         0,
         0,
         1,
         0
        ],
        [
         "Business Development",
         "Actuary",
         1,
         0,
         1,
         1
        ],
        [
         "Business Development",
         "Administrative Assistant I",
         1,
         0,
         0,
         0
        ],
        [
         "Business Development",
         "Administrative Assistant III",
         1,
         0,
         0,
         0
        ],
        [
         "Business Development",
         "Administrative Officer",
         0,
         1,
         0,
         0
        ],
        [
         "Business Development",
         "Analog Circuit Design manager",
         1,
         2,
         1,
         0
        ],
        [
         "Business Development",
         "Analyst Programmer",
         0,
         1,
         0,
         0
        ],
        [
         "Business Development",
         "Assistant Manager",
         0,
         0,
         0,
         1
        ],
        [
         "Business Development",
         "Associate Professor",
         0,
         0,
         1,
         0
        ],
        [
         "Business Development",
         "Automation Specialist I",
         0,
         0,
         0,
         2
        ],
        [
         "Business Development",
         "Automation Specialist IV",
         0,
         1,
         0,
         0
        ],
        [
         "Business Development",
         "Biostatistician II",
         0,
         0,
         0,
         1
        ],
        [
         "Business Development",
         "Biostatistician III",
         0,
         0,
         0,
         2
        ],
        [
         "Business Development",
         "Budget/Accounting Analyst I",
         1,
         0,
         0,
         0
        ],
        [
         "Business Development",
         "Budget/Accounting Analyst III",
         0,
         1,
         0,
         0
        ],
        [
         "Business Development",
         "Budget/Accounting Analyst IV",
         0,
         1,
         1,
         2
        ],
        [
         "Business Development",
         "Civil Engineer",
         0,
         2,
         0,
         1
        ],
        [
         "Business Development",
         "Clinical Specialist",
         1,
         1,
         0,
         2
        ],
        [
         "Business Development",
         "Community Outreach Specialist",
         0,
         0,
         0,
         1
        ],
        [
         "Business Development",
         "Computer Systems Analyst III",
         0,
         0,
         0,
         1
        ],
        [
         "Business Development",
         "Computer Systems Analyst IV",
         0,
         1,
         0,
         0
        ],
        [
         "Business Development",
         "Database Administrator II",
         0,
         1,
         0,
         0
        ],
        [
         "Business Development",
         "Database Administrator III",
         1,
         0,
         0,
         1
        ],
        [
         "Business Development",
         "Database Administrator IV",
         0,
         0,
         0,
         1
        ],
        [
         "Business Development",
         "Dental Hygienist",
         0,
         0,
         3,
         0
        ],
        [
         "Business Development",
         "Developer II",
         0,
         1,
         1,
         0
        ],
        [
         "Business Development",
         "Director of Sales",
         0,
         0,
         1,
         0
        ],
        [
         "Business Development",
         "Environmental Tech",
         0,
         1,
         0,
         0
        ],
        [
         "Business Development",
         "Executive Secretary",
         0,
         2,
         1,
         0
        ],
        [
         "Business Development",
         "Food Chemist",
         0,
         0,
         0,
         2
        ],
        [
         "Business Development",
         "GIS Technical Architect",
         0,
         1,
         0,
         0
        ],
        [
         "Business Development",
         "General Manager",
         1,
         1,
         2,
         0
        ],
        [
         "Business Development",
         "Geological Engineer",
         0,
         0,
         1,
         1
        ],
        [
         "Business Development",
         "Geologist II",
         0,
         1,
         1,
         1
        ],
        [
         "Business Development",
         "Geologist IV",
         1,
         0,
         0,
         1
        ],
        [
         "Business Development",
         "Graphic Designer",
         0,
         0,
         1,
         1
        ],
        [
         "Business Development",
         "Health Coach IV",
         1,
         1,
         0,
         2
        ],
        [
         "Business Development",
         "Human Resources Assistant III",
         0,
         1,
         0,
         0
        ],
        [
         "Business Development",
         "Human Resources Assistant IV",
         1,
         0,
         1,
         1
        ],
        [
         "Business Development",
         "Information Systems Manager",
         0,
         1,
         0,
         0
        ],
        [
         "Business Development",
         "Internal Auditor",
         0,
         2,
         0,
         0
        ],
        [
         "Business Development",
         "Junior Executive",
         1,
         0,
         2,
         2
        ],
        [
         "Business Development",
         "Legal Assistant",
         0,
         0,
         1,
         1
        ],
        [
         "Business Development",
         "Marketing Manager",
         0,
         1,
         0,
         0
        ],
        [
         "Business Development",
         "Mechanical Systems Engineer",
         0,
         0,
         1,
         1
        ],
        [
         "Business Development",
         "Media Manager III",
         0,
         0,
         0,
         1
        ],
        [
         "Business Development",
         "Occupational Therapist",
         0,
         3,
         0,
         0
        ],
        [
         "Business Development",
         "Office Assistant IV",
         0,
         0,
         1,
         0
        ],
        [
         "Business Development",
         "Pharmacist",
         1,
         0,
         1,
         0
        ],
        [
         "Business Development",
         "Product Engineer",
         0,
         1,
         1,
         1
        ],
        [
         "Business Development",
         "Programmer Analyst II",
         0,
         0,
         1,
         0
        ],
        [
         "Business Development",
         "Programmer I",
         0,
         0,
         1,
         0
        ],
        [
         "Business Development",
         "Programmer III",
         1,
         1,
         1,
         1
        ],
        [
         "Business Development",
         "Programmer IV",
         0,
         1,
         1,
         1
        ],
        [
         "Business Development",
         "Quality Control Specialist",
         1,
         0,
         1,
         2
        ],
        [
         "Business Development",
         "Quality Engineer",
         0,
         1,
         0,
         1
        ],
        [
         "Business Development",
         "Recruiter",
         0,
         2,
         0,
         0
        ],
        [
         "Business Development",
         "Recruiting Manager",
         0,
         0,
         1,
         0
        ],
        [
         "Business Development",
         "Registered Nurse",
         1,
         0,
         0,
         0
        ],
        [
         "Business Development",
         "Research Assistant II",
         0,
         0,
         0,
         1
        ],
        [
         "Business Development",
         "Research Assistant III",
         0,
         1,
         0,
         0
        ],
        [
         "Business Development",
         "Research Assistant IV",
         0,
         1,
         0,
         0
        ],
        [
         "Business Development",
         "Research Nurse",
         0,
         0,
         0,
         2
        ],
        [
         "Business Development",
         "Safety Technician IV",
         0,
         0,
         1,
         0
        ],
        [
         "Business Development",
         "Sales Representative",
         0,
         1,
         0,
         1
        ],
        [
         "Business Development",
         "Senior Cost Accountant",
         1,
         0,
         2,
         1
        ],
        [
         "Business Development",
         "Senior Developer",
         0,
         0,
         1,
         0
        ],
        [
         "Business Development",
         "Senior Editor",
         1,
         1,
         1,
         0
        ],
        [
         "Business Development",
         "Senior Financial Analyst",
         0,
         0,
         0,
         1
        ],
        [
         "Business Development",
         "Senior Quality Engineer",
         0,
         0,
         0,
         1
        ],
        [
         "Business Development",
         "Senior Sales Associate",
         1,
         0,
         0,
         0
        ],
        [
         "Business Development",
         "Software Test Engineer IV",
         2,
         0,
         2,
         0
        ],
        [
         "Business Development",
         "Staff Accountant I",
         0,
         1,
         0,
         0
        ],
        [
         "Business Development",
         "Staff Accountant III",
         0,
         1,
         0,
         0
        ],
        [
         "Business Development",
         "Staff Accountant IV",
         0,
         0,
         0,
         1
        ],
        [
         "Business Development",
         "Staff Scientist",
         1,
         1,
         0,
         0
        ],
        [
         "Business Development",
         "Statistician II",
         0,
         1,
         0,
         0
        ],
        [
         "Business Development",
         "Statistician III",
         0,
         1,
         1,
         0
        ],
        [
         "Business Development",
         "Structural Analysis Engineer",
         0,
         2,
         2,
         1
        ],
        [
         "Business Development",
         "Structural Engineer",
         0,
         1,
         0,
         0
        ],
        [
         "Business Development",
         "Systems Administrator IV",
         1,
         1,
         1,
         1
        ],
        [
         "Business Development",
         "Teacher",
         1,
         1,
         1,
         0
        ],
        [
         "Business Development",
         "Technical Writer",
         1,
         1,
         0,
         0
        ],
        [
         "Business Development",
         "VP Accounting",
         0,
         0,
         0,
         1
        ],
        [
         "Business Development",
         "VP Marketing",
         0,
         0,
         1,
         0
        ],
        [
         "Business Development",
         "VP Product Management",
         1,
         0,
         0,
         0
        ],
        [
         "Business Development",
         "Web Designer I",
         0,
         2,
         0,
         1
        ],
        [
         "Business Development",
         "Web Designer II",
         0,
         0,
         1,
         0
        ],
        [
         "Business Development",
         "Web Designer III",
         0,
         0,
         1,
         0
        ],
        [
         "Business Development",
         "Web Designer IV",
         0,
         0,
         1,
         1
        ],
        [
         "Business Development",
         "Web Developer I",
         1,
         1,
         1,
         1
        ],
        [
         "Business Development",
         "Web Developer II",
         0,
         0,
         0,
         1
        ],
        [
         "Engineering",
         null,
         0,
         1,
         0,
         0
        ],
        [
         "Engineering",
         "Account Coordinator",
         0,
         1,
         1,
         0
        ],
        [
         "Engineering",
         "Account Executive",
         0,
         0,
         0,
         1
        ],
        [
         "Engineering",
         "Account Representative IV",
         0,
         0,
         0,
         1
        ],
        [
         "Engineering",
         "Accountant I",
         1,
         0,
         1,
         0
        ],
        [
         "Engineering",
         "Accounting Assistant IV",
         0,
         0,
         1,
         1
        ],
        [
         "Engineering",
         "Actuary",
         1,
         0,
         0,
         1
        ],
        [
         "Engineering",
         "Administrative Assistant I",
         0,
         0,
         0,
         1
        ],
        [
         "Engineering",
         "Analog Circuit Design manager",
         0,
         0,
         0,
         1
        ],
        [
         "Engineering",
         "Analyst Programmer",
         0,
         0,
         0,
         1
        ],
        [
         "Engineering",
         "Assistant Manager",
         1,
         1,
         1,
         0
        ],
        [
         "Engineering",
         "Assistant Media Planner",
         0,
         1,
         0,
         0
        ],
        [
         "Engineering",
         "Assistant Professor",
         0,
         0,
         0,
         1
        ],
        [
         "Engineering",
         "Associate Professor",
         0,
         1,
         2,
         0
        ],
        [
         "Engineering",
         "Automation Specialist I",
         0,
         0,
         1,
         0
        ],
        [
         "Engineering",
         "Biostatistician III",
         0,
         1,
         1,
         0
        ],
        [
         "Engineering",
         "Budget/Accounting Analyst I",
         0,
         1,
         0,
         2
        ],
        [
         "Engineering",
         "Budget/Accounting Analyst II",
         0,
         1,
         1,
         0
        ],
        [
         "Engineering",
         "Budget/Accounting Analyst III",
         0,
         1,
         0,
         0
        ],
        [
         "Engineering",
         "Budget/Accounting Analyst IV",
         0,
         0,
         0,
         1
        ],
        [
         "Engineering",
         "Chemical Engineer",
         0,
         0,
         0,
         1
        ],
        [
         "Engineering",
         "Civil Engineer",
         1,
         0,
         1,
         2
        ],
        [
         "Engineering",
         "Clinical Specialist",
         0,
         1,
         1,
         2
        ],
        [
         "Engineering",
         "Community Outreach Specialist",
         0,
         1,
         0,
         0
        ],
        [
         "Engineering",
         "Computer Systems Analyst III",
         0,
         0,
         1,
         1
        ],
        [
         "Engineering",
         "Computer Systems Analyst IV",
         0,
         1,
         0,
         0
        ],
        [
         "Engineering",
         "Cost Accountant",
         0,
         0,
         1,
         0
        ],
        [
         "Engineering",
         "Database Administrator I",
         0,
         0,
         1,
         0
        ],
        [
         "Engineering",
         "Database Administrator II",
         0,
         0,
         1,
         1
        ],
        [
         "Engineering",
         "Database Administrator III",
         0,
         0,
         0,
         1
        ],
        [
         "Engineering",
         "Dental Hygienist",
         0,
         0,
         2,
         1
        ],
        [
         "Engineering",
         "Engineer III",
         1,
         0,
         0,
         1
        ],
        [
         "Engineering",
         "Engineer IV",
         0,
         1,
         1,
         0
        ],
        [
         "Engineering",
         "Environmental Tech",
         0,
         0,
         1,
         0
        ],
        [
         "Engineering",
         "Executive Secretary",
         1,
         0,
         0,
         0
        ],
        [
         "Engineering",
         "Financial Analyst",
         0,
         1,
         1,
         0
        ],
        [
         "Engineering",
         "Food Chemist",
         0,
         2,
         2,
         1
        ],
        [
         "Engineering",
         "GIS Technical Architect",
         0,
         1,
         0,
         1
        ],
        [
         "Engineering",
         "General Manager",
         0,
         0,
         0,
         2
        ],
        [
         "Engineering",
         "Geological Engineer",
         1,
         1,
         1,
         0
        ],
        [
         "Engineering",
         "Geologist I",
         0,
         0,
         1,
         0
        ],
        [
         "Engineering",
         "Geologist II",
         0,
         3,
         1,
         0
        ],
        [
         "Engineering",
         "Graphic Designer",
         2,
         0,
         0,
         0
        ],
        [
         "Engineering",
         "Health Coach I",
         0,
         0,
         0,
         1
        ],
        [
         "Engineering",
         "Health Coach III",
         0,
         0,
         0,
         1
        ],
        [
         "Engineering",
         "Health Coach IV",
         0,
         1,
         0,
         3
        ],
        [
         "Engineering",
         "Help Desk Operator",
         0,
         1,
         0,
         0
        ],
        [
         "Engineering",
         "Help Desk Technician",
         0,
         0,
         1,
         0
        ],
        [
         "Engineering",
         "Human Resources Assistant III",
         1,
         0,
         0,
         1
        ],
        [
         "Engineering",
         "Human Resources Assistant IV",
         0,
         0,
         0,
         1
        ],
        [
         "Engineering",
         "Internal Auditor",
         0,
         0,
         0,
         1
        ],
        [
         "Engineering",
         "Junior Executive",
         0,
         0,
         1,
         1
        ],
        [
         "Engineering",
         "Legal Assistant",
         0,
         1,
         0,
         0
        ],
        [
         "Engineering",
         "Marketing Manager",
         0,
         0,
         1,
         0
        ],
        [
         "Engineering",
         "Mechanical Systems Engineer",
         0,
         0,
         1,
         0
        ],
        [
         "Engineering",
         "Media Manager IV",
         0,
         0,
         1,
         0
        ],
        [
         "Engineering",
         "Nuclear Power Engineer",
         0,
         0,
         0,
         1
        ],
        [
         "Engineering",
         "Nurse",
         1,
         1,
         0,
         0
        ],
        [
         "Engineering",
         "Occupational Therapist",
         0,
         0,
         0,
         1
        ],
        [
         "Engineering",
         "Office Assistant II",
         2,
         0,
         0,
         0
        ],
        [
         "Engineering",
         "Payment Adjustment Coordinator",
         1,
         0,
         0,
         0
        ],
        [
         "Engineering",
         "Pharmacist",
         0,
         0,
         0,
         1
        ],
        [
         "Engineering",
         "Physical Therapy Assistant",
         1,
         0,
         0,
         1
        ],
        [
         "Engineering",
         "Product Engineer",
         1,
         0,
         1,
         0
        ],
        [
         "Engineering",
         "Professor",
         0,
         0,
         1,
         0
        ],
        [
         "Engineering",
         "Programmer I",
         0,
         1,
         1,
         0
        ],
        [
         "Engineering",
         "Programmer III",
         1,
         1,
         0,
         1
        ],
        [
         "Engineering",
         "Programmer IV",
         1,
         1,
         1,
         2
        ],
        [
         "Engineering",
         "Project Manager",
         0,
         2,
         1,
         0
        ],
        [
         "Engineering",
         "Quality Control Specialist",
         0,
         0,
         1,
         1
        ],
        [
         "Engineering",
         "Quality Engineer",
         0,
         1,
         5,
         0
        ],
        [
         "Engineering",
         "Recruiter",
         0,
         0,
         3,
         1
        ],
        [
         "Engineering",
         "Recruiting Manager",
         0,
         0,
         1,
         0
        ],
        [
         "Engineering",
         "Research Assistant II",
         0,
         1,
         0,
         0
        ],
        [
         "Engineering",
         "Research Nurse",
         0,
         0,
         1,
         1
        ],
        [
         "Engineering",
         "Safety Technician IV",
         1,
         0,
         0,
         1
        ],
        [
         "Engineering",
         "Sales Associate",
         0,
         0,
         1,
         1
        ],
        [
         "Engineering",
         "Sales Representative",
         0,
         0,
         2,
         2
        ],
        [
         "Engineering",
         "Senior Cost Accountant",
         0,
         1,
         0,
         1
        ],
        [
         "Engineering",
         "Senior Developer",
         1,
         0,
         1,
         1
        ],
        [
         "Engineering",
         "Senior Editor",
         0,
         1,
         0,
         1
        ],
        [
         "Engineering",
         "Senior Quality Engineer",
         0,
         0,
         0,
         2
        ],
        [
         "Engineering",
         "Social Worker",
         0,
         0,
         1,
         0
        ],
        [
         "Engineering",
         "Software Engineer I",
         1,
         0,
         1,
         1
        ],
        [
         "Engineering",
         "Software Engineer III",
         0,
         0,
         0,
         2
        ],
        [
         "Engineering",
         "Software Test Engineer I",
         1,
         0,
         0,
         1
        ],
        [
         "Engineering",
         "Software Test Engineer IV",
         0,
         1,
         0,
         1
        ],
        [
         "Engineering",
         "Staff Accountant IV",
         2,
         0,
         1,
         2
        ],
        [
         "Engineering",
         "Statistician II",
         0,
         1,
         1,
         1
        ],
        [
         "Engineering",
         "Statistician III",
         1,
         1,
         0,
         0
        ],
        [
         "Engineering",
         "Structural Analysis Engineer",
         0,
         0,
         1,
         0
        ],
        [
         "Engineering",
         "Structural Engineer",
         0,
         2,
         0,
         0
        ],
        [
         "Engineering",
         "Systems Administrator II",
         0,
         2,
         0,
         2
        ],
        [
         "Engineering",
         "Tax Accountant",
         0,
         1,
         0,
         1
        ],
        [
         "Engineering",
         "Teacher",
         1,
         0,
         3,
         1
        ],
        [
         "Engineering",
         "Technical Writer",
         0,
         1,
         1,
         0
        ],
        [
         "Engineering",
         "VP Accounting",
         1,
         0,
         0,
         0
        ],
        [
         "Engineering",
         "VP Product Management",
         0,
         0,
         1,
         1
        ],
        [
         "Engineering",
         "Web Designer I",
         0,
         1,
         0,
         5
        ],
        [
         "Engineering",
         "Web Designer II",
         0,
         1,
         0,
         0
        ],
        [
         "Engineering",
         "Web Designer III",
         0,
         0,
         0,
         1
        ],
        [
         "Engineering",
         "Web Designer IV",
         0,
         0,
         1,
         0
        ],
        [
         "Engineering",
         "Web Developer I",
         0,
         1,
         0,
         1
        ],
        [
         "Engineering",
         "Web Developer II",
         0,
         1,
         0,
         0
        ],
        [
         "Human Resources",
         "Account Coordinator",
         1,
         2,
         0,
         0
        ],
        [
         "Human Resources",
         "Account Executive",
         1,
         0,
         0,
         1
        ],
        [
         "Human Resources",
         "Account Representative IV",
         0,
         1,
         0,
         1
        ],
        [
         "Human Resources",
         "Accountant I",
         0,
         0,
         1,
         1
        ],
        [
         "Human Resources",
         "Accounting Assistant II",
         0,
         0,
         0,
         1
        ],
        [
         "Human Resources",
         "Accounting Assistant IV",
         0,
         1,
         0,
         1
        ],
        [
         "Human Resources",
         "Actuary",
         0,
         1,
         1,
         1
        ],
        [
         "Human Resources",
         "Analog Circuit Design manager",
         0,
         0,
         0,
         1
        ],
        [
         "Human Resources",
         "Analyst Programmer",
         0,
         1,
         0,
         1
        ],
        [
         "Human Resources",
         "Assistant Manager",
         1,
         2,
         0,
         0
        ],
        [
         "Human Resources",
         "Assistant Media Planner",
         0,
         0,
         0,
         2
        ],
        [
         "Human Resources",
         "Assistant Professor",
         0,
         2,
         0,
         0
        ],
        [
         "Human Resources",
         "Associate Professor",
         2,
         0,
         0,
         2
        ],
        [
         "Human Resources",
         "Automation Specialist I",
         1,
         0,
         0,
         0
        ],
        [
         "Human Resources",
         "Automation Specialist IV",
         1,
         0,
         0,
         0
        ],
        [
         "Human Resources",
         "Biostatistician III",
         0,
         0,
         1,
         0
        ],
        [
         "Human Resources",
         "Budget/Accounting Analyst I",
         1,
         0,
         0,
         1
        ],
        [
         "Human Resources",
         "Budget/Accounting Analyst III",
         0,
         0,
         0,
         3
        ],
        [
         "Human Resources",
         "Budget/Accounting Analyst IV",
         0,
         0,
         1,
         0
        ],
        [
         "Human Resources",
         "Chemical Engineer",
         1,
         0,
         0,
         0
        ],
        [
         "Human Resources",
         "Civil Engineer",
         0,
         1,
         0,
         0
        ],
        [
         "Human Resources",
         "Clinical Specialist",
         0,
         0,
         0,
         3
        ],
        [
         "Human Resources",
         "Community Outreach Specialist",
         1,
         0,
         0,
         0
        ],
        [
         "Human Resources",
         "Cost Accountant",
         0,
         1,
         1,
         1
        ],
        [
         "Human Resources",
         "Data Coordiator",
         0,
         0,
         0,
         1
        ],
        [
         "Human Resources",
         "Database Administrator I",
         0,
         0,
         0,
         2
        ],
        [
         "Human Resources",
         "Database Administrator III",
         0,
         0,
         1,
         0
        ],
        [
         "Human Resources",
         "Database Administrator IV",
         1,
         0,
         0,
         0
        ],
        [
         "Human Resources",
         "Design Engineer",
         1,
         0,
         0,
         0
        ],
        [
         "Human Resources",
         "Developer III",
         0,
         0,
         0,
         2
        ],
        [
         "Human Resources",
         "Developer IV",
         0,
         0,
         0,
         1
        ],
        [
         "Human Resources",
         "Director of Sales",
         1,
         0,
         2,
         0
        ],
        [
         "Human Resources",
         "Editor",
         0,
         1,
         1,
         0
        ],
        [
         "Human Resources",
         "Electrical Engineer",
         0,
         1,
         0,
         0
        ],
        [
         "Human Resources",
         "Engineer III",
         2,
         0,
         1,
         0
        ],
        [
         "Human Resources",
         "Engineer IV",
         0,
         1,
         0,
         0
        ],
        [
         "Human Resources",
         "Environmental Tech",
         0,
         1,
         0,
         0
        ],
        [
         "Human Resources",
         "Executive Secretary",
         0,
         1,
         1,
         1
        ],
        [
         "Human Resources",
         "Financial Advisor",
         0,
         0,
         0,
         1
        ],
        [
         "Human Resources",
         "Food Chemist",
         0,
         0,
         0,
         1
        ],
        [
         "Human Resources",
         "GIS Technical Architect",
         1,
         0,
         0,
         0
        ],
        [
         "Human Resources",
         "Geological Engineer",
         0,
         2,
         0,
         0
        ],
        [
         "Human Resources",
         "Geologist II",
         0,
         1,
         1,
         1
        ],
        [
         "Human Resources",
         "Geologist IV",
         0,
         0,
         0,
         1
        ],
        [
         "Human Resources",
         "Graphic Designer",
         0,
         2,
         0,
         0
        ],
        [
         "Human Resources",
         "Health Coach I",
         0,
         1,
         0,
         1
        ],
        [
         "Human Resources",
         "Health Coach III",
         0,
         0,
         0,
         1
        ],
        [
         "Human Resources",
         "Health Coach IV",
         0,
         0,
         2,
         0
        ],
        [
         "Human Resources",
         "Human Resources Assistant II",
         0,
         0,
         0,
         1
        ],
        [
         "Human Resources",
         "Human Resources Assistant III",
         0,
         0,
         1,
         0
        ],
        [
         "Human Resources",
         "Human Resources Assistant IV",
         0,
         0,
         1,
         0
        ],
        [
         "Human Resources",
         "Human Resources Manager",
         0,
         1,
         0,
         0
        ],
        [
         "Human Resources",
         "Junior Executive",
         1,
         1,
         1,
         0
        ],
        [
         "Human Resources",
         "Marketing Assistant",
         0,
         1,
         0,
         0
        ],
        [
         "Human Resources",
         "Marketing Manager",
         0,
         2,
         0,
         0
        ],
        [
         "Human Resources",
         "Media Manager III",
         0,
         1,
         1,
         1
        ],
        [
         "Human Resources",
         "Nurse",
         0,
         0,
         1,
         0
        ],
        [
         "Human Resources",
         "Occupational Therapist",
         1,
         0,
         0,
         1
        ],
        [
         "Human Resources",
         "Office Assistant II",
         1,
         1,
         0,
         0
        ],
        [
         "Human Resources",
         "Operator",
         0,
         1,
         0,
         0
        ],
        [
         "Human Resources",
         "Paralegal",
         0,
         0,
         1,
         0
        ],
        [
         "Human Resources",
         "Payment Adjustment Coordinator",
         1,
         0,
         0,
         1
        ],
        [
         "Human Resources",
         "Pharmacist",
         0,
         1,
         0,
         1
        ],
        [
         "Human Resources",
         "Physical Therapy Assistant",
         0,
         0,
         0,
         1
        ],
        [
         "Human Resources",
         "Product Engineer",
         0,
         2,
         1,
         2
        ],
        [
         "Human Resources",
         "Professor",
         0,
         0,
         1,
         1
        ],
        [
         "Human Resources",
         "Programmer Analyst IV",
         1,
         0,
         0,
         0
        ],
        [
         "Human Resources",
         "Programmer III",
         0,
         2,
         1,
         0
        ],
        [
         "Human Resources",
         "Programmer IV",
         0,
         1,
         2,
         0
        ],
        [
         "Human Resources",
         "Quality Control Specialist",
         0,
         2,
         1,
         0
        ],
        [
         "Human Resources",
         "Quality Engineer",
         0,
         0,
         0,
         2
        ],
        [
         "Human Resources",
         "Recruiter",
         0,
         0,
         1,
         1
        ],
        [
         "Human Resources",
         "Recruiting Manager",
         1,
         0,
         1,
         2
        ],
        [
         "Human Resources",
         "Registered Nurse",
         0,
         1,
         0,
         0
        ],
        [
         "Human Resources",
         "Research Assistant I",
         0,
         0,
         1,
         0
        ],
        [
         "Human Resources",
         "Research Assistant II",
         0,
         1,
         0,
         1
        ],
        [
         "Human Resources",
         "Research Assistant IV",
         0,
         0,
         0,
         1
        ],
        [
         "Human Resources",
         "Research Associate",
         0,
         1,
         1,
         0
        ],
        [
         "Human Resources",
         "Safety Technician II",
         0,
         1,
         0,
         1
        ],
        [
         "Human Resources",
         "Safety Technician III",
         0,
         1,
         0,
         0
        ],
        [
         "Human Resources",
         "Sales Representative",
         0,
         0,
         1,
         0
        ],
        [
         "Human Resources",
         "Senior Cost Accountant",
         0,
         0,
         1,
         3
        ],
        [
         "Human Resources",
         "Senior Developer",
         1,
         0,
         0,
         0
        ],
        [
         "Human Resources",
         "Senior Editor",
         0,
         0,
         1,
         2
        ],
        [
         "Human Resources",
         "Senior Financial Analyst",
         0,
         0,
         2,
         0
        ],
        [
         "Human Resources",
         "Senior Quality Engineer",
         0,
         0,
         0,
         1
        ],
        [
         "Human Resources",
         "Social Worker",
         0,
         0,
         0,
         3
        ],
        [
         "Human Resources",
         "Software Engineer I",
         0,
         1,
         0,
         2
        ],
        [
         "Human Resources",
         "Software Engineer III",
         0,
         3,
         0,
         0
        ],
        [
         "Human Resources",
         "Software Engineer IV",
         0,
         0,
         1,
         0
        ],
        [
         "Human Resources",
         "Software Test Engineer IV",
         1,
         0,
         0,
         1
        ],
        [
         "Human Resources",
         "Staff Accountant II",
         0,
         1,
         0,
         0
        ],
        [
         "Human Resources",
         "Staff Accountant IV",
         0,
         1,
         1,
         0
        ],
        [
         "Human Resources",
         "Staff Scientist",
         0,
         0,
         1,
         1
        ],
        [
         "Human Resources",
         "Statistician II",
         0,
         1,
         1,
         0
        ],
        [
         "Human Resources",
         "Structural Analysis Engineer",
         0,
         0,
         1,
         0
        ],
        [
         "Human Resources",
         "Systems Administrator II",
         1,
         0,
         0,
         1
        ],
        [
         "Human Resources",
         "Systems Administrator IV",
         0,
         0,
         1,
         0
        ],
        [
         "Human Resources",
         "Tax Accountant",
         0,
         0,
         0,
         2
        ],
        [
         "Human Resources",
         "Teacher",
         0,
         1,
         0,
         0
        ],
        [
         "Human Resources",
         "Technical Writer",
         1,
         0,
         2,
         0
        ],
        [
         "Human Resources",
         "VP Accounting",
         1,
         0,
         2,
         2
        ],
        [
         "Human Resources",
         "VP Marketing",
         0,
         1,
         0,
         0
        ],
        [
         "Human Resources",
         "VP Quality Control",
         0,
         1,
         0,
         0
        ],
        [
         "Human Resources",
         "Web Designer I",
         0,
         1,
         0,
         0
        ],
        [
         "Human Resources",
         "Web Designer II",
         0,
         1,
         1,
         1
        ],
        [
         "Human Resources",
         "Web Developer I",
         1,
         0,
         0,
         0
        ],
        [
         "Human Resources",
         "Web Developer II",
         1,
         0,
         2,
         2
        ],
        [
         "Legal",
         null,
         0,
         0,
         0,
         1
        ],
        [
         "Legal",
         "Account Coordinator",
         0,
         1,
         0,
         0
        ],
        [
         "Legal",
         "Account Executive",
         0,
         0,
         0,
         1
        ],
        [
         "Legal",
         "Account Representative IV",
         0,
         0,
         0,
         1
        ],
        [
         "Legal",
         "Accountant I",
         0,
         0,
         1,
         0
        ],
        [
         "Legal",
         "Accountant IV",
         0,
         0,
         1,
         0
        ],
        [
         "Legal",
         "Associate Professor",
         0,
         0,
         1,
         1
        ],
        [
         "Legal",
         "Biostatistician II",
         0,
         0,
         1,
         0
        ],
        [
         "Legal",
         "Budget/Accounting Analyst III",
         0,
         0,
         1,
         2
        ],
        [
         "Legal",
         "Chief Design Engineer",
         0,
         1,
         0,
         1
        ],
        [
         "Legal",
         "Computer Systems Analyst IV",
         1,
         0,
         0,
         0
        ],
        [
         "Legal",
         "Database Administrator II",
         0,
         0,
         1,
         0
        ],
        [
         "Legal",
         "Database Administrator III",
         0,
         0,
         0,
         1
        ],
        [
         "Legal",
         "Dental Hygienist",
         0,
         0,
         0,
         1
        ],
        [
         "Legal",
         "Engineer III",
         0,
         0,
         0,
         1
        ],
        [
         "Legal",
         "Engineer IV",
         1,
         0,
         0,
         0
        ],
        [
         "Legal",
         "Financial Advisor",
         0,
         1,
         0,
         1
        ],
        [
         "Legal",
         "Geologist I",
         0,
         0,
         1,
         0
        ],
        [
         "Legal",
         "Geologist II",
         0,
         0,
         0,
         1
        ],
        [
         "Legal",
         "Health Coach IV",
         0,
         0,
         0,
         1
        ],
        [
         "Legal",
         "Human Resources Assistant IV",
         0,
         1,
         0,
         0
        ],
        [
         "Legal",
         "Internal Auditor",
         0,
         1,
         0,
         0
        ],
        [
         "Legal",
         "Marketing Manager",
         1,
         0,
         0,
         0
        ],
        [
         "Legal",
         "Media Manager III",
         0,
         0,
         0,
         1
        ],
        [
         "Legal",
         "Occupational Therapist",
         0,
         1,
         1,
         0
        ],
        [
         "Legal",
         "Office Assistant IV",
         1,
         0,
         0,
         0
        ],
        [
         "Legal",
         "Programmer Analyst II",
         0,
         1,
         0,
         0
        ],
        [
         "Legal",
         "Programmer III",
         0,
         0,
         0,
         1
        ],
        [
         "Legal",
         "Quality Engineer",
         0,
         0,
         1,
         0
        ],
        [
         "Legal",
         "Recruiter",
         0,
         0,
         1,
         0
        ],
        [
         "Legal",
         "Senior Editor",
         0,
         1,
         0,
         0
        ],
        [
         "Legal",
         "Senior Financial Analyst",
         0,
         0,
         1,
         0
        ],
        [
         "Legal",
         "Senior Quality Engineer",
         0,
         0,
         0,
         1
        ],
        [
         "Legal",
         "Software Engineer I",
         0,
         0,
         0,
         1
        ],
        [
         "Legal",
         "Software Test Engineer I",
         0,
         0,
         0,
         1
        ],
        [
         "Legal",
         "Software Test Engineer IV",
         0,
         0,
         1,
         1
        ],
        [
         "Legal",
         "Staff Scientist",
         0,
         0,
         0,
         1
        ],
        [
         "Legal",
         "Statistician I",
         0,
         0,
         1,
         0
        ],
        [
         "Legal",
         "Statistician II",
         1,
         0,
         1,
         0
        ],
        [
         "Legal",
         "Structural Engineer",
         0,
         1,
         1,
         0
        ],
        [
         "Legal",
         "Systems Administrator II",
         0,
         0,
         1,
         0
        ],
        [
         "Legal",
         "Tax Accountant",
         0,
         0,
         0,
         1
        ],
        [
         "Legal",
         "Teacher",
         1,
         0,
         0,
         1
        ],
        [
         "Legal",
         "Web Developer I",
         0,
         1,
         2,
         0
        ],
        [
         "Legal",
         "Web Developer III",
         0,
         0,
         0,
         1
        ],
        [
         "Marketing",
         null,
         0,
         0,
         1,
         0
        ],
        [
         "Marketing",
         "Account Executive",
         1,
         0,
         0,
         0
        ],
        [
         "Marketing",
         "Accountant I",
         1,
         0,
         1,
         0
        ],
        [
         "Marketing",
         "Accountant IV",
         1,
         0,
         1,
         0
        ],
        [
         "Marketing",
         "Accounting Assistant IV",
         0,
         3,
         0,
         0
        ],
        [
         "Marketing",
         "Administrative Assistant I",
         1,
         0,
         0,
         0
        ],
        [
         "Marketing",
         "Analyst Programmer",
         1,
         1,
         1,
         0
        ],
        [
         "Marketing",
         "Assistant Manager",
         0,
         0,
         0,
         2
        ],
        [
         "Marketing",
         "Assistant Professor",
         1,
         1,
         1,
         0
        ],
        [
         "Marketing",
         "Associate Professor",
         1,
         0,
         0,
         0
        ],
        [
         "Marketing",
         "Biostatistician II",
         0,
         1,
         0,
         2
        ],
        [
         "Marketing",
         "Biostatistician III",
         0,
         0,
         2,
         1
        ],
        [
         "Marketing",
         "Budget/Accounting Analyst II",
         1,
         0,
         0,
         2
        ],
        [
         "Marketing",
         "Budget/Accounting Analyst IV",
         1,
         1,
         0,
         0
        ],
        [
         "Marketing",
         "Chemical Engineer",
         0,
         0,
         0,
         1
        ],
        [
         "Marketing",
         "Civil Engineer",
         0,
         1,
         1,
         0
        ],
        [
         "Marketing",
         "Clinical Specialist",
         0,
         0,
         0,
         1
        ],
        [
         "Marketing",
         "Computer Systems Analyst II",
         0,
         1,
         0,
         0
        ],
        [
         "Marketing",
         "Computer Systems Analyst III",
         0,
         1,
         1,
         0
        ],
        [
         "Marketing",
         "Computer Systems Analyst IV",
         0,
         1,
         3,
         0
        ],
        [
         "Marketing",
         "Cost Accountant",
         2,
         0,
         0,
         1
        ],
        [
         "Marketing",
         "Data Coordiator",
         1,
         1,
         0,
         0
        ],
        [
         "Marketing",
         "Database Administrator III",
         0,
         0,
         0,
         1
        ],
        [
         "Marketing",
         "Database Administrator IV",
         0,
         1,
         0,
         0
        ],
        [
         "Marketing",
         "Dental Hygienist",
         0,
         1,
         0,
         2
        ],
        [
         "Marketing",
         "Desktop Support Technician",
         1,
         0,
         0,
         0
        ],
        [
         "Marketing",
         "Developer IV",
         0,
         0,
         0,
         1
        ],
        [
         "Marketing",
         "Electrical Engineer",
         0,
         1,
         1,
         0
        ],
        [
         "Marketing",
         "Engineer IV",
         1,
         0,
         0,
         0
        ],
        [
         "Marketing",
         "Environmental Tech",
         0,
         0,
         0,
         1
        ],
        [
         "Marketing",
         "Executive Secretary",
         1,
         0,
         0,
         0
        ],
        [
         "Marketing",
         "Financial Analyst",
         0,
         0,
         1,
         0
        ],
        [
         "Marketing",
         "Food Chemist",
         1,
         2,
         0,
         0
        ],
        [
         "Marketing",
         "GIS Technical Architect",
         0,
         0,
         0,
         1
        ],
        [
         "Marketing",
         "General Manager",
         0,
         0,
         1,
         0
        ],
        [
         "Marketing",
         "Geologist II",
         0,
         0,
         0,
         1
        ],
        [
         "Marketing",
         "Graphic Designer",
         1,
         1,
         0,
         0
        ],
        [
         "Marketing",
         "Health Coach I",
         1,
         0,
         0,
         0
        ],
        [
         "Marketing",
         "Health Coach III",
         0,
         1,
         1,
         0
        ],
        [
         "Marketing",
         "Health Coach IV",
         1,
         1,
         0,
         1
        ],
        [
         "Marketing",
         "Human Resources Assistant III",
         1,
         0,
         0,
         0
        ],
        [
         "Marketing",
         "Human Resources Manager",
         0,
         1,
         0,
         0
        ],
        [
         "Marketing",
         "Internal Auditor",
         0,
         0,
         1,
         0
        ],
        [
         "Marketing",
         "Mechanical Systems Engineer",
         2,
         0,
         0,
         0
        ],
        [
         "Marketing",
         "Media Manager IV",
         0,
         1,
         0,
         0
        ],
        [
         "Marketing",
         "Nuclear Power Engineer",
         1,
         0,
         0,
         1
        ],
        [
         "Marketing",
         "Nurse",
         0,
         1,
         0,
         0
        ],
        [
         "Marketing",
         "Nurse Practicioner",
         0,
         0,
         1,
         0
        ],
        [
         "Marketing",
         "Occupational Therapist",
         0,
         0,
         0,
         1
        ],
        [
         "Marketing",
         "Office Assistant III",
         0,
         1,
         0,
         0
        ],
        [
         "Marketing",
         "Pharmacist",
         0,
         0,
         2,
         0
        ],
        [
         "Marketing",
         "Physical Therapy Assistant",
         0,
         0,
         2,
         0
        ],
        [
         "Marketing",
         "Product Engineer",
         0,
         2,
         0,
         0
        ],
        [
         "Marketing",
         "Professor",
         0,
         0,
         1,
         0
        ],
        [
         "Marketing",
         "Programmer IV",
         0,
         0,
         1,
         0
        ],
        [
         "Marketing",
         "Quality Control Specialist",
         0,
         0,
         0,
         1
        ],
        [
         "Marketing",
         "Quality Engineer",
         0,
         0,
         1,
         0
        ],
        [
         "Marketing",
         "Recruiter",
         0,
         0,
         1,
         0
        ],
        [
         "Marketing",
         "Recruiting Manager",
         0,
         0,
         0,
         1
        ],
        [
         "Marketing",
         "Registered Nurse",
         0,
         0,
         0,
         1
        ],
        [
         "Marketing",
         "Research Assistant IV",
         0,
         1,
         0,
         0
        ],
        [
         "Marketing",
         "Safety Technician I",
         0,
         1,
         0,
         0
        ],
        [
         "Marketing",
         "Safety Technician II",
         1,
         0,
         0,
         1
        ],
        [
         "Marketing",
         "Safety Technician IV",
         0,
         0,
         1,
         0
        ],
        [
         "Marketing",
         "Sales Representative",
         0,
         2,
         0,
         1
        ],
        [
         "Marketing",
         "Senior Cost Accountant",
         0,
         0,
         1,
         0
        ],
        [
         "Marketing",
         "Senior Developer",
         0,
         0,
         0,
         1
        ],
        [
         "Marketing",
         "Senior Editor",
         1,
         0,
         0,
         0
        ],
        [
         "Marketing",
         "Senior Financial Analyst",
         0,
         1,
         0,
         0
        ],
        [
         "Marketing",
         "Software Engineer IV",
         0,
         0,
         0,
         1
        ],
        [
         "Marketing",
         "Software Test Engineer I",
         0,
         0,
         0,
         1
        ],
        [
         "Marketing",
         "Software Test Engineer IV",
         0,
         0,
         1,
         0
        ],
        [
         "Marketing",
         "Staff Accountant II",
         1,
         0,
         1,
         0
        ],
        [
         "Marketing",
         "Staff Accountant III",
         1,
         0,
         0,
         0
        ],
        [
         "Marketing",
         "Staff Scientist",
         0,
         1,
         0,
         0
        ],
        [
         "Marketing",
         "Statistician I",
         0,
         0,
         0,
         1
        ],
        [
         "Marketing",
         "Statistician II",
         1,
         3,
         2,
         0
        ],
        [
         "Marketing",
         "Structural Engineer",
         1,
         0,
         0,
         0
        ],
        [
         "Marketing",
         "Systems Administrator IV",
         0,
         1,
         0,
         0
        ],
        [
         "Marketing",
         "Tax Accountant",
         0,
         1,
         0,
         1
        ],
        [
         "Marketing",
         "Teacher",
         2,
         0,
         1,
         1
        ],
        [
         "Marketing",
         "Technical Writer",
         1,
         0,
         0,
         0
        ],
        [
         "Marketing",
         "VP Accounting",
         0,
         1,
         2,
         0
        ],
        [
         "Marketing",
         "VP Marketing",
         0,
         0,
         1,
         0
        ],
        [
         "Marketing",
         "VP Product Management",
         0,
         0,
         2,
         0
        ],
        [
         "Marketing",
         "VP Quality Control",
         0,
         0,
         0,
         1
        ],
        [
         "Marketing",
         "Web Designer I",
         0,
         0,
         1,
         0
        ],
        [
         "Marketing",
         "Web Developer I",
         0,
         0,
         1,
         0
        ],
        [
         "Marketing",
         "Web Developer III",
         0,
         0,
         1,
         0
        ],
        [
         "Product Management",
         "Account Representative III",
         1,
         0,
         0,
         0
        ],
        [
         "Product Management",
         "Accountant I",
         0,
         1,
         0,
         0
        ],
        [
         "Product Management",
         "Accounting Assistant IV",
         0,
         0,
         1,
         0
        ],
        [
         "Product Management",
         "Analyst Programmer",
         0,
         0,
         2,
         0
        ],
        [
         "Product Management",
         "Assistant Manager",
         1,
         0,
         0,
         0
        ],
        [
         "Product Management",
         "Automation Specialist I",
         1,
         0,
         0,
         0
        ],
        [
         "Product Management",
         "Budget/Accounting Analyst I",
         0,
         0,
         0,
         1
        ],
        [
         "Product Management",
         "Budget/Accounting Analyst IV",
         1,
         1,
         0,
         0
        ],
        [
         "Product Management",
         "Cost Accountant",
         1,
         0,
         0,
         0
        ],
        [
         "Product Management",
         "Database Administrator I",
         0,
         0,
         0,
         1
        ],
        [
         "Product Management",
         "Electrical Engineer",
         0,
         0,
         0,
         1
        ],
        [
         "Product Management",
         "Engineer IV",
         0,
         1,
         1,
         0
        ],
        [
         "Product Management",
         "Geological Engineer",
         0,
         1,
         0,
         0
        ],
        [
         "Product Management",
         "Graphic Designer",
         0,
         3,
         0,
         0
        ],
        [
         "Product Management",
         "Help Desk Operator",
         1,
         0,
         0,
         1
        ],
        [
         "Product Management",
         "Help Desk Technician",
         0,
         1,
         0,
         0
        ],
        [
         "Product Management",
         "Junior Executive",
         0,
         0,
         0,
         1
        ],
        [
         "Product Management",
         "Legal Assistant",
         0,
         1,
         0,
         0
        ],
        [
         "Product Management",
         "Librarian",
         0,
         1,
         0,
         0
        ],
        [
         "Product Management",
         "Marketing Manager",
         0,
         0,
         0,
         1
        ],
        [
         "Product Management",
         "Nurse Practicioner",
         0,
         1,
         0,
         0
        ],
        [
         "Product Management",
         "Office Assistant IV",
         0,
         0,
         1,
         0
        ],
        [
         "Product Management",
         "Payment Adjustment Coordinator",
         1,
         1,
         0,
         0
        ],
        [
         "Product Management",
         "Pharmacist",
         0,
         0,
         1,
         0
        ],
        [
         "Product Management",
         "Physical Therapy Assistant",
         0,
         0,
         0,
         1
        ],
        [
         "Product Management",
         "Programmer IV",
         0,
         1,
         0,
         0
        ],
        [
         "Product Management",
         "Quality Control Specialist",
         0,
         0,
         1,
         0
        ],
        [
         "Product Management",
         "Research Assistant II",
         0,
         2,
         0,
         0
        ],
        [
         "Product Management",
         "Sales Associate",
         0,
         1,
         0,
         0
        ],
        [
         "Product Management",
         "Senior Editor",
         1,
         0,
         0,
         0
        ],
        [
         "Product Management",
         "Software Consultant",
         1,
         0,
         1,
         0
        ],
        [
         "Product Management",
         "Software Test Engineer I",
         0,
         1,
         0,
         0
        ],
        [
         "Product Management",
         "Software Test Engineer IV",
         0,
         1,
         0,
         0
        ],
        [
         "Product Management",
         "Staff Accountant IV",
         0,
         1,
         0,
         0
        ],
        [
         "Product Management",
         "Staff Scientist",
         1,
         0,
         0,
         0
        ],
        [
         "Product Management",
         "Systems Administrator IV",
         0,
         0,
         0,
         1
        ],
        [
         "Product Management",
         "Technical Writer",
         0,
         0,
         2,
         0
        ],
        [
         "Product Management",
         "Web Developer I",
         0,
         0,
         1,
         1
        ],
        [
         "Research and Development",
         null,
         1,
         0,
         0,
         1
        ],
        [
         "Research and Development",
         "Account Executive",
         0,
         0,
         1,
         1
        ],
        [
         "Research and Development",
         "Account Representative III",
         1,
         0,
         0,
         0
        ],
        [
         "Research and Development",
         "Account Representative IV",
         1,
         0,
         0,
         0
        ],
        [
         "Research and Development",
         "Accounting Assistant IV",
         0,
         0,
         0,
         1
        ],
        [
         "Research and Development",
         "Actuary",
         1,
         0,
         0,
         0
        ],
        [
         "Research and Development",
         "Administrative Officer",
         0,
         1,
         1,
         0
        ],
        [
         "Research and Development",
         "Analog Circuit Design manager",
         0,
         0,
         1,
         0
        ],
        [
         "Research and Development",
         "Assistant Professor",
         0,
         0,
         1,
         2
        ],
        [
         "Research and Development",
         "Associate Professor",
         0,
         1,
         1,
         0
        ],
        [
         "Research and Development",
         "Automation Specialist I",
         0,
         0,
         0,
         1
        ],
        [
         "Research and Development",
         "Biostatistician II",
         1,
         0,
         0,
         0
        ],
        [
         "Research and Development",
         "Biostatistician III",
         0,
         0,
         0,
         2
        ],
        [
         "Research and Development",
         "Budget/Accounting Analyst III",
         0,
         1,
         0,
         1
        ],
        [
         "Research and Development",
         "Budget/Accounting Analyst IV",
         0,
         1,
         1,
         0
        ],
        [
         "Research and Development",
         "Chemical Engineer",
         0,
         0,
         2,
         0
        ],
        [
         "Research and Development",
         "Chief Design Engineer",
         0,
         2,
         0,
         0
        ],
        [
         "Research and Development",
         "Civil Engineer",
         1,
         0,
         0,
         0
        ],
        [
         "Research and Development",
         "Clinical Specialist",
         1,
         1,
         0,
         1
        ],
        [
         "Research and Development",
         "Compensation Analyst",
         0,
         0,
         1,
         0
        ],
        [
         "Research and Development",
         "Computer Systems Analyst III",
         0,
         0,
         1,
         0
        ],
        [
         "Research and Development",
         "Cost Accountant",
         1,
         0,
         1,
         0
        ],
        [
         "Research and Development",
         "Data Coordiator",
         0,
         0,
         0,
         1
        ],
        [
         "Research and Development",
         "Database Administrator II",
         0,
         0,
         1,
         0
        ],
        [
         "Research and Development",
         "Database Administrator III",
         1,
         0,
         0,
         0
        ],
        [
         "Research and Development",
         "Dental Hygienist",
         0,
         0,
         1,
         0
        ],
        [
         "Research and Development",
         "Director of Sales",
         0,
         0,
         1,
         0
        ],
        [
         "Research and Development",
         "Electrical Engineer",
         0,
         0,
         1,
         0
        ],
        [
         "Research and Development",
         "Engineer IV",
         0,
         0,
         1,
         0
        ],
        [
         "Research and Development",
         "Environmental Tech",
         0,
         0,
         1,
         0
        ],
        [
         "Research and Development",
         "Executive Secretary",
         0,
         1,
         0,
         1
        ],
        [
         "Research and Development",
         "Food Chemist",
         0,
         0,
         0,
         1
        ],
        [
         "Research and Development",
         "General Manager",
         1,
         0,
         0,
         0
        ],
        [
         "Research and Development",
         "Geologist II",
         1,
         2,
         0,
         0
        ],
        [
         "Research and Development",
         "Geologist IV",
         0,
         0,
         1,
         0
        ],
        [
         "Research and Development",
         "Graphic Designer",
         0,
         1,
         0,
         2
        ],
        [
         "Research and Development",
         "Health Coach I",
         1,
         0,
         0,
         0
        ],
        [
         "Research and Development",
         "Health Coach III",
         0,
         0,
         1,
         0
        ],
        [
         "Research and Development",
         "Health Coach IV",
         1,
         0,
         0,
         3
        ],
        [
         "Research and Development",
         "Information Systems Manager",
         0,
         0,
         1,
         0
        ],
        [
         "Research and Development",
         "Internal Auditor",
         0,
         0,
         1,
         1
        ],
        [
         "Research and Development",
         "Junior Executive",
         0,
         0,
         1,
         0
        ],
        [
         "Research and Development",
         "Legal Assistant",
         0,
         0,
         1,
         0
        ],
        [
         "Research and Development",
         "Librarian",
         0,
         0,
         1,
         0
        ],
        [
         "Research and Development",
         "Marketing Manager",
         0,
         2,
         0,
         0
        ],
        [
         "Research and Development",
         "Media Manager III",
         0,
         1,
         1,
         1
        ],
        [
         "Research and Development",
         "Nuclear Power Engineer",
         0,
         0,
         2,
         0
        ],
        [
         "Research and Development",
         "Operator",
         0,
         0,
         0,
         2
        ],
        [
         "Research and Development",
         "Paralegal",
         0,
         2,
         0,
         0
        ],
        [
         "Research and Development",
         "Payment Adjustment Coordinator",
         0,
         1,
         0,
         0
        ],
        [
         "Research and Development",
         "Pharmacist",
         1,
         0,
         2,
         0
        ],
        [
         "Research and Development",
         "Programmer Analyst II",
         0,
         0,
         0,
         1
        ],
        [
         "Research and Development",
         "Programmer Analyst IV",
         0,
         0,
         1,
         0
        ],
        [
         "Research and Development",
         "Programmer I",
         0,
         1,
         0,
         2
        ],
        [
         "Research and Development",
         "Programmer III",
         0,
         0,
         0,
         1
        ],
        [
         "Research and Development",
         "Programmer IV",
         0,
         0,
         0,
         1
        ],
        [
         "Research and Development",
         "Project Manager",
         0,
         0,
         0,
         1
        ],
        [
         "Research and Development",
         "Quality Control Specialist",
         0,
         1,
         1,
         0
        ],
        [
         "Research and Development",
         "Recruiter",
         1,
         1,
         2,
         2
        ],
        [
         "Research and Development",
         "Recruiting Manager",
         4,
         0,
         0,
         1
        ],
        [
         "Research and Development",
         "Registered Nurse",
         1,
         0,
         0,
         1
        ],
        [
         "Research and Development",
         "Research Assistant II",
         0,
         1,
         1,
         0
        ],
        [
         "Research and Development",
         "Research Associate",
         0,
         2,
         0,
         0
        ],
        [
         "Research and Development",
         "Sales Associate",
         0,
         0,
         0,
         1
        ],
        [
         "Research and Development",
         "Sales Representative",
         0,
         1,
         0,
         1
        ],
        [
         "Research and Development",
         "Senior Cost Accountant",
         0,
         0,
         1,
         0
        ],
        [
         "Research and Development",
         "Senior Developer",
         0,
         1,
         0,
         0
        ],
        [
         "Research and Development",
         "Senior Editor",
         1,
         0,
         0,
         1
        ],
        [
         "Research and Development",
         "Senior Financial Analyst",
         0,
         0,
         1,
         1
        ],
        [
         "Research and Development",
         "Senior Quality Engineer",
         0,
         0,
         1,
         0
        ],
        [
         "Research and Development",
         "Social Worker",
         1,
         0,
         1,
         0
        ],
        [
         "Research and Development",
         "Software Engineer I",
         0,
         1,
         0,
         0
        ],
        [
         "Research and Development",
         "Software Test Engineer I",
         1,
         0,
         0,
         0
        ],
        [
         "Research and Development",
         "Software Test Engineer IV",
         0,
         0,
         0,
         1
        ],
        [
         "Research and Development",
         "Speech Pathologist",
         0,
         0,
         1,
         0
        ],
        [
         "Research and Development",
         "Staff Accountant IV",
         1,
         0,
         1,
         1
        ],
        [
         "Research and Development",
         "Staff Scientist",
         0,
         0,
         1,
         0
        ],
        [
         "Research and Development",
         "Statistician I",
         0,
         0,
         0,
         2
        ],
        [
         "Research and Development",
         "Statistician II",
         1,
         0,
         0,
         1
        ],
        [
         "Research and Development",
         "Structural Engineer",
         1,
         1,
         1,
         0
        ],
        [
         "Research and Development",
         "Systems Administrator II",
         0,
         1,
         0,
         0
        ],
        [
         "Research and Development",
         "Systems Administrator IV",
         0,
         1,
         0,
         0
        ],
        [
         "Research and Development",
         "Tax Accountant",
         0,
         1,
         1,
         0
        ],
        [
         "Research and Development",
         "Teacher",
         0,
         1,
         2,
         1
        ],
        [
         "Research and Development",
         "Technical Writer",
         0,
         0,
         1,
         1
        ],
        [
         "Research and Development",
         "VP Accounting",
         0,
         0,
         0,
         1
        ],
        [
         "Research and Development",
         "Web Designer I",
         1,
         0,
         0,
         0
        ],
        [
         "Research and Development",
         "Web Designer II",
         0,
         0,
         0,
         1
        ],
        [
         "Research and Development",
         "Web Developer III",
         0,
         1,
         0,
         1
        ],
        [
         "Sales",
         "Account Executive",
         0,
         1,
         0,
         0
        ],
        [
         "Sales",
         "Accounting Assistant II",
         0,
         1,
         0,
         0
        ],
        [
         "Sales",
         "Accounting Assistant IV",
         1,
         0,
         0,
         0
        ],
        [
         "Sales",
         "Actuary",
         0,
         1,
         0,
         0
        ],
        [
         "Sales",
         "Administrative Assistant I",
         0,
         1,
         0,
         0
        ],
        [
         "Sales",
         "Administrative Officer",
         1,
         0,
         0,
         0
        ],
        [
         "Sales",
         "Analyst Programmer",
         0,
         1,
         0,
         0
        ],
        [
         "Sales",
         "Assistant Manager",
         0,
         1,
         1,
         0
        ],
        [
         "Sales",
         "Assistant Professor",
         0,
         0,
         2,
         0
        ],
        [
         "Sales",
         "Associate Professor",
         0,
         2,
         0,
         0
        ],
        [
         "Sales",
         "Biostatistician II",
         0,
         1,
         0,
         0
        ],
        [
         "Sales",
         "Biostatistician III",
         0,
         2,
         0,
         1
        ],
        [
         "Sales",
         "Budget/Accounting Analyst III",
         1,
         0,
         0,
         0
        ],
        [
         "Sales",
         "Budget/Accounting Analyst IV",
         0,
         0,
         2,
         1
        ],
        [
         "Sales",
         "Business Systems Development Analyst",
         0,
         0,
         0,
         1
        ],
        [
         "Sales",
         "Chief Design Engineer",
         0,
         1,
         0,
         0
        ],
        [
         "Sales",
         "Civil Engineer",
         1,
         0,
         1,
         0
        ],
        [
         "Sales",
         "Clinical Specialist",
         0,
         1,
         0,
         0
        ],
        [
         "Sales",
         "Computer Systems Analyst I",
         0,
         0,
         1,
         0
        ],
        [
         "Sales",
         "Computer Systems Analyst IV",
         0,
         0,
         0,
         1
        ],
        [
         "Sales",
         "Cost Accountant",
         1,
         1,
         1,
         0
        ],
        [
         "Sales",
         "Database Administrator III",
         0,
         0,
         1,
         0
        ],
        [
         "Sales",
         "Design Engineer",
         1,
         0,
         0,
         0
        ],
        [
         "Sales",
         "Director of Sales",
         0,
         1,
         0,
         2
        ],
        [
         "Sales",
         "Engineer III",
         1,
         0,
         0,
         0
        ],
        [
         "Sales",
         "Engineer IV",
         0,
         1,
         0,
         0
        ],
        [
         "Sales",
         "Financial Analyst",
         0,
         0,
         0,
         1
        ],
        [
         "Sales",
         "Geologist II",
         0,
         2,
         0,
         2
        ],
        [
         "Sales",
         "Geologist IV",
         0,
         0,
         1,
         1
        ],
        [
         "Sales",
         "Graphic Designer",
         1,
         0,
         0,
         0
        ],
        [
         "Sales",
         "Health Coach I",
         1,
         0,
         0,
         0
        ],
        [
         "Sales",
         "Health Coach III",
         0,
         0,
         2,
         2
        ],
        [
         "Sales",
         "Human Resources Manager",
         0,
         1,
         0,
         0
        ],
        [
         "Sales",
         "Librarian",
         0,
         1,
         0,
         0
        ],
        [
         "Sales",
         "Mechanical Systems Engineer",
         0,
         1,
         1,
         0
        ],
        [
         "Sales",
         "Media Manager II",
         0,
         0,
         0,
         1
        ],
        [
         "Sales",
         "Nurse",
         0,
         0,
         1,
         0
        ],
        [
         "Sales",
         "Nurse Practicioner",
         1,
         0,
         0,
         0
        ],
        [
         "Sales",
         "Pharmacist",
         0,
         0,
         0,
         1
        ],
        [
         "Sales",
         "Programmer IV",
         0,
         1,
         0,
         2
        ],
        [
         "Sales",
         "Quality Control Specialist",
         0,
         0,
         0,
         1
        ],
        [
         "Sales",
         "Recruiter",
         0,
         2,
         0,
         0
        ],
        [
         "Sales",
         "Recruiting Manager",
         0,
         1,
         2,
         0
        ],
        [
         "Sales",
         "Research Assistant II",
         1,
         1,
         0,
         0
        ],
        [
         "Sales",
         "Research Assistant IV",
         0,
         1,
         0,
         0
        ],
        [
         "Sales",
         "Senior Financial Analyst",
         1,
         2,
         0,
         0
        ],
        [
         "Sales",
         "Senior Quality Engineer",
         0,
         0,
         1,
         0
        ],
        [
         "Sales",
         "Social Worker",
         0,
         0,
         0,
         1
        ],
        [
         "Sales",
         "Software Test Engineer IV",
         0,
         1,
         0,
         0
        ],
        [
         "Sales",
         "Staff Accountant I",
         0,
         1,
         0,
         0
        ],
        [
         "Sales",
         "Staff Accountant III",
         0,
         1,
         0,
         0
        ],
        [
         "Sales",
         "Staff Accountant IV",
         0,
         0,
         1,
         0
        ],
        [
         "Sales",
         "Staff Scientist",
         0,
         0,
         0,
         1
        ],
        [
         "Sales",
         "Statistician II",
         1,
         1,
         0,
         0
        ],
        [
         "Sales",
         "Systems Administrator IV",
         1,
         0,
         1,
         0
        ],
        [
         "Sales",
         "Teacher",
         0,
         0,
         1,
         1
        ],
        [
         "Sales",
         "VP Accounting",
         0,
         0,
         1,
         3
        ],
        [
         "Sales",
         "Web Designer I",
         1,
         0,
         0,
         0
        ],
        [
         "Sales",
         "Web Developer III",
         1,
         0,
         0,
         1
        ],
        [
         "Services",
         null,
         1,
         1,
         0,
         0
        ],
        [
         "Services",
         "Account Coordinator",
         0,
         0,
         0,
         1
        ],
        [
         "Services",
         "Account Executive",
         0,
         0,
         2,
         0
        ],
        [
         "Services",
         "Accountant I",
         0,
         0,
         0,
         1
        ],
        [
         "Services",
         "Accountant III",
         0,
         0,
         1,
         0
        ],
        [
         "Services",
         "Accounting Assistant I",
         0,
         1,
         0,
         0
        ],
        [
         "Services",
         "Accounting Assistant IV",
         0,
         1,
         0,
         0
        ],
        [
         "Services",
         "Administrative Assistant I",
         1,
         0,
         0,
         0
        ],
        [
         "Services",
         "Analog Circuit Design manager",
         0,
         0,
         0,
         1
        ],
        [
         "Services",
         "Analyst Programmer",
         0,
         1,
         1,
         1
        ],
        [
         "Services",
         "Assistant Professor",
         0,
         0,
         0,
         1
        ],
        [
         "Services",
         "Associate Professor",
         0,
         1,
         2,
         0
        ],
        [
         "Services",
         "Biostatistician II",
         0,
         1,
         0,
         0
        ],
        [
         "Services",
         "Biostatistician III",
         0,
         1,
         1,
         1
        ],
        [
         "Services",
         "Biostatistician IV",
         0,
         1,
         1,
         0
        ],
        [
         "Services",
         "Budget/Accounting Analyst II",
         0,
         0,
         1,
         0
        ],
        [
         "Services",
         "Budget/Accounting Analyst III",
         0,
         2,
         0,
         0
        ],
        [
         "Services",
         "Budget/Accounting Analyst IV",
         0,
         3,
         1,
         0
        ],
        [
         "Services",
         "Chemical Engineer",
         0,
         1,
         0,
         0
        ],
        [
         "Services",
         "Chief Design Engineer",
         0,
         0,
         0,
         1
        ],
        [
         "Services",
         "Civil Engineer",
         0,
         0,
         1,
         1
        ],
        [
         "Services",
         "Clinical Specialist",
         1,
         1,
         2,
         1
        ],
        [
         "Services",
         "Community Outreach Specialist",
         1,
         1,
         2,
         0
        ],
        [
         "Services",
         "Computer Systems Analyst IV",
         0,
         0,
         1,
         0
        ],
        [
         "Services",
         "Cost Accountant",
         1,
         0,
         0,
         0
        ],
        [
         "Services",
         "Data Coordiator",
         0,
         1,
         0,
         1
        ],
        [
         "Services",
         "Database Administrator I",
         0,
         0,
         2,
         0
        ],
        [
         "Services",
         "Database Administrator IV",
         0,
         1,
         0,
         0
        ],
        [
         "Services",
         "Dental Hygienist",
         0,
         2,
         0,
         0
        ],
        [
         "Services",
         "Design Engineer",
         0,
         0,
         1,
         0
        ],
        [
         "Services",
         "Developer I",
         0,
         1,
         2,
         0
        ],
        [
         "Services",
         "Developer II",
         0,
         1,
         0,
         0
        ],
        [
         "Services",
         "Developer III",
         0,
         0,
         1,
         0
        ],
        [
         "Services",
         "Director of Sales",
         0,
         0,
         0,
         1
        ],
        [
         "Services",
         "Engineer I",
         0,
         1,
         0,
         0
        ],
        [
         "Services",
         "Engineer III",
         0,
         0,
         3,
         0
        ],
        [
         "Services",
         "Engineer IV",
         0,
         1,
         0,
         0
        ],
        [
         "Services",
         "Environmental Tech",
         0,
         1,
         0,
         0
        ],
        [
         "Services",
         "Executive Secretary",
         0,
         0,
         1,
         1
        ],
        [
         "Services",
         "Food Chemist",
         1,
         1,
         0,
         2
        ],
        [
         "Services",
         "GIS Technical Architect",
         1,
         1,
         0,
         0
        ],
        [
         "Services",
         "General Manager",
         0,
         1,
         0,
         0
        ],
        [
         "Services",
         "Geological Engineer",
         0,
         0,
         0,
         1
        ],
        [
         "Services",
         "Geologist I",
         0,
         0,
         1,
         1
        ],
        [
         "Services",
         "Geologist II",
         1,
         1,
         0,
         0
        ],
        [
         "Services",
         "Geologist IV",
         0,
         0,
         0,
         3
        ],
        [
         "Services",
         "Graphic Designer",
         0,
         1,
         0,
         0
        ],
        [
         "Services",
         "Health Coach III",
         0,
         0,
         0,
         1
        ],
        [
         "Services",
         "Health Coach IV",
         0,
         0,
         1,
         0
        ],
        [
         "Services",
         "Human Resources Assistant II",
         0,
         1,
         1,
         0
        ],
        [
         "Services",
         "Human Resources Assistant IV",
         1,
         0,
         0,
         1
        ],
        [
         "Services",
         "Human Resources Manager",
         0,
         1,
         0,
         1
        ],
        [
         "Services",
         "Information Systems Manager",
         0,
         0,
         1,
         0
        ],
        [
         "Services",
         "Internal Auditor",
         0,
         3,
         0,
         0
        ],
        [
         "Services",
         "Junior Executive",
         0,
         1,
         1,
         0
        ],
        [
         "Services",
         "Legal Assistant",
         1,
         0,
         0,
         0
        ],
        [
         "Services",
         "Librarian",
         0,
         1,
         0,
         1
        ],
        [
         "Services",
         "Media Manager III",
         0,
         0,
         0,
         2
        ],
        [
         "Services",
         "Media Manager IV",
         0,
         0,
         1,
         0
        ],
        [
         "Services",
         "Nuclear Power Engineer",
         1,
         0,
         0,
         0
        ],
        [
         "Services",
         "Nurse Practicioner",
         0,
         1,
         0,
         0
        ],
        [
         "Services",
         "Occupational Therapist",
         0,
         1,
         1,
         0
        ],
        [
         "Services",
         "Operator",
         0,
         0,
         1,
         0
        ],
        [
         "Services",
         "Payment Adjustment Coordinator",
         0,
         0,
         0,
         1
        ],
        [
         "Services",
         "Pharmacist",
         0,
         0,
         0,
         1
        ],
        [
         "Services",
         "Physical Therapy Assistant",
         0,
         1,
         1,
         0
        ],
        [
         "Services",
         "Professor",
         0,
         0,
         0,
         2
        ],
        [
         "Services",
         "Programmer Analyst II",
         1,
         0,
         0,
         0
        ],
        [
         "Services",
         "Programmer I",
         1,
         0,
         2,
         0
        ],
        [
         "Services",
         "Programmer III",
         0,
         0,
         2,
         0
        ],
        [
         "Services",
         "Programmer IV",
         2,
         3,
         0,
         3
        ],
        [
         "Services",
         "Project Manager",
         1,
         0,
         0,
         0
        ],
        [
         "Services",
         "Quality Control Specialist",
         0,
         0,
         2,
         1
        ],
        [
         "Services",
         "Quality Engineer",
         0,
         1,
         1,
         1
        ],
        [
         "Services",
         "Recruiter",
         0,
         0,
         1,
         1
        ],
        [
         "Services",
         "Recruiting Manager",
         0,
         1,
         1,
         0
        ],
        [
         "Services",
         "Registered Nurse",
         0,
         1,
         0,
         0
        ],
        [
         "Services",
         "Research Assistant II",
         0,
         1,
         0,
         2
        ],
        [
         "Services",
         "Research Assistant III",
         0,
         0,
         1,
         0
        ],
        [
         "Services",
         "Research Assistant IV",
         0,
         2,
         1,
         1
        ],
        [
         "Services",
         "Safety Technician IV",
         0,
         0,
         0,
         1
        ],
        [
         "Services",
         "Sales Representative",
         0,
         1,
         0,
         1
        ],
        [
         "Services",
         "Senior Cost Accountant",
         1,
         2,
         0,
         0
        ],
        [
         "Services",
         "Senior Developer",
         0,
         0,
         0,
         1
        ],
        [
         "Services",
         "Senior Editor",
         0,
         1,
         0,
         0
        ],
        [
         "Services",
         "Senior Financial Analyst",
         1,
         1,
         0,
         0
        ],
        [
         "Services",
         "Software Engineer I",
         0,
         3,
         0,
         3
        ],
        [
         "Services",
         "Software Engineer III",
         1,
         0,
         0,
         0
        ],
        [
         "Services",
         "Software Test Engineer III",
         0,
         0,
         0,
         1
        ],
        [
         "Services",
         "Software Test Engineer IV",
         1,
         1,
         1,
         1
        ],
        [
         "Services",
         "Staff Accountant III",
         0,
         0,
         1,
         0
        ],
        [
         "Services",
         "Staff Accountant IV",
         1,
         0,
         0,
         0
        ],
        [
         "Services",
         "Staff Scientist",
         0,
         1,
         0,
         0
        ],
        [
         "Services",
         "Statistician I",
         1,
         0,
         0,
         0
        ],
        [
         "Services",
         "Statistician II",
         1,
         0,
         0,
         1
        ],
        [
         "Services",
         "Statistician III",
         0,
         0,
         1,
         0
        ],
        [
         "Services",
         "Structural Analysis Engineer",
         0,
         1,
         1,
         1
        ],
        [
         "Services",
         "Systems Administrator IV",
         1,
         0,
         1,
         0
        ],
        [
         "Services",
         "Teacher",
         3,
         2,
         0,
         1
        ],
        [
         "Services",
         "VP Accounting",
         0,
         2,
         0,
         0
        ],
        [
         "Services",
         "VP Product Management",
         0,
         0,
         2,
         1
        ],
        [
         "Services",
         "VP Quality Control",
         0,
         0,
         1,
         0
        ],
        [
         "Services",
         "Web Designer I",
         1,
         0,
         1,
         0
        ],
        [
         "Services",
         "Web Designer II",
         0,
         1,
         1,
         0
        ],
        [
         "Services",
         "Web Designer III",
         1,
         0,
         0,
         0
        ],
        [
         "Services",
         "Web Developer I",
         1,
         1,
         1,
         0
        ],
        [
         "Services",
         "Web Developer II",
         0,
         1,
         0,
         0
        ],
        [
         "Support",
         null,
         1,
         2,
         1,
         0
        ],
        [
         "Support",
         "Account Coordinator",
         0,
         0,
         0,
         1
        ],
        [
         "Support",
         "Account Executive",
         0,
         1,
         2,
         2
        ],
        [
         "Support",
         "Account Representative III",
         0,
         0,
         0,
         2
        ],
        [
         "Support",
         "Account Representative IV",
         0,
         1,
         0,
         1
        ],
        [
         "Support",
         "Accountant IV",
         0,
         2,
         0,
         0
        ],
        [
         "Support",
         "Accounting Assistant I",
         1,
         0,
         1,
         0
        ],
        [
         "Support",
         "Accounting Assistant II",
         1,
         1,
         0,
         0
        ],
        [
         "Support",
         "Accounting Assistant III",
         0,
         0,
         1,
         0
        ],
        [
         "Support",
         "Accounting Assistant IV",
         0,
         2,
         1,
         0
        ],
        [
         "Support",
         "Actuary",
         0,
         0,
         0,
         2
        ],
        [
         "Support",
         "Administrative Assistant III",
         0,
         1,
         0,
         0
        ],
        [
         "Support",
         "Analog Circuit Design manager",
         1,
         0,
         0,
         0
        ],
        [
         "Support",
         "Analyst Programmer",
         0,
         0,
         1,
         1
        ],
        [
         "Support",
         "Assistant Manager",
         2,
         0,
         1,
         0
        ],
        [
         "Support",
         "Assistant Media Planner",
         0,
         0,
         0,
         2
        ],
        [
         "Support",
         "Assistant Professor",
         0,
         2,
         0,
         0
        ],
        [
         "Support",
         "Associate Professor",
         0,
         2,
         3,
         0
        ],
        [
         "Support",
         "Automation Specialist I",
         1,
         0,
         2,
         0
        ],
        [
         "Support",
         "Automation Specialist IV",
         0,
         0,
         0,
         1
        ],
        [
         "Support",
         "Biostatistician II",
         0,
         0,
         1,
         0
        ],
        [
         "Support",
         "Biostatistician III",
         0,
         0,
         0,
         3
        ],
        [
         "Support",
         "Budget/Accounting Analyst I",
         1,
         0,
         0,
         0
        ],
        [
         "Support",
         "Budget/Accounting Analyst IV",
         1,
         0,
         0,
         0
        ],
        [
         "Support",
         "Chemical Engineer",
         1,
         0,
         0,
         0
        ],
        [
         "Support",
         "Chief Design Engineer",
         1,
         3,
         0,
         1
        ],
        [
         "Support",
         "Civil Engineer",
         0,
         2,
         1,
         0
        ],
        [
         "Support",
         "Clinical Specialist",
         1,
         1,
         2,
         2
        ],
        [
         "Support",
         "Computer Systems Analyst IV",
         0,
         1,
         0,
         0
        ],
        [
         "Support",
         "Cost Accountant",
         1,
         2,
         0,
         1
        ],
        [
         "Support",
         "Data Coordiator",
         0,
         0,
         1,
         0
        ],
        [
         "Support",
         "Database Administrator I",
         0,
         0,
         0,
         1
        ],
        [
         "Support",
         "Database Administrator II",
         1,
         0,
         0,
         0
        ],
        [
         "Support",
         "Database Administrator III",
         0,
         1,
         1,
         0
        ],
        [
         "Support",
         "Dental Hygienist",
         0,
         0,
         1,
         0
        ],
        [
         "Support",
         "Developer II",
         0,
         0,
         0,
         1
        ],
        [
         "Support",
         "Director of Sales",
         1,
         0,
         0,
         2
        ],
        [
         "Support",
         "Editor",
         0,
         0,
         1,
         1
        ],
        [
         "Support",
         "Electrical Engineer",
         0,
         0,
         0,
         1
        ],
        [
         "Support",
         "Engineer III",
         0,
         0,
         1,
         2
        ],
        [
         "Support",
         "Engineer IV",
         0,
         1,
         1,
         0
        ],
        [
         "Support",
         "Environmental Tech",
         1,
         0,
         0,
         0
        ],
        [
         "Support",
         "Executive Secretary",
         1,
         0,
         0,
         0
        ],
        [
         "Support",
         "Food Chemist",
         1,
         0,
         0,
         0
        ],
        [
         "Support",
         "GIS Technical Architect",
         0,
         1,
         0,
         0
        ],
        [
         "Support",
         "General Manager",
         0,
         2,
         0,
         0
        ],
        [
         "Support",
         "Geological Engineer",
         0,
         0,
         1,
         0
        ],
        [
         "Support",
         "Geologist II",
         0,
         0,
         0,
         2
        ],
        [
         "Support",
         "Geologist IV",
         1,
         0,
         0,
         1
        ],
        [
         "Support",
         "Graphic Designer",
         0,
         0,
         1,
         0
        ],
        [
         "Support",
         "Health Coach III",
         1,
         1,
         0,
         1
        ],
        [
         "Support",
         "Health Coach IV",
         0,
         0,
         1,
         1
        ],
        [
         "Support",
         "Human Resources Assistant II",
         0,
         0,
         1,
         0
        ],
        [
         "Support",
         "Human Resources Assistant III",
         0,
         1,
         0,
         0
        ],
        [
         "Support",
         "Human Resources Assistant IV",
         0,
         1,
         0,
         0
        ],
        [
         "Support",
         "Junior Executive",
         1,
         0,
         0,
         1
        ],
        [
         "Support",
         "Marketing Manager",
         0,
         1,
         0,
         0
        ],
        [
         "Support",
         "Media Manager IV",
         0,
         0,
         1,
         0
        ],
        [
         "Support",
         "Nurse",
         1,
         0,
         0,
         0
        ],
        [
         "Support",
         "Nurse Practicioner",
         0,
         1,
         0,
         0
        ],
        [
         "Support",
         "Occupational Therapist",
         0,
         0,
         1,
         0
        ],
        [
         "Support",
         "Paralegal",
         0,
         1,
         0,
         0
        ],
        [
         "Support",
         "Pharmacist",
         0,
         1,
         0,
         1
        ],
        [
         "Support",
         "Product Engineer",
         0,
         0,
         0,
         1
        ],
        [
         "Support",
         "Professor",
         0,
         0,
         2,
         0
        ],
        [
         "Support",
         "Programmer Analyst II",
         1,
         0,
         1,
         0
        ],
        [
         "Support",
         "Programmer I",
         1,
         0,
         0,
         0
        ],
        [
         "Support",
         "Programmer III",
         1,
         1,
         0,
         1
        ],
        [
         "Support",
         "Programmer IV",
         0,
         0,
         4,
         2
        ],
        [
         "Support",
         "Project Manager",
         0,
         0,
         1,
         0
        ],
        [
         "Support",
         "Quality Engineer",
         1,
         0,
         0,
         0
        ],
        [
         "Support",
         "Recruiter",
         2,
         3,
         2,
         1
        ],
        [
         "Support",
         "Recruiting Manager",
         0,
         0,
         1,
         1
        ],
        [
         "Support",
         "Registered Nurse",
         0,
         0,
         1,
         2
        ],
        [
         "Support",
         "Research Assistant III",
         0,
         0,
         1,
         0
        ],
        [
         "Support",
         "Research Assistant IV",
         0,
         0,
         0,
         2
        ],
        [
         "Support",
         "Sales Representative",
         0,
         1,
         1,
         0
        ],
        [
         "Support",
         "Senior Cost Accountant",
         0,
         0,
         1,
         0
        ],
        [
         "Support",
         "Senior Developer",
         0,
         0,
         1,
         1
        ],
        [
         "Support",
         "Senior Editor",
         0,
         0,
         0,
         3
        ],
        [
         "Support",
         "Senior Financial Analyst",
         1,
         2,
         1,
         1
        ],
        [
         "Support",
         "Social Worker",
         0,
         0,
         1,
         0
        ],
        [
         "Support",
         "Software Engineer III",
         0,
         0,
         0,
         2
        ],
        [
         "Support",
         "Software Test Engineer I",
         0,
         0,
         1,
         0
        ],
        [
         "Support",
         "Software Test Engineer IV",
         0,
         2,
         1,
         1
        ],
        [
         "Support",
         "Speech Pathologist",
         0,
         1,
         0,
         0
        ],
        [
         "Support",
         "Staff Accountant III",
         1,
         0,
         1,
         0
        ],
        [
         "Support",
         "Staff Accountant IV",
         0,
         0,
         0,
         1
        ],
        [
         "Support",
         "Staff Scientist",
         0,
         0,
         1,
         1
        ],
        [
         "Support",
         "Statistician I",
         0,
         2,
         0,
         0
        ],
        [
         "Support",
         "Statistician II",
         0,
         1,
         0,
         0
        ],
        [
         "Support",
         "Statistician III",
         0,
         1,
         0,
         0
        ],
        [
         "Support",
         "Structural Analysis Engineer",
         0,
         1,
         0,
         0
        ],
        [
         "Support",
         "Structural Engineer",
         0,
         1,
         0,
         0
        ],
        [
         "Support",
         "Systems Administrator II",
         0,
         0,
         1,
         1
        ],
        [
         "Support",
         "Systems Administrator IV",
         2,
         4,
         0,
         2
        ],
        [
         "Support",
         "Teacher",
         0,
         1,
         1,
         0
        ],
        [
         "Support",
         "Technical Writer",
         0,
         1,
         1,
         0
        ],
        [
         "Support",
         "VP Accounting",
         0,
         2,
         0,
         0
        ],
        [
         "Support",
         "VP Marketing",
         0,
         0,
         0,
         1
        ],
        [
         "Support",
         "VP Product Management",
         0,
         0,
         1,
         0
        ],
        [
         "Support",
         "VP Quality Control",
         0,
         0,
         0,
         1
        ],
        [
         "Support",
         "Web Designer I",
         1,
         4,
         0,
         1
        ],
        [
         "Support",
         "Web Designer II",
         0,
         2,
         1,
         0
        ],
        [
         "Support",
         "Web Designer IV",
         1,
         0,
         1,
         1
        ],
        [
         "Support",
         "Web Developer I",
         0,
         0,
         2,
         0
        ],
        [
         "Support",
         "Web Developer II",
         0,
         0,
         0,
         1
        ],
        [
         "Support",
         "Web Developer III",
         0,
         1,
         0,
         0
        ],
        [
         "Training",
         "Account Coordinator",
         0,
         1,
         0,
         0
        ],
        [
         "Training",
         "Account Representative IV",
         1,
         0,
         0,
         0
        ],
        [
         "Training",
         "Accountant II",
         0,
         0,
         0,
         1
        ],
        [
         "Training",
         "Accountant IV",
         0,
         1,
         0,
         1
        ],
        [
         "Training",
         "Accounting Assistant I",
         0,
         0,
         0,
         1
        ],
        [
         "Training",
         "Accounting Assistant IV",
         0,
         0,
         0,
         1
        ],
        [
         "Training",
         "Actuary",
         0,
         0,
         1,
         0
        ],
        [
         "Training",
         "Analog Circuit Design manager",
         0,
         1,
         0,
         0
        ],
        [
         "Training",
         "Analyst Programmer",
         0,
         0,
         2,
         0
        ],
        [
         "Training",
         "Budget/Accounting Analyst III",
         0,
         0,
         1,
         1
        ],
        [
         "Training",
         "Budget/Accounting Analyst IV",
         0,
         0,
         1,
         1
        ],
        [
         "Training",
         "Clinical Specialist",
         0,
         0,
         0,
         1
        ],
        [
         "Training",
         "Community Outreach Specialist",
         1,
         1,
         0,
         2
        ],
        [
         "Training",
         "Computer Systems Analyst III",
         0,
         0,
         1,
         0
        ],
        [
         "Training",
         "Data Coordiator",
         0,
         1,
         0,
         0
        ],
        [
         "Training",
         "Database Administrator II",
         1,
         1,
         0,
         0
        ],
        [
         "Training",
         "Database Administrator III",
         0,
         0,
         0,
         2
        ],
        [
         "Training",
         "Dental Hygienist",
         1,
         0,
         0,
         1
        ],
        [
         "Training",
         "Design Engineer",
         0,
         1,
         0,
         0
        ],
        [
         "Training",
         "Editor",
         0,
         1,
         1,
         0
        ],
        [
         "Training",
         "Engineer III",
         0,
         0,
         0,
         1
        ],
        [
         "Training",
         "Financial Analyst",
         0,
         0,
         0,
         1
        ],
        [
         "Training",
         "Food Chemist",
         1,
         1,
         2,
         1
        ],
        [
         "Training",
         "Geological Engineer",
         0,
         0,
         0,
         1
        ],
        [
         "Training",
         "Geologist I",
         1,
         0,
         0,
         0
        ],
        [
         "Training",
         "Geologist II",
         0,
         1,
         1,
         1
        ],
        [
         "Training",
         "Geologist IV",
         0,
         1,
         0,
         0
        ],
        [
         "Training",
         "Graphic Designer",
         0,
         1,
         1,
         1
        ],
        [
         "Training",
         "Health Coach III",
         0,
         0,
         1,
         0
        ],
        [
         "Training",
         "Health Coach IV",
         0,
         1,
         0,
         0
        ],
        [
         "Training",
         "Human Resources Assistant II",
         0,
         1,
         0,
         0
        ],
        [
         "Training",
         "Human Resources Assistant IV",
         0,
         0,
         0,
         1
        ],
        [
         "Training",
         "Information Systems Manager",
         0,
         0,
         2,
         0
        ],
        [
         "Training",
         "Internal Auditor",
         0,
         1,
         1,
         0
        ],
        [
         "Training",
         "Librarian",
         0,
         0,
         0,
         1
        ],
        [
         "Training",
         "Mechanical Systems Engineer",
         1,
         0,
         0,
         0
        ],
        [
         "Training",
         "Media Manager III",
         0,
         0,
         0,
         2
        ],
        [
         "Training",
         "Nuclear Power Engineer",
         0,
         0,
         1,
         0
        ],
        [
         "Training",
         "Office Assistant II",
         0,
         0,
         1,
         0
        ],
        [
         "Training",
         "Operator",
         0,
         0,
         1,
         0
        ],
        [
         "Training",
         "Paralegal",
         0,
         0,
         0,
         1
        ],
        [
         "Training",
         "Pharmacist",
         0,
         2,
         1,
         0
        ],
        [
         "Training",
         "Programmer I",
         0,
         0,
         1,
         0
        ],
        [
         "Training",
         "Programmer IV",
         0,
         1,
         1,
         1
        ],
        [
         "Training",
         "Quality Control Specialist",
         0,
         0,
         1,
         0
        ],
        [
         "Training",
         "Quality Engineer",
         2,
         0,
         1,
         0
        ],
        [
         "Training",
         "Recruiter",
         0,
         0,
         0,
         2
        ],
        [
         "Training",
         "Registered Nurse",
         1,
         0,
         0,
         0
        ],
        [
         "Training",
         "Research Assistant IV",
         1,
         0,
         1,
         2
        ],
        [
         "Training",
         "Research Associate",
         0,
         0,
         1,
         0
        ],
        [
         "Training",
         "Sales Representative",
         0,
         1,
         1,
         2
        ],
        [
         "Training",
         "Senior Editor",
         0,
         1,
         0,
         2
        ],
        [
         "Training",
         "Senior Financial Analyst",
         0,
         0,
         0,
         1
        ],
        [
         "Training",
         "Software Engineer I",
         0,
         0,
         0,
         1
        ],
        [
         "Training",
         "Software Engineer III",
         0,
         0,
         1,
         0
        ],
        [
         "Training",
         "Software Test Engineer IV",
         1,
         0,
         0,
         0
        ],
        [
         "Training",
         "Staff Accountant III",
         0,
         0,
         0,
         1
        ],
        [
         "Training",
         "Staff Accountant IV",
         0,
         0,
         1,
         2
        ],
        [
         "Training",
         "Staff Scientist",
         0,
         1,
         2,
         0
        ],
        [
         "Training",
         "Statistician II",
         1,
         0,
         0,
         0
        ],
        [
         "Training",
         "Statistician III",
         0,
         1,
         0,
         0
        ],
        [
         "Training",
         "Structural Analysis Engineer",
         1,
         0,
         0,
         0
        ],
        [
         "Training",
         "Structural Engineer",
         0,
         1,
         0,
         0
        ],
        [
         "Training",
         "Systems Administrator II",
         0,
         1,
         0,
         0
        ],
        [
         "Training",
         "Systems Administrator IV",
         1,
         0,
         2,
         0
        ],
        [
         "Training",
         "Teacher",
         0,
         2,
         0,
         0
        ],
        [
         "Training",
         "Technical Writer",
         0,
         0,
         1,
         0
        ],
        [
         "Training",
         "VP Product Management",
         1,
         0,
         0,
         0
        ],
        [
         "Training",
         "VP Quality Control",
         0,
         1,
         0,
         0
        ],
        [
         "Training",
         "Web Developer III",
         0,
         1,
         0,
         0
        ]
       ],
       "datasetInfos": [],
       "dbfsResultPath": null,
       "isJsonSchema": true,
       "metadata": {},
       "overflow": false,
       "plotOptions": {
        "customPlotOptions": {},
        "displayType": "table",
        "pivotAggregation": null,
        "pivotColumns": null,
        "xColumns": null,
        "yColumns": null
       },
       "removedWidgets": [],
       "schema": [
        {
         "metadata": "{}",
         "name": "department",
         "type": "\"string\""
        },
        {
         "metadata": "{}",
         "name": "job",
         "type": "\"string\""
        },
        {
         "metadata": "{}",
         "name": "Q1",
         "type": "\"long\""
        },
        {
         "metadata": "{}",
         "name": "Q2",
         "type": "\"long\""
        },
        {
         "metadata": "{}",
         "name": "Q3",
         "type": "\"long\""
        },
        {
         "metadata": "{}",
         "name": "Q4",
         "type": "\"long\""
        }
       ],
       "type": "table"
      }
     },
     "output_type": "display_data"
    }
   ],
   "source": [
    "req_sql_1= spark.sql(f\"\"\"\n",
    "    WITH base_table as (\n",
    "    SELECT h.id\n",
    "        ,h.name\n",
    "        ,to_timestamp(h.datetime, \"yyyy-MM-dd'T'HH:mm:ss'Z'\") as datetime\n",
    "        ,d.department\n",
    "        ,j.job\n",
    "    FROM hired_employees as h\n",
    "        LEFT JOIN departments as d\n",
    "        ON h.department_id=d.id\n",
    "        LEFT JOIN jobs as j \n",
    "        ON h.job_id=j.id\n",
    "        WHERE 1=1\n",
    "        AND year(to_timestamp(h.datetime, \"yyyy-MM-dd'T'HH:mm:ss'Z'\"))={year_to_analize}\n",
    "        {additional_filters(exclude_all_nulls,exclude_name_nulls,exclude_datetime_nulls,exclude_department_nulls,exclude_job_nulls)}\n",
    "    ), hired_by_q as (\n",
    "    SELECT \n",
    "    department\n",
    "    ,job\n",
    "    ,CASE WHEN month(datetime) BETWEEN 1 AND 3 THEN 'Q1' \n",
    "          WHEN month(datetime) BETWEEN 4 AND 6 THEN 'Q2' \n",
    "          WHEN month(datetime) BETWEEN 7 AND 9 THEN 'Q3'\n",
    "          WHEN month(datetime) BETWEEN 10 AND 12 THEN 'Q4'\n",
    "          ELSE NULL \n",
    "    END AS quarters\n",
    "    ,count(DISTINCT(id)) hired    \n",
    "    FROM base_table\n",
    "    WHERE 1=1\n",
    "    GROUP BY \n",
    "    department\n",
    "    ,job\n",
    "    ,CASE WHEN month(datetime) BETWEEN 1 AND 3 THEN 'Q1' \n",
    "          WHEN month(datetime) BETWEEN 4 AND 6 THEN 'Q2' \n",
    "          WHEN month(datetime) BETWEEN 7 AND 9 THEN 'Q3'\n",
    "          WHEN month(datetime) BETWEEN 10 AND 12 THEN 'Q4'\n",
    "          ELSE NULL \n",
    "    END\n",
    "    )\n",
    "    SELECT \n",
    "    department\n",
    "    ,job\n",
    "    ,COALESCE(Q1, 0) AS Q1\n",
    "    ,COALESCE(Q2, 0) AS Q2\n",
    "    ,COALESCE(Q3, 0) AS Q3\n",
    "    ,COALESCE(Q4, 0) AS Q4\n",
    "    FROM hired_by_q\n",
    "    PIVOT (\n",
    "        SUM(hired) \n",
    "        FOR quarters IN ('Q1' AS Q1, 'Q2' AS Q2, 'Q3' AS Q3, 'Q4' AS Q4))\n",
    "    ORDER BY department,job\n",
    "                     \"\"\")\n",
    "\n",
    "req_sql_1.display()"
   ]
  },
  {
   "cell_type": "code",
   "execution_count": 0,
   "metadata": {
    "application/vnd.databricks.v1+cell": {
     "cellMetadata": {
      "byteLimit": 2048000,
      "rowLimit": 10000
     },
     "inputWidgets": {},
     "nuid": "53e99db2-1437-4601-9ead-2efd9e76016a",
     "showTitle": false,
     "tableResultSettingsMap": {},
     "title": ""
    }
   },
   "outputs": [
    {
     "output_type": "display_data",
     "data": {
      "text/html": [
       "<style scoped>\n",
       "  .table-result-container {\n",
       "    max-height: 300px;\n",
       "    overflow: auto;\n",
       "  }\n",
       "  table, th, td {\n",
       "    border: 1px solid black;\n",
       "    border-collapse: collapse;\n",
       "  }\n",
       "  th, td {\n",
       "    padding: 5px;\n",
       "  }\n",
       "  th {\n",
       "    text-align: left;\n",
       "  }\n",
       "</style><div class='table-result-container'><table class='table-result'><thead style='background-color: white'><tr><th>id</th><th>department</th><th>hired</th></tr></thead><tbody><tr><td>8</td><td>Support</td><td>221</td></tr><tr><td>5</td><td>Engineering</td><td>208</td></tr><tr><td>6</td><td>Human Resources</td><td>204</td></tr><tr><td>7</td><td>Services</td><td>204</td></tr><tr><td>4</td><td>Business Development</td><td>187</td></tr><tr><td>3</td><td>Research and Development</td><td>151</td></tr><tr><td>9</td><td>Marketing</td><td>143</td></tr></tbody></table></div>"
      ]
     },
     "metadata": {
      "application/vnd.databricks.v1+output": {
       "addedWidgets": {},
       "aggData": [],
       "aggError": "",
       "aggOverflow": false,
       "aggSchema": [],
       "aggSeriesLimitReached": false,
       "aggType": "",
       "arguments": {},
       "columnCustomDisplayInfos": {},
       "data": [
        [
         "8",
         "Support",
         221
        ],
        [
         "5",
         "Engineering",
         208
        ],
        [
         "6",
         "Human Resources",
         204
        ],
        [
         "7",
         "Services",
         204
        ],
        [
         "4",
         "Business Development",
         187
        ],
        [
         "3",
         "Research and Development",
         151
        ],
        [
         "9",
         "Marketing",
         143
        ]
       ],
       "datasetInfos": [],
       "dbfsResultPath": null,
       "isJsonSchema": true,
       "metadata": {},
       "overflow": false,
       "plotOptions": {
        "customPlotOptions": {},
        "displayType": "table",
        "pivotAggregation": null,
        "pivotColumns": null,
        "xColumns": null,
        "yColumns": null
       },
       "removedWidgets": [],
       "schema": [
        {
         "metadata": "{}",
         "name": "id",
         "type": "\"string\""
        },
        {
         "metadata": "{}",
         "name": "department",
         "type": "\"string\""
        },
        {
         "metadata": "{}",
         "name": "hired",
         "type": "\"long\""
        }
       ],
       "type": "table"
      }
     },
     "output_type": "display_data"
    }
   ],
   "source": [
    "req_sql_2= spark.sql(f\"\"\"\n",
    "        WITH base_table as (\n",
    "        SELECT   h.id\n",
    "                ,h.name\n",
    "                ,to_timestamp(h.datetime, \"yyyy-MM-dd'T'HH:mm:ss'Z'\") as datetime\n",
    "                ,h.department_id\n",
    "                ,d.department\n",
    "        FROM hired_employees as h\n",
    "            LEFT JOIN departments as d\n",
    "            ON h.department_id=d.id\n",
    "        WHERE 1=1\n",
    "        AND year(to_timestamp(h.datetime, \"yyyy-MM-dd'T'HH:mm:ss'Z'\"))={year_to_analize}\n",
    "        {additional_filters(exclude_all_nulls,exclude_name_nulls,exclude_datetime_nulls,exclude_department_nulls,exclude_job_nulls)}\n",
    "        )\n",
    "        , hired_by_dept as (\n",
    "        SELECT department_id as id \n",
    "        ,department\n",
    "        ,count(DISTINCT(id)) as hired\n",
    "        FROM base_table\n",
    "        WHERE 1=1\n",
    "        GROUP BY department_id\n",
    "        ,department\n",
    "        )\n",
    "        SELECT hd.id \n",
    "        ,hd.department\n",
    "        ,hd.hired\n",
    "        FROM hired_by_dept as hd\n",
    "        GROUP BY \n",
    "        hd.id \n",
    "        ,hd.department\n",
    "        ,hd.hired\n",
    "        HAVING hired>(SELECT avg(hired) FROM hired_by_dept)\n",
    "        ORDER BY hired DESC\n",
    "                     \"\"\")\n",
    "\n",
    "req_sql_2.display()"
   ]
  },
  {
   "cell_type": "code",
   "execution_count": 0,
   "metadata": {
    "application/vnd.databricks.v1+cell": {
     "cellMetadata": {},
     "inputWidgets": {},
     "nuid": "4cf75635-96ed-4dd2-95b5-a5885b610b04",
     "showTitle": false,
     "tableResultSettingsMap": {},
     "title": ""
    }
   },
   "outputs": [],
   "source": []
  }
 ],
 "metadata": {
  "application/vnd.databricks.v1+notebook": {
   "dashboards": [],
   "environmentMetadata": null,
   "language": "python",
   "notebookMetadata": {
    "mostRecentlyExecutedCommandWithImplicitDF": {
     "commandId": 1916430250781747,
     "dataframes": [
      "_sqldf"
     ]
    },
    "pythonIndentUnit": 4
   },
   "notebookName": "Coding Challenge JoseBello",
   "widgets": {}
  }
 },
 "nbformat": 4,
 "nbformat_minor": 0
}
